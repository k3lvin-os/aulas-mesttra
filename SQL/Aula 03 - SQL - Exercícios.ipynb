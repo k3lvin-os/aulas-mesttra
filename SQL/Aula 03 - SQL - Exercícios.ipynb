{
 "cells": [
  {
   "cell_type": "markdown",
   "source": [
    "# Aula 3: SQL - Exercícios"
   ],
   "metadata": {}
  },
  {
   "cell_type": "markdown",
   "source": [
    "### Case Olist"
   ],
   "metadata": {}
  },
  {
   "cell_type": "markdown",
   "source": [
    "A Olist é uma loja de departamentos que participa dos principais marketplaces do país:  Mercado Livre, Walmart.com, Americanas.com, Submarino, Casas Bahia entre outros. Mais informações podem ser encontradas [aqui](https://blog.olist.com/olist-chega-para-facilitar-a-vida-de-quem-quer-vender-na-internet-e-em-grandes-varejistas/)."
   ],
   "metadata": {}
  },
  {
   "cell_type": "markdown",
   "source": [
    "![](https://ensinandomaquinasblog.files.wordpress.com/2020/11/f1.png?w=1024)\n",
    "![](https://i.imgur.com/Jory0O3.png)"
   ],
   "metadata": {}
  },
  {
   "cell_type": "markdown",
   "source": [
    "Abaixo, segue uma descrição de cada uma das tabelas contidas no arquivo `salesOlist.db` e em qual arquivo as informações se encontram. Também podem ser conferidas as informações sobre cada coluna.\n",
    " - **Customers**: guarda a cidade, o CEP e o estado do consumidor. Chave: customer_id.\n",
    "  - Colunas:\n",
    "    - **customer_id:** cada pedido possui um único `customer_id`;\n",
    "    - **customer_unique_id:** identificador único de cada consumidor;\n",
    "    - **customer_zip_code_prefix:** primeiros 5 dígitos do CEP do consumidor;\n",
    "    - **customer_city:** cidade onde o consumidor se encontra; \n",
    "    - **customer_state:** estado onde o consumidor se encontra.\n",
    " - **Geolocation**: guarda informações de cidades tais como o CEP, latitude, longitude, nome e estado;\n",
    "  - Colunas:\n",
    "    - **geolocation_zip_code_prefix:** 5 primeiros dígitos do local;\n",
    "    - **geolocation_lat:** latitude do local;\n",
    "    - **geolocation_lng:** longitude do local;\n",
    "    - **geolocation_city:** cidade onde se encontra o local; e\n",
    "    - **geolocation_state:** estado onde se encontra o local.\n",
    " - **OrderItems**: guarda informações sobre quais produtos foram vendidos em cada pedido, seu valor, seu vendedor, preço de venda e preço de frete.\n",
    "  - Colunas:\n",
    "    - **order_id:** identificador único dos pedidos;\n",
    "    - **order_item_id:** identificador sequencial indicando a quantidade de produtos por pedido;\n",
    "    - **product_id:** identificador único de cada produto;\n",
    "    - **seller_id:** identificador único de cada vendedor;\n",
    "    - **price:** preço cobrado por produto; e\n",
    "    - **freight_value:** preço cobrado por frete.\n",
    " - **OrderPayments**: guarda informações sobre o pagamento, parcelas e o valor pago por cada pedido.\n",
    "  - Colunas:\n",
    "    - **order_id:** identificador único de cada pedido;\n",
    "    - **payment_sequential**;\n",
    "    - **payment_type:** método escolhido para o pagamento;\n",
    "    - **payment_installments:** número de parcelas; e\n",
    "    - **payment_value:** total pago.\n",
    " - **OrderReviews**: guarda informações sobre *reviews* do pedido.\n",
    "  - Colunas:\n",
    "    - **review_id:** identificador único de cada avaliação;\n",
    "    - **order_id:** identificador único de cada pedido;\n",
    "    - **review_score:** nota dada ao pedido;\n",
    "    - **review_comment_title:** título do comentário;\n",
    "    - **review_comment_message:** comentário sobre o pedido;\n",
    "    - **review_creation_date:** data do envio do questionário de satisfação; e\n",
    "    - **review_answer_timestamp:** data da resposta ao questionário de satisfação .\n",
    " - **Orders**: guarda informações sobre o qual o consumidor efetuou a compra, o *status* do pedido, data da compra, datas de entrega (estimada e efetiva)\n",
    "  - Colunas:\n",
    "    - **order_id:** identificador único de cada pedido;\n",
    "    - **customer_id:**; \n",
    "    - **order_status:** chave para a tabela `Customers` (cada pedido tem uma única chave);\n",
    "    - **order_purchase_timestamp:** *timestamp* para a data do pedido;\n",
    "    - **order_approved_at:** *timestamp* para a aprovação do pagamento;\n",
    "    - **order_delivered_carrier_date:** *timestamp* para a data de postagem do pedido;\n",
    "    - **order_delivered_customer_date:** data da entrega do pedido; e\n",
    "    - **order_estimated_delivery_date:** data estimada da entrega.\n",
    " - **Products**: guarda informações sobre sobre a categoria e tamanho dos produtos vendidos. \n",
    "  - Colunas:\n",
    "    - **product_id:** identificador único de cada pedido;\n",
    "    - **product_category_name:** nome da categoria do produto;\n",
    "    - **product_name_lenght:** comprimento do nome do produto;\n",
    "    - **product_description_lenght:** comprimento da descrição do produto;\n",
    "    - **product_photos_qty:** quantidade de fotos do produto;\n",
    "    - **product_weight_g:** massa do produto em gramas;\n",
    "    - **product_length_cm:** comprimento do produto em cm;\n",
    "    - **product_height_cm:** altu e\n",
    "    - product_width_cm.\n",
    " - **Sellers**: guarda informações do vendedor, tais como a cidade, estado e o código postal\n",
    "  - Colunas:\n",
    "    -**seller_id:** identificador único do vendedor;\n",
    "    - **seller_zip_code_prefix:** guarda informações dos 4 primeiros dígitos do CEP do vendedor;\n",
    "    - **seller_city:** cidade do vendedor; e\n",
    "    - **seller_state:** estado do vendedor.\n",
    " - **QualifiedLeads**: informações de *leads* da Olist.\n",
    "  - Colunas:\n",
    "    - **mql_id:** identificador único da *lead*;\n",
    "    - **first_contact_date:** data do primeiro contato;\n",
    "    - **landing_page_id:** página que adquiriu a *lead*; e \n",
    "    - **origin:** tipo da mídia que adquriu a *lead*.\n",
    " - **ClosedDeals**: informações de negócios com vendedores \n",
    "    - **mql_id:** identificador único da lead;\n",
    "    - **seller_id:** identificador único do vendedor;\n",
    "    - **sdr_id:** identificador único do representante de vendas e desenvolvimento;\n",
    "    - **sr_id:** identificador único do representante de vendas;\n",
    "    - **won_date:** data do fechamento do contrato;\n",
    "    - **business_segment:** segmento do *lead*; \n",
    "    - **lead_type:** tipo da *lead* (*online*, *offline*, indústria, etc);\n",
    "    - **lead_behaviour_profile:** \n",
    "    - **has_company:**: o *lead* tem uma companhia (documentada)?\n",
    "    - **has_gtin:** a companhia possi código de barras internacional para seus produtos?\n",
    "    - **average_stock:** tamanho do estoque declarado;\n",
    "    - **business_type:** tipo de negócio (revendedor/fabricante/etc);\n",
    "    - **declared_product_catalog_size:** tamanho do catálogo declarado; e\n",
    "    - **declared_monthly_revenue:** renda mensal declarada."
   ],
   "metadata": {}
  },
  {
   "cell_type": "code",
   "execution_count": 5,
   "source": [
    "!pip install pandas"
   ],
   "outputs": [
    {
     "output_type": "stream",
     "name": "stdout",
     "text": [
      "Collecting pandas\n",
      "  Downloading pandas-1.3.1-cp39-cp39-win_amd64.whl (10.4 MB)\n",
      "Collecting numpy>=1.17.3\n",
      "  Downloading numpy-1.21.1-cp39-cp39-win_amd64.whl (14.0 MB)\n",
      "Requirement already satisfied: python-dateutil>=2.7.3 in c:\\users\\re035597\\miniconda3\\lib\\site-packages (from pandas) (2.8.2)\n",
      "Requirement already satisfied: pytz>=2017.3 in c:\\users\\re035597\\miniconda3\\lib\\site-packages (from pandas) (2021.1)\n",
      "Requirement already satisfied: six>=1.5 in c:\\users\\re035597\\miniconda3\\lib\\site-packages (from python-dateutil>=2.7.3->pandas) (1.16.0)\n",
      "Installing collected packages: numpy, pandas\n",
      "Successfully installed numpy-1.21.1 pandas-1.3.1\n"
     ]
    }
   ],
   "metadata": {}
  },
  {
   "cell_type": "code",
   "execution_count": 1,
   "source": [
    "import pandas as pd\r\n",
    "import sqlite3"
   ],
   "outputs": [],
   "metadata": {
    "ExecuteTime": {
     "end_time": "2021-07-17T17:21:31.475446Z",
     "start_time": "2021-07-17T17:21:30.819768Z"
    }
   }
  },
  {
   "cell_type": "code",
   "execution_count": 2,
   "source": [
    "con = sqlite3.connect('salesOlist.db')\r\n",
    "cursor = con.cursor()\r\n",
    "cursor.execute('SELECT name FROM sqlite_master WHERE type=\"table\" ORDER BY name')\r\n",
    "cursor.fetchall()"
   ],
   "outputs": [
    {
     "output_type": "execute_result",
     "data": {
      "text/plain": [
       "[('ClosedDeals',),\n",
       " ('Customers',),\n",
       " ('Geolocation',),\n",
       " ('OrderItems',),\n",
       " ('OrderPayments',),\n",
       " ('OrderReviews',),\n",
       " ('Orders',),\n",
       " ('Products',),\n",
       " ('QualifiedLeads',),\n",
       " ('Sellers',)]"
      ]
     },
     "metadata": {},
     "execution_count": 2
    }
   ],
   "metadata": {
    "ExecuteTime": {
     "end_time": "2021-07-17T17:21:31.711686Z",
     "start_time": "2021-07-17T17:21:31.684676Z"
    }
   }
  },
  {
   "cell_type": "markdown",
   "source": [
    "## Mostre 5 linhas da tabela `Customers`"
   ],
   "metadata": {}
  },
  {
   "cell_type": "code",
   "execution_count": 8,
   "source": [
    "pd.read_sql(\"\"\" \r\n",
    "    SELECT \r\n",
    "    *\r\n",
    "    FROM\r\n",
    "    Customers\r\n",
    "    LIMIT 5\r\n",
    "\"\"\", con)"
   ],
   "outputs": [
    {
     "output_type": "execute_result",
     "data": {
      "text/plain": [
       "                        customer_id                customer_unique_id  \\\n",
       "0  06b8999e2fba1a1fbc88172c00ba8bc7  861eff4711a542e4b93843c6dd7febb0   \n",
       "1  18955e83d337fd6b2def6b18a428ac77  290c77bc529b7ac935b93aa66c333dc3   \n",
       "2  4e7b3e00288586ebd08712fdd0374a03  060e732b5b29e8181a18229c7b0b2b5e   \n",
       "3  b2b6027bc5c5109e529d4dc6358b12c3  259dac757896d24d7702b9acbbff3f3c   \n",
       "4  4f2d8ab171c80ec8364f7c12e35b23ad  345ecd01c38d18a9036ed96c73b8d066   \n",
       "\n",
       "   customer_zip_code_prefix          customer_city customer_state  \n",
       "0                     14409                 franca             SP  \n",
       "1                      9790  sao bernardo do campo             SP  \n",
       "2                      1151              sao paulo             SP  \n",
       "3                      8775        mogi das cruzes             SP  \n",
       "4                     13056               campinas             SP  "
      ],
      "text/html": [
       "<div>\n",
       "<style scoped>\n",
       "    .dataframe tbody tr th:only-of-type {\n",
       "        vertical-align: middle;\n",
       "    }\n",
       "\n",
       "    .dataframe tbody tr th {\n",
       "        vertical-align: top;\n",
       "    }\n",
       "\n",
       "    .dataframe thead th {\n",
       "        text-align: right;\n",
       "    }\n",
       "</style>\n",
       "<table border=\"1\" class=\"dataframe\">\n",
       "  <thead>\n",
       "    <tr style=\"text-align: right;\">\n",
       "      <th></th>\n",
       "      <th>customer_id</th>\n",
       "      <th>customer_unique_id</th>\n",
       "      <th>customer_zip_code_prefix</th>\n",
       "      <th>customer_city</th>\n",
       "      <th>customer_state</th>\n",
       "    </tr>\n",
       "  </thead>\n",
       "  <tbody>\n",
       "    <tr>\n",
       "      <th>0</th>\n",
       "      <td>06b8999e2fba1a1fbc88172c00ba8bc7</td>\n",
       "      <td>861eff4711a542e4b93843c6dd7febb0</td>\n",
       "      <td>14409</td>\n",
       "      <td>franca</td>\n",
       "      <td>SP</td>\n",
       "    </tr>\n",
       "    <tr>\n",
       "      <th>1</th>\n",
       "      <td>18955e83d337fd6b2def6b18a428ac77</td>\n",
       "      <td>290c77bc529b7ac935b93aa66c333dc3</td>\n",
       "      <td>9790</td>\n",
       "      <td>sao bernardo do campo</td>\n",
       "      <td>SP</td>\n",
       "    </tr>\n",
       "    <tr>\n",
       "      <th>2</th>\n",
       "      <td>4e7b3e00288586ebd08712fdd0374a03</td>\n",
       "      <td>060e732b5b29e8181a18229c7b0b2b5e</td>\n",
       "      <td>1151</td>\n",
       "      <td>sao paulo</td>\n",
       "      <td>SP</td>\n",
       "    </tr>\n",
       "    <tr>\n",
       "      <th>3</th>\n",
       "      <td>b2b6027bc5c5109e529d4dc6358b12c3</td>\n",
       "      <td>259dac757896d24d7702b9acbbff3f3c</td>\n",
       "      <td>8775</td>\n",
       "      <td>mogi das cruzes</td>\n",
       "      <td>SP</td>\n",
       "    </tr>\n",
       "    <tr>\n",
       "      <th>4</th>\n",
       "      <td>4f2d8ab171c80ec8364f7c12e35b23ad</td>\n",
       "      <td>345ecd01c38d18a9036ed96c73b8d066</td>\n",
       "      <td>13056</td>\n",
       "      <td>campinas</td>\n",
       "      <td>SP</td>\n",
       "    </tr>\n",
       "  </tbody>\n",
       "</table>\n",
       "</div>"
      ]
     },
     "metadata": {},
     "execution_count": 8
    }
   ],
   "metadata": {}
  },
  {
   "cell_type": "markdown",
   "source": [
    "## Mostre 5 linhas da tabela `Geolocation`"
   ],
   "metadata": {}
  },
  {
   "cell_type": "code",
   "execution_count": 9,
   "source": [
    "pd.read_sql(\"\"\"\r\n",
    "SELECT \r\n",
    "*\r\n",
    "FROM\r\n",
    "Geolocation\r\n",
    "LIMIT 5\r\n",
    "\"\"\", con)"
   ],
   "outputs": [
    {
     "output_type": "execute_result",
     "data": {
      "text/plain": [
       "  geolocation_zip_code_prefix  geolocation_lat  geolocation_lng  \\\n",
       "0                       01037       -23.545621       -46.639292   \n",
       "1                       01046       -23.546081       -46.644820   \n",
       "2                       01046       -23.546129       -46.642951   \n",
       "3                       01041       -23.544392       -46.639499   \n",
       "4                       01035       -23.541578       -46.641607   \n",
       "\n",
       "  geolocation_city geolocation_state  \n",
       "0        sao paulo                SP  \n",
       "1        sao paulo                SP  \n",
       "2        sao paulo                SP  \n",
       "3        sao paulo                SP  \n",
       "4        sao paulo                SP  "
      ],
      "text/html": [
       "<div>\n",
       "<style scoped>\n",
       "    .dataframe tbody tr th:only-of-type {\n",
       "        vertical-align: middle;\n",
       "    }\n",
       "\n",
       "    .dataframe tbody tr th {\n",
       "        vertical-align: top;\n",
       "    }\n",
       "\n",
       "    .dataframe thead th {\n",
       "        text-align: right;\n",
       "    }\n",
       "</style>\n",
       "<table border=\"1\" class=\"dataframe\">\n",
       "  <thead>\n",
       "    <tr style=\"text-align: right;\">\n",
       "      <th></th>\n",
       "      <th>geolocation_zip_code_prefix</th>\n",
       "      <th>geolocation_lat</th>\n",
       "      <th>geolocation_lng</th>\n",
       "      <th>geolocation_city</th>\n",
       "      <th>geolocation_state</th>\n",
       "    </tr>\n",
       "  </thead>\n",
       "  <tbody>\n",
       "    <tr>\n",
       "      <th>0</th>\n",
       "      <td>01037</td>\n",
       "      <td>-23.545621</td>\n",
       "      <td>-46.639292</td>\n",
       "      <td>sao paulo</td>\n",
       "      <td>SP</td>\n",
       "    </tr>\n",
       "    <tr>\n",
       "      <th>1</th>\n",
       "      <td>01046</td>\n",
       "      <td>-23.546081</td>\n",
       "      <td>-46.644820</td>\n",
       "      <td>sao paulo</td>\n",
       "      <td>SP</td>\n",
       "    </tr>\n",
       "    <tr>\n",
       "      <th>2</th>\n",
       "      <td>01046</td>\n",
       "      <td>-23.546129</td>\n",
       "      <td>-46.642951</td>\n",
       "      <td>sao paulo</td>\n",
       "      <td>SP</td>\n",
       "    </tr>\n",
       "    <tr>\n",
       "      <th>3</th>\n",
       "      <td>01041</td>\n",
       "      <td>-23.544392</td>\n",
       "      <td>-46.639499</td>\n",
       "      <td>sao paulo</td>\n",
       "      <td>SP</td>\n",
       "    </tr>\n",
       "    <tr>\n",
       "      <th>4</th>\n",
       "      <td>01035</td>\n",
       "      <td>-23.541578</td>\n",
       "      <td>-46.641607</td>\n",
       "      <td>sao paulo</td>\n",
       "      <td>SP</td>\n",
       "    </tr>\n",
       "  </tbody>\n",
       "</table>\n",
       "</div>"
      ]
     },
     "metadata": {},
     "execution_count": 9
    }
   ],
   "metadata": {}
  },
  {
   "cell_type": "markdown",
   "source": [
    "## Crie uma tabela nova juntando as tabelas `Customers` e `Geolocation`"
   ],
   "metadata": {}
  },
  {
   "cell_type": "code",
   "execution_count": 3,
   "source": [
    "pd.read_sql(\"\"\"\r\n",
    "SELECT *\r\n",
    "FROM \r\n",
    "Customers\r\n",
    "LEFT JOIN\r\n",
    "Geolocation ON geolocation_zip_code_prefix = customer_zip_code_prefix\r\n",
    "LIMIT 5\r\n",
    "\"\"\", con)"
   ],
   "outputs": [
    {
     "output_type": "execute_result",
     "data": {
      "text/plain": [
       "                        customer_id                customer_unique_id  \\\n",
       "0  06b8999e2fba1a1fbc88172c00ba8bc7  861eff4711a542e4b93843c6dd7febb0   \n",
       "1  06b8999e2fba1a1fbc88172c00ba8bc7  861eff4711a542e4b93843c6dd7febb0   \n",
       "2  06b8999e2fba1a1fbc88172c00ba8bc7  861eff4711a542e4b93843c6dd7febb0   \n",
       "3  06b8999e2fba1a1fbc88172c00ba8bc7  861eff4711a542e4b93843c6dd7febb0   \n",
       "4  06b8999e2fba1a1fbc88172c00ba8bc7  861eff4711a542e4b93843c6dd7febb0   \n",
       "\n",
       "   customer_zip_code_prefix customer_city customer_state  \\\n",
       "0                     14409        franca             SP   \n",
       "1                     14409        franca             SP   \n",
       "2                     14409        franca             SP   \n",
       "3                     14409        franca             SP   \n",
       "4                     14409        franca             SP   \n",
       "\n",
       "  geolocation_zip_code_prefix  geolocation_lat  geolocation_lng  \\\n",
       "0                       14409       -20.509897       -47.397866   \n",
       "1                       14409       -20.497396       -47.399241   \n",
       "2                       14409       -20.510459       -47.399553   \n",
       "3                       14409       -20.480940       -47.394161   \n",
       "4                       14409       -20.515413       -47.398194   \n",
       "\n",
       "  geolocation_city geolocation_state  \n",
       "0           franca                SP  \n",
       "1           franca                SP  \n",
       "2           franca                SP  \n",
       "3           franca                SP  \n",
       "4           franca                SP  "
      ],
      "text/html": [
       "<div>\n",
       "<style scoped>\n",
       "    .dataframe tbody tr th:only-of-type {\n",
       "        vertical-align: middle;\n",
       "    }\n",
       "\n",
       "    .dataframe tbody tr th {\n",
       "        vertical-align: top;\n",
       "    }\n",
       "\n",
       "    .dataframe thead th {\n",
       "        text-align: right;\n",
       "    }\n",
       "</style>\n",
       "<table border=\"1\" class=\"dataframe\">\n",
       "  <thead>\n",
       "    <tr style=\"text-align: right;\">\n",
       "      <th></th>\n",
       "      <th>customer_id</th>\n",
       "      <th>customer_unique_id</th>\n",
       "      <th>customer_zip_code_prefix</th>\n",
       "      <th>customer_city</th>\n",
       "      <th>customer_state</th>\n",
       "      <th>geolocation_zip_code_prefix</th>\n",
       "      <th>geolocation_lat</th>\n",
       "      <th>geolocation_lng</th>\n",
       "      <th>geolocation_city</th>\n",
       "      <th>geolocation_state</th>\n",
       "    </tr>\n",
       "  </thead>\n",
       "  <tbody>\n",
       "    <tr>\n",
       "      <th>0</th>\n",
       "      <td>06b8999e2fba1a1fbc88172c00ba8bc7</td>\n",
       "      <td>861eff4711a542e4b93843c6dd7febb0</td>\n",
       "      <td>14409</td>\n",
       "      <td>franca</td>\n",
       "      <td>SP</td>\n",
       "      <td>14409</td>\n",
       "      <td>-20.509897</td>\n",
       "      <td>-47.397866</td>\n",
       "      <td>franca</td>\n",
       "      <td>SP</td>\n",
       "    </tr>\n",
       "    <tr>\n",
       "      <th>1</th>\n",
       "      <td>06b8999e2fba1a1fbc88172c00ba8bc7</td>\n",
       "      <td>861eff4711a542e4b93843c6dd7febb0</td>\n",
       "      <td>14409</td>\n",
       "      <td>franca</td>\n",
       "      <td>SP</td>\n",
       "      <td>14409</td>\n",
       "      <td>-20.497396</td>\n",
       "      <td>-47.399241</td>\n",
       "      <td>franca</td>\n",
       "      <td>SP</td>\n",
       "    </tr>\n",
       "    <tr>\n",
       "      <th>2</th>\n",
       "      <td>06b8999e2fba1a1fbc88172c00ba8bc7</td>\n",
       "      <td>861eff4711a542e4b93843c6dd7febb0</td>\n",
       "      <td>14409</td>\n",
       "      <td>franca</td>\n",
       "      <td>SP</td>\n",
       "      <td>14409</td>\n",
       "      <td>-20.510459</td>\n",
       "      <td>-47.399553</td>\n",
       "      <td>franca</td>\n",
       "      <td>SP</td>\n",
       "    </tr>\n",
       "    <tr>\n",
       "      <th>3</th>\n",
       "      <td>06b8999e2fba1a1fbc88172c00ba8bc7</td>\n",
       "      <td>861eff4711a542e4b93843c6dd7febb0</td>\n",
       "      <td>14409</td>\n",
       "      <td>franca</td>\n",
       "      <td>SP</td>\n",
       "      <td>14409</td>\n",
       "      <td>-20.480940</td>\n",
       "      <td>-47.394161</td>\n",
       "      <td>franca</td>\n",
       "      <td>SP</td>\n",
       "    </tr>\n",
       "    <tr>\n",
       "      <th>4</th>\n",
       "      <td>06b8999e2fba1a1fbc88172c00ba8bc7</td>\n",
       "      <td>861eff4711a542e4b93843c6dd7febb0</td>\n",
       "      <td>14409</td>\n",
       "      <td>franca</td>\n",
       "      <td>SP</td>\n",
       "      <td>14409</td>\n",
       "      <td>-20.515413</td>\n",
       "      <td>-47.398194</td>\n",
       "      <td>franca</td>\n",
       "      <td>SP</td>\n",
       "    </tr>\n",
       "  </tbody>\n",
       "</table>\n",
       "</div>"
      ]
     },
     "metadata": {},
     "execution_count": 3
    }
   ],
   "metadata": {}
  },
  {
   "cell_type": "markdown",
   "source": [
    "## Informe todas as colunas da tabela `Customers` e adicione uma coluna (`region`) com a seguinte regra:\n",
    "\n",
    "- Se o `customer_state` for SP, MG, RJ ou ES então region será \"Sudeste\", do contrário será \"Outro\""
   ],
   "metadata": {}
  },
  {
   "cell_type": "code",
   "execution_count": 28,
   "source": [
    "pd.read_sql(\"\"\"\r\n",
    "SELECT \r\n",
    "*\r\n",
    "FROM Customers\r\n",
    "LIMIT 0\"\"\", con).columns"
   ],
   "outputs": [
    {
     "output_type": "execute_result",
     "data": {
      "text/plain": [
       "Index(['customer_id', 'customer_unique_id', 'customer_zip_code_prefix',\n",
       "       'customer_city', 'customer_state', 'region'],\n",
       "      dtype='object')"
      ]
     },
     "metadata": {},
     "execution_count": 28
    }
   ],
   "metadata": {}
  },
  {
   "cell_type": "code",
   "execution_count": 8,
   "source": [
    "con.executescript(\"\"\"\r\n",
    "ALTER TABLE \r\n",
    "Customers\r\n",
    "ADD COLUMN region VARCHAR(10)\r\n",
    "\"\"\")"
   ],
   "outputs": [
    {
     "output_type": "execute_result",
     "data": {
      "text/plain": [
       "<sqlite3.Cursor at 0x2a0dfe1ef10>"
      ]
     },
     "metadata": {},
     "execution_count": 8
    }
   ],
   "metadata": {}
  },
  {
   "cell_type": "code",
   "execution_count": 31,
   "source": [
    "con.executescript(\"\"\"\r\n",
    "UPDATE \r\n",
    "Customers \r\n",
    "SET \r\n",
    "region = \r\n",
    "    CASE \r\n",
    "        WHEN customer_state IN ('SP', 'MG', 'RJ', 'ES') THEN \r\n",
    "        'Sudeste' \r\n",
    "        ELSE\r\n",
    "         'Outro'\r\n",
    "    END\r\n",
    "\"\"\")"
   ],
   "outputs": [
    {
     "output_type": "execute_result",
     "data": {
      "text/plain": [
       "<sqlite3.Cursor at 0x2a0df765490>"
      ]
     },
     "metadata": {},
     "execution_count": 31
    }
   ],
   "metadata": {}
  },
  {
   "cell_type": "code",
   "execution_count": 44,
   "source": [
    "pd.read_sql(\"\"\"\r\n",
    "SELECT\r\n",
    "* \r\n",
    "FROM\r\n",
    "Customers\r\n",
    "\"\"\", con)[[\"region\", \"customer_state\"]].groupby(\"region\", group_keys=False).customer_state.value_counts()"
   ],
   "outputs": [
    {
     "output_type": "execute_result",
     "data": {
      "text/plain": [
       "region   customer_state\n",
       "Outro    RS                 5466\n",
       "         PR                 5045\n",
       "         SC                 3637\n",
       "         BA                 3380\n",
       "         DF                 2140\n",
       "         GO                 2020\n",
       "         PE                 1652\n",
       "         CE                 1336\n",
       "         PA                  975\n",
       "         MT                  907\n",
       "         MA                  747\n",
       "         MS                  715\n",
       "         PB                  536\n",
       "         PI                  495\n",
       "         RN                  485\n",
       "         AL                  413\n",
       "         SE                  350\n",
       "         TO                  280\n",
       "         RO                  253\n",
       "         AM                  148\n",
       "         AC                   81\n",
       "         AP                   68\n",
       "         RR                   46\n",
       "Sudeste  SP                41746\n",
       "         RJ                12852\n",
       "         MG                11635\n",
       "         ES                 2033\n",
       "Name: customer_state, dtype: int64"
      ]
     },
     "metadata": {},
     "execution_count": 44
    }
   ],
   "metadata": {}
  },
  {
   "cell_type": "markdown",
   "source": [
    "## Crie uma tabela contendo as seguintes colunas:\n",
    "\n",
    "- customer_unique_id\n",
    "- order_id\n",
    "- payment_type\n",
    "- payment_value"
   ],
   "metadata": {}
  },
  {
   "cell_type": "code",
   "execution_count": 45,
   "source": [
    "con.executescript(\"\"\"\r\n",
    "    CREATE TABLE payments(\r\n",
    "        customer_unique_id INT AUTO_INCREMENT PRIMARY KEY,\r\n",
    "        order_id INT NOT NULL, \r\n",
    "        payment_type INT NOT NULL,\r\n",
    "        payment_value REAL NOT NULL\r\n",
    "    )\r\n",
    "\"\"\")"
   ],
   "outputs": [
    {
     "output_type": "execute_result",
     "data": {
      "text/plain": [
       "<sqlite3.Cursor at 0x2a0eba90ab0>"
      ]
     },
     "metadata": {},
     "execution_count": 45
    }
   ],
   "metadata": {}
  },
  {
   "cell_type": "code",
   "execution_count": 47,
   "source": [
    "pd.read_sql(\"\"\"\r\n",
    "SELECT\r\n",
    "*\r\n",
    "FROM \r\n",
    "payments\r\n",
    "\"\"\", con)"
   ],
   "outputs": [
    {
     "output_type": "execute_result",
     "data": {
      "text/plain": [
       "Empty DataFrame\n",
       "Columns: [customer_unique_id, order_id, payment_type, payment_value]\n",
       "Index: []"
      ],
      "text/html": [
       "<div>\n",
       "<style scoped>\n",
       "    .dataframe tbody tr th:only-of-type {\n",
       "        vertical-align: middle;\n",
       "    }\n",
       "\n",
       "    .dataframe tbody tr th {\n",
       "        vertical-align: top;\n",
       "    }\n",
       "\n",
       "    .dataframe thead th {\n",
       "        text-align: right;\n",
       "    }\n",
       "</style>\n",
       "<table border=\"1\" class=\"dataframe\">\n",
       "  <thead>\n",
       "    <tr style=\"text-align: right;\">\n",
       "      <th></th>\n",
       "      <th>customer_unique_id</th>\n",
       "      <th>order_id</th>\n",
       "      <th>payment_type</th>\n",
       "      <th>payment_value</th>\n",
       "    </tr>\n",
       "  </thead>\n",
       "  <tbody>\n",
       "  </tbody>\n",
       "</table>\n",
       "</div>"
      ]
     },
     "metadata": {},
     "execution_count": 47
    }
   ],
   "metadata": {}
  },
  {
   "cell_type": "markdown",
   "source": [
    "## Crie uma tabela contendo as seguintes colunas:\n",
    "\n",
    "- landing_page_id\n",
    "- origin\n",
    "- lead_type\n",
    "- seller_id\n",
    "- seller_city\n",
    "- seller_state"
   ],
   "metadata": {}
  },
  {
   "cell_type": "code",
   "execution_count": 49,
   "source": [
    "con.executescript(\"\"\"\r\n",
    "    CREATE TABLE sellings(\r\n",
    "        landing_page_id INT AUTO_INCREMENT PRIMARY KEY,\r\n",
    "        origin INT NOT NULL, \r\n",
    "        lead_type INT NOT NULL,\r\n",
    "        seller_id INT NOT NULL,\r\n",
    "        seller_city INT NOT NULL,\r\n",
    "        seller_state INT NOT NULL\r\n",
    "    )\r\n",
    "\"\"\")"
   ],
   "outputs": [
    {
     "output_type": "execute_result",
     "data": {
      "text/plain": [
       "<sqlite3.Cursor at 0x2a0e201f650>"
      ]
     },
     "metadata": {},
     "execution_count": 49
    }
   ],
   "metadata": {}
  },
  {
   "cell_type": "code",
   "execution_count": 50,
   "source": [
    "pd.read_sql(\"\"\"\r\n",
    "SELECT\r\n",
    "*\r\n",
    "FROM\r\n",
    "sellings \r\n",
    "\"\"\", con)"
   ],
   "outputs": [
    {
     "output_type": "execute_result",
     "data": {
      "text/plain": [
       "Empty DataFrame\n",
       "Columns: [landing_page_id, origin, lead_type, seller_id, seller_city, seller_state]\n",
       "Index: []"
      ],
      "text/html": [
       "<div>\n",
       "<style scoped>\n",
       "    .dataframe tbody tr th:only-of-type {\n",
       "        vertical-align: middle;\n",
       "    }\n",
       "\n",
       "    .dataframe tbody tr th {\n",
       "        vertical-align: top;\n",
       "    }\n",
       "\n",
       "    .dataframe thead th {\n",
       "        text-align: right;\n",
       "    }\n",
       "</style>\n",
       "<table border=\"1\" class=\"dataframe\">\n",
       "  <thead>\n",
       "    <tr style=\"text-align: right;\">\n",
       "      <th></th>\n",
       "      <th>landing_page_id</th>\n",
       "      <th>origin</th>\n",
       "      <th>lead_type</th>\n",
       "      <th>seller_id</th>\n",
       "      <th>seller_city</th>\n",
       "      <th>seller_state</th>\n",
       "    </tr>\n",
       "  </thead>\n",
       "  <tbody>\n",
       "  </tbody>\n",
       "</table>\n",
       "</div>"
      ]
     },
     "metadata": {},
     "execution_count": 50
    }
   ],
   "metadata": {}
  }
 ],
 "metadata": {
  "hide_input": false,
  "kernelspec": {
   "name": "python3",
   "display_name": "Python 3.9.5 64-bit ('base': conda)"
  },
  "language_info": {
   "codemirror_mode": {
    "name": "ipython",
    "version": 3
   },
   "file_extension": ".py",
   "mimetype": "text/x-python",
   "name": "python",
   "nbconvert_exporter": "python",
   "pygments_lexer": "ipython3",
   "version": "3.9.5"
  },
  "toc": {
   "base_numbering": 1,
   "nav_menu": {},
   "number_sections": true,
   "sideBar": true,
   "skip_h1_title": false,
   "title_cell": "Table of Contents",
   "title_sidebar": "Contents",
   "toc_cell": false,
   "toc_position": {},
   "toc_section_display": true,
   "toc_window_display": true
  },
  "varInspector": {
   "cols": {
    "lenName": 16,
    "lenType": 16,
    "lenVar": 40
   },
   "kernels_config": {
    "python": {
     "delete_cmd_postfix": "",
     "delete_cmd_prefix": "del ",
     "library": "var_list.py",
     "varRefreshCmd": "print(var_dic_list())"
    },
    "r": {
     "delete_cmd_postfix": ") ",
     "delete_cmd_prefix": "rm(",
     "library": "var_list.r",
     "varRefreshCmd": "cat(var_dic_list()) "
    }
   },
   "types_to_exclude": [
    "module",
    "function",
    "builtin_function_or_method",
    "instance",
    "_Feature"
   ],
   "window_display": false
  },
  "interpreter": {
   "hash": "3a955cc5556f316a3ecc6b5bbd4a55efbb1bf53ac2c29c7b1487d913761da6ca"
  }
 },
 "nbformat": 4,
 "nbformat_minor": 4
}