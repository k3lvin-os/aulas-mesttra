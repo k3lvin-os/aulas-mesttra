{
  "nbformat": 4,
  "nbformat_minor": 0,
  "metadata": {
    "hide_input": false,
    "kernelspec": {
      "display_name": "Python 3",
      "language": "python",
      "name": "python3"
    },
    "language_info": {
      "codemirror_mode": {
        "name": "ipython",
        "version": 3
      },
      "file_extension": ".py",
      "mimetype": "text/x-python",
      "name": "python",
      "nbconvert_exporter": "python",
      "pygments_lexer": "ipython3",
      "version": "3.8.3"
    },
    "toc": {
      "base_numbering": 1,
      "nav_menu": {},
      "number_sections": true,
      "sideBar": true,
      "skip_h1_title": false,
      "title_cell": "Table of Contents",
      "title_sidebar": "Contents",
      "toc_cell": false,
      "toc_position": {},
      "toc_section_display": true,
      "toc_window_display": true
    },
    "varInspector": {
      "cols": {
        "lenName": 16,
        "lenType": 16,
        "lenVar": 40
      },
      "kernels_config": {
        "python": {
          "delete_cmd_postfix": "",
          "delete_cmd_prefix": "del ",
          "library": "var_list.py",
          "varRefreshCmd": "print(var_dic_list())"
        },
        "r": {
          "delete_cmd_postfix": ") ",
          "delete_cmd_prefix": "rm(",
          "library": "var_list.r",
          "varRefreshCmd": "cat(var_dic_list()) "
        }
      },
      "types_to_exclude": [
        "module",
        "function",
        "builtin_function_or_method",
        "instance",
        "_Feature"
      ],
      "window_display": false
    },
    "colab": {
      "name": "Aula 02 - SQL - Códigos.ipynb",
      "provenance": []
    }
  },
  "cells": [
    {
      "cell_type": "markdown",
      "metadata": {
        "id": "CIEgGwcRURZW"
      },
      "source": [
        "# Aula 2: SQL"
      ]
    },
    {
      "cell_type": "markdown",
      "metadata": {
        "id": "KDGsCGcaURZX"
      },
      "source": [
        "## Introdução"
      ]
    },
    {
      "cell_type": "markdown",
      "metadata": {
        "id": "R3yXaC6UURZX"
      },
      "source": [
        "Nesta aula veremos as principais queries de consulta em sql"
      ]
    },
    {
      "cell_type": "markdown",
      "metadata": {
        "id": "8h4EH3_kURZY"
      },
      "source": [
        "## Conexao no db4free via sqlalchemy"
      ]
    },
    {
      "cell_type": "code",
      "metadata": {
        "id": "T-bMVwuSURZY",
        "outputId": "3b26c6c6-2fad-4b7c-8d1c-fb1852626b54",
        "colab": {
          "base_uri": "https://localhost:8080/"
        }
      },
      "source": [
        "!pip install SQLAlchemy --user --upgrade"
      ],
      "execution_count": 16,
      "outputs": [
        {
          "output_type": "stream",
          "text": [
            "Requirement already satisfied: SQLAlchemy in /root/.local/lib/python3.7/site-packages (1.4.22)\n",
            "Requirement already satisfied: greenlet!=0.4.17 in /usr/local/lib/python3.7/dist-packages (from SQLAlchemy) (1.1.0)\n",
            "Requirement already satisfied: importlib-metadata in /usr/local/lib/python3.7/dist-packages (from SQLAlchemy) (4.6.1)\n",
            "Requirement already satisfied: zipp>=0.5 in /usr/local/lib/python3.7/dist-packages (from importlib-metadata->SQLAlchemy) (3.5.0)\n",
            "Requirement already satisfied: typing-extensions>=3.6.4 in /usr/local/lib/python3.7/dist-packages (from importlib-metadata->SQLAlchemy) (3.7.4.3)\n"
          ],
          "name": "stdout"
        }
      ]
    },
    {
      "cell_type": "code",
      "metadata": {
        "ExecuteTime": {
          "end_time": "2021-07-21T00:19:17.522288Z",
          "start_time": "2021-07-21T00:19:17.504284Z"
        },
        "id": "uxrfhDuYURZZ"
      },
      "source": [
        "import yaml \n",
        "import sqlalchemy\n",
        "import pandas as pd"
      ],
      "execution_count": 17,
      "outputs": []
    },
    {
      "cell_type": "code",
      "metadata": {
        "id": "80y6x-xSUy-N",
        "outputId": "fe8a764c-279b-41c6-af56-2cda8f0d218c",
        "colab": {
          "base_uri": "https://localhost:8080/"
        }
      },
      "source": [
        "!pip install -U PyYAML"
      ],
      "execution_count": 6,
      "outputs": [
        {
          "output_type": "stream",
          "text": [
            "Requirement already satisfied: PyYAML in /usr/local/lib/python3.7/dist-packages (5.4.1)\n"
          ],
          "name": "stdout"
        }
      ]
    },
    {
      "cell_type": "code",
      "metadata": {
        "id": "Cxs35k52VOae",
        "outputId": "01faec34-ad80-4878-e0c1-2dc9cfa80c33",
        "colab": {
          "base_uri": "https://localhost:8080/"
        }
      },
      "source": [
        "pip install mysqlclient\n"
      ],
      "execution_count": 7,
      "outputs": [
        {
          "output_type": "stream",
          "text": [
            "Collecting mysqlclient\n",
            "  Downloading mysqlclient-2.0.3.tar.gz (88 kB)\n",
            "\u001b[?25l\r\u001b[K     |███▊                            | 10 kB 33.1 MB/s eta 0:00:01\r\u001b[K     |███████▍                        | 20 kB 29.7 MB/s eta 0:00:01\r\u001b[K     |███████████                     | 30 kB 19.7 MB/s eta 0:00:01\r\u001b[K     |██████████████▊                 | 40 kB 16.6 MB/s eta 0:00:01\r\u001b[K     |██████████████████▍             | 51 kB 7.5 MB/s eta 0:00:01\r\u001b[K     |██████████████████████▏         | 61 kB 8.7 MB/s eta 0:00:01\r\u001b[K     |█████████████████████████▉      | 71 kB 9.2 MB/s eta 0:00:01\r\u001b[K     |█████████████████████████████▌  | 81 kB 9.5 MB/s eta 0:00:01\r\u001b[K     |████████████████████████████████| 88 kB 5.0 MB/s \n",
            "\u001b[?25hBuilding wheels for collected packages: mysqlclient\n",
            "  Building wheel for mysqlclient (setup.py) ... \u001b[?25l\u001b[?25hdone\n",
            "  Created wheel for mysqlclient: filename=mysqlclient-2.0.3-cp37-cp37m-linux_x86_64.whl size=100142 sha256=e398d63a70b0ea85fb09f7893cbdf12a2d374775fbab39f27ee5929950e7dec6\n",
            "  Stored in directory: /root/.cache/pip/wheels/79/1c/f8/11fafab45fe6696eea63794a5d747b9c6b54990ac6f1885fb7\n",
            "Successfully built mysqlclient\n",
            "Installing collected packages: mysqlclient\n",
            "Successfully installed mysqlclient-2.0.3\n"
          ],
          "name": "stdout"
        }
      ]
    },
    {
      "cell_type": "code",
      "metadata": {
        "ExecuteTime": {
          "end_time": "2021-07-21T00:19:17.960048Z",
          "start_time": "2021-07-21T00:19:17.834939Z"
        },
        "id": "xDviLOWFURZZ"
      },
      "source": [
        "with open('credentials.yml', 'r') as file:\n",
        "    credentials = yaml.load(file, Loader=yaml.FullLoader)"
      ],
      "execution_count": 20,
      "outputs": []
    },
    {
      "cell_type": "markdown",
      "metadata": {
        "id": "V4vtiJBBURZZ"
      },
      "source": [
        "- A engine deve estar no formato:\n",
        "- mysql://`user`:`password`@`host`:`port`/`database`"
      ]
    },
    {
      "cell_type": "code",
      "metadata": {
        "ExecuteTime": {
          "end_time": "2021-07-20T22:34:36.864039Z",
          "start_time": "2021-07-20T22:34:36.845040Z"
        },
        "id": "mLQhffsPURZa",
        "outputId": "83cc92fb-111c-4bb3-b557-ee15798be331",
        "colab": {
          "base_uri": "https://localhost:8080/"
        }
      },
      "source": [
        "print('hello')\n",
        "print(\"hello\")"
      ],
      "execution_count": 3,
      "outputs": [
        {
          "output_type": "stream",
          "text": [
            "hello\n",
            "hello\n"
          ],
          "name": "stdout"
        }
      ]
    },
    {
      "cell_type": "code",
      "metadata": {
        "ExecuteTime": {
          "end_time": "2021-07-20T22:43:20.336747Z",
          "start_time": "2021-07-20T22:43:20.318217Z"
        },
        "id": "D3reJu_rURZa",
        "outputId": "fb520031-d2e0-4d02-adc3-8092c4dc7dcb",
        "colab": {
          "base_uri": "https://localhost:8080/",
          "height": 35
        }
      },
      "source": [
        "sqlalchemy.__version__"
      ],
      "execution_count": 4,
      "outputs": [
        {
          "output_type": "execute_result",
          "data": {
            "application/vnd.google.colaboratory.intrinsic+json": {
              "type": "string"
            },
            "text/plain": [
              "'1.4.22'"
            ]
          },
          "metadata": {
            "tags": []
          },
          "execution_count": 4
        }
      ]
    },
    {
      "cell_type": "code",
      "metadata": {
        "ExecuteTime": {
          "end_time": "2021-07-21T00:19:20.241988Z",
          "start_time": "2021-07-21T00:19:20.035987Z"
        },
        "id": "ImJ4toUiURZb"
      },
      "source": [
        "c = credentials\n",
        "engine = sqlalchemy.create_engine\\\n",
        "(f\"mysql://{c['user']}:{c['password']}@{c['host']}:{c['port']}/{c['database']}\")"
      ],
      "execution_count": 21,
      "outputs": []
    },
    {
      "cell_type": "markdown",
      "metadata": {
        "id": "CTn_RWTsURZb"
      },
      "source": [
        "### UPLOAD TABLE"
      ]
    },
    {
      "cell_type": "code",
      "metadata": {
        "ExecuteTime": {
          "end_time": "2021-07-20T22:33:50.382583Z",
          "start_time": "2021-07-20T22:33:50.338002Z"
        },
        "id": "oUlyrKAvURZb"
      },
      "source": [
        "df = pd.read_csv('AtrasoCartaoCredito.csv')"
      ],
      "execution_count": 10,
      "outputs": []
    },
    {
      "cell_type": "code",
      "metadata": {
        "ExecuteTime": {
          "end_time": "2021-07-20T22:33:59.290413Z",
          "start_time": "2021-07-20T22:33:59.230893Z"
        },
        "id": "v1zzvZieURZb",
        "outputId": "c20b52b8-b158-46d1-a1f2-d32e4e2a5e32"
      },
      "source": [
        "df.head(2)"
      ],
      "execution_count": null,
      "outputs": [
        {
          "output_type": "execute_result",
          "data": {
            "text/html": [
              "<div>\n",
              "<style scoped>\n",
              "    .dataframe tbody tr th:only-of-type {\n",
              "        vertical-align: middle;\n",
              "    }\n",
              "\n",
              "    .dataframe tbody tr th {\n",
              "        vertical-align: top;\n",
              "    }\n",
              "\n",
              "    .dataframe thead th {\n",
              "        text-align: right;\n",
              "    }\n",
              "</style>\n",
              "<table border=\"1\" class=\"dataframe\">\n",
              "  <thead>\n",
              "    <tr style=\"text-align: right;\">\n",
              "      <th></th>\n",
              "      <th>ID</th>\n",
              "      <th>Target</th>\n",
              "      <th>GrupoEconomico</th>\n",
              "      <th>Sexo</th>\n",
              "      <th>Idade</th>\n",
              "      <th>GrupoRisco</th>\n",
              "      <th>ValorCompraAnual</th>\n",
              "      <th>GastoMax</th>\n",
              "      <th>GastoMedio</th>\n",
              "      <th>UF</th>\n",
              "      <th>CidadeResidencia</th>\n",
              "      <th>RegiaodoPais</th>\n",
              "      <th>NumeroComprasOnline</th>\n",
              "    </tr>\n",
              "  </thead>\n",
              "  <tbody>\n",
              "    <tr>\n",
              "      <th>0</th>\n",
              "      <td>1</td>\n",
              "      <td>0</td>\n",
              "      <td>3</td>\n",
              "      <td>homem</td>\n",
              "      <td>22</td>\n",
              "      <td>1</td>\n",
              "      <td>7250.0</td>\n",
              "      <td>517.857143</td>\n",
              "      <td>604.166667</td>\n",
              "      <td>MG</td>\n",
              "      <td>Morada Nova de Minas</td>\n",
              "      <td>Região Sudeste</td>\n",
              "      <td>54.924242</td>\n",
              "    </tr>\n",
              "    <tr>\n",
              "      <th>1</th>\n",
              "      <td>2</td>\n",
              "      <td>1</td>\n",
              "      <td>1</td>\n",
              "      <td>mulher</td>\n",
              "      <td>38</td>\n",
              "      <td>1</td>\n",
              "      <td>71283.0</td>\n",
              "      <td>5091.642857</td>\n",
              "      <td>5940.250000</td>\n",
              "      <td>RN</td>\n",
              "      <td>Marcelino Vieira</td>\n",
              "      <td>Região Nordeste</td>\n",
              "      <td>312.644737</td>\n",
              "    </tr>\n",
              "  </tbody>\n",
              "</table>\n",
              "</div>"
            ],
            "text/plain": [
              "   ID  Target  GrupoEconomico    Sexo  Idade  GrupoRisco  ValorCompraAnual  \\\n",
              "0   1       0               3   homem     22           1            7250.0   \n",
              "1   2       1               1  mulher     38           1           71283.0   \n",
              "\n",
              "      GastoMax   GastoMedio  UF      CidadeResidencia     RegiaodoPais  \\\n",
              "0   517.857143   604.166667  MG  Morada Nova de Minas   Região Sudeste   \n",
              "1  5091.642857  5940.250000  RN      Marcelino Vieira  Região Nordeste   \n",
              "\n",
              "   NumeroComprasOnline  \n",
              "0            54.924242  \n",
              "1           312.644737  "
            ]
          },
          "metadata": {
            "tags": []
          },
          "execution_count": 8
        }
      ]
    },
    {
      "cell_type": "code",
      "metadata": {
        "id": "fCRjeOWaW8PS",
        "outputId": "583cbafa-7b69-4935-c712-ae401d480692",
        "colab": {
          "base_uri": "https://localhost:8080/"
        }
      },
      "source": [
        "!pip uninstall mysql-connector\n"
      ],
      "execution_count": 13,
      "outputs": [
        {
          "output_type": "stream",
          "text": [
            "\u001b[33mWARNING: Skipping mysql-connector as it is not installed.\u001b[0m\n"
          ],
          "name": "stdout"
        }
      ]
    },
    {
      "cell_type": "code",
      "metadata": {
        "id": "p3Qh_lrxW_nj",
        "outputId": "10cb825e-5979-4e92-98cb-8daf761663b1",
        "colab": {
          "base_uri": "https://localhost:8080/"
        }
      },
      "source": [
        "!pip install mysql-connector-python\n"
      ],
      "execution_count": 14,
      "outputs": [
        {
          "output_type": "stream",
          "text": [
            "Collecting mysql-connector-python\n",
            "  Downloading mysql_connector_python-8.0.26-cp37-cp37m-manylinux1_x86_64.whl (30.9 MB)\n",
            "\u001b[K     |████████████████████████████████| 30.9 MB 82 kB/s \n",
            "\u001b[?25hRequirement already satisfied: protobuf>=3.0.0 in /usr/local/lib/python3.7/dist-packages (from mysql-connector-python) (3.17.3)\n",
            "Requirement already satisfied: six>=1.9 in /usr/local/lib/python3.7/dist-packages (from protobuf>=3.0.0->mysql-connector-python) (1.15.0)\n",
            "Installing collected packages: mysql-connector-python\n",
            "Successfully installed mysql-connector-python-8.0.26\n"
          ],
          "name": "stdout"
        }
      ]
    },
    {
      "cell_type": "code",
      "metadata": {
        "ExecuteTime": {
          "end_time": "2021-07-21T00:19:28.991174Z",
          "start_time": "2021-07-21T00:19:24.972148Z"
        },
        "id": "wIei7P_-URZc"
      },
      "source": [
        "import mysql.connector\n",
        "\n",
        "#Conectando\n",
        "con = mysql.connector.connect(user=credentials['user'], \n",
        "                              password=credentials['password'],\n",
        "                              host=credentials['host'],\n",
        "                              database=credentials['database'],\n",
        "                              port=credentials['port'])\n",
        "\n",
        "cursor = con.cursor()"
      ],
      "execution_count": 22,
      "outputs": []
    },
    {
      "cell_type": "code",
      "metadata": {
        "ExecuteTime": {
          "end_time": "2021-07-21T00:19:29.011166Z",
          "start_time": "2021-07-21T00:19:25.547Z"
        },
        "id": "n9WGKAZxURZc",
        "outputId": "adb6b028-388c-4d7b-b495-c8cbd32b5da1",
        "colab": {
          "base_uri": "https://localhost:8080/"
        }
      },
      "source": [
        "query = 'SHOW TABLES'\n",
        "cursor.execute(query)\n",
        "cursor.fetchall()"
      ],
      "execution_count": 23,
      "outputs": [
        {
          "output_type": "execute_result",
          "data": {
            "text/plain": [
              "[('empresas',)]"
            ]
          },
          "metadata": {
            "tags": []
          },
          "execution_count": 23
        }
      ]
    },
    {
      "cell_type": "code",
      "metadata": {
        "ExecuteTime": {
          "end_time": "2021-07-20T22:39:44.329774Z",
          "start_time": "2021-07-20T22:39:04.804270Z"
        },
        "id": "dNFWDnxuURZc"
      },
      "source": [
        "df.to_sql('AtrasoCartaoCredito', engine)"
      ],
      "execution_count": 31,
      "outputs": []
    },
    {
      "cell_type": "code",
      "metadata": {
        "ExecuteTime": {
          "end_time": "2021-07-20T23:10:21.519882Z",
          "start_time": "2021-07-20T23:10:21.497884Z"
        },
        "id": "Mc_xi0amURZc",
        "outputId": "c1d24005-c2b1-4c94-aa62-0528e8d36532",
        "colab": {
          "base_uri": "https://localhost:8080/"
        }
      },
      "source": [
        "type(df)"
      ],
      "execution_count": 32,
      "outputs": [
        {
          "output_type": "execute_result",
          "data": {
            "text/plain": [
              "pandas.core.frame.DataFrame"
            ]
          },
          "metadata": {
            "tags": []
          },
          "execution_count": 32
        }
      ]
    },
    {
      "cell_type": "code",
      "metadata": {
        "ExecuteTime": {
          "end_time": "2021-07-20T23:09:55.174160Z",
          "start_time": "2021-07-20T23:09:55.144167Z"
        },
        "id": "hwmctF4NURZd",
        "outputId": "36744533-9543-4122-8a4b-60fa802a42fb",
        "colab": {
          "base_uri": "https://localhost:8080/",
          "height": 275
        }
      },
      "source": [
        "df.head()"
      ],
      "execution_count": 33,
      "outputs": [
        {
          "output_type": "execute_result",
          "data": {
            "text/html": [
              "<div>\n",
              "<style scoped>\n",
              "    .dataframe tbody tr th:only-of-type {\n",
              "        vertical-align: middle;\n",
              "    }\n",
              "\n",
              "    .dataframe tbody tr th {\n",
              "        vertical-align: top;\n",
              "    }\n",
              "\n",
              "    .dataframe thead th {\n",
              "        text-align: right;\n",
              "    }\n",
              "</style>\n",
              "<table border=\"1\" class=\"dataframe\">\n",
              "  <thead>\n",
              "    <tr style=\"text-align: right;\">\n",
              "      <th></th>\n",
              "      <th>ID</th>\n",
              "      <th>Target</th>\n",
              "      <th>GrupoEconomico</th>\n",
              "      <th>Sexo</th>\n",
              "      <th>Idade</th>\n",
              "      <th>GrupoRisco</th>\n",
              "      <th>ValorCompraAnual</th>\n",
              "      <th>GastoMax</th>\n",
              "      <th>GastoMedio</th>\n",
              "      <th>UF</th>\n",
              "      <th>CidadeResidencia</th>\n",
              "      <th>RegiaodoPais</th>\n",
              "      <th>NumeroComprasOnline</th>\n",
              "    </tr>\n",
              "  </thead>\n",
              "  <tbody>\n",
              "    <tr>\n",
              "      <th>0</th>\n",
              "      <td>1</td>\n",
              "      <td>0</td>\n",
              "      <td>3</td>\n",
              "      <td>homem</td>\n",
              "      <td>22</td>\n",
              "      <td>1</td>\n",
              "      <td>7250.0</td>\n",
              "      <td>517.857143</td>\n",
              "      <td>604.166667</td>\n",
              "      <td>MG</td>\n",
              "      <td>Morada Nova de Minas</td>\n",
              "      <td>Região Sudeste</td>\n",
              "      <td>54.924242</td>\n",
              "    </tr>\n",
              "    <tr>\n",
              "      <th>1</th>\n",
              "      <td>2</td>\n",
              "      <td>1</td>\n",
              "      <td>1</td>\n",
              "      <td>mulher</td>\n",
              "      <td>38</td>\n",
              "      <td>1</td>\n",
              "      <td>71283.0</td>\n",
              "      <td>5091.642857</td>\n",
              "      <td>5940.250000</td>\n",
              "      <td>RN</td>\n",
              "      <td>Marcelino Vieira</td>\n",
              "      <td>Região Nordeste</td>\n",
              "      <td>312.644737</td>\n",
              "    </tr>\n",
              "    <tr>\n",
              "      <th>2</th>\n",
              "      <td>3</td>\n",
              "      <td>1</td>\n",
              "      <td>3</td>\n",
              "      <td>mulher</td>\n",
              "      <td>26</td>\n",
              "      <td>0</td>\n",
              "      <td>7925.0</td>\n",
              "      <td>566.071429</td>\n",
              "      <td>660.416667</td>\n",
              "      <td>PR</td>\n",
              "      <td>Agudos do Sul</td>\n",
              "      <td>Região Sul</td>\n",
              "      <td>50.801282</td>\n",
              "    </tr>\n",
              "    <tr>\n",
              "      <th>3</th>\n",
              "      <td>4</td>\n",
              "      <td>1</td>\n",
              "      <td>1</td>\n",
              "      <td>mulher</td>\n",
              "      <td>35</td>\n",
              "      <td>1</td>\n",
              "      <td>531.0</td>\n",
              "      <td>37.928571</td>\n",
              "      <td>44.250000</td>\n",
              "      <td>PR</td>\n",
              "      <td>Congonhinhas</td>\n",
              "      <td>Região Sul</td>\n",
              "      <td>2.528571</td>\n",
              "    </tr>\n",
              "    <tr>\n",
              "      <th>4</th>\n",
              "      <td>5</td>\n",
              "      <td>0</td>\n",
              "      <td>3</td>\n",
              "      <td>homem</td>\n",
              "      <td>35</td>\n",
              "      <td>0</td>\n",
              "      <td>805.0</td>\n",
              "      <td>57.500000</td>\n",
              "      <td>67.083333</td>\n",
              "      <td>BA</td>\n",
              "      <td>Morpará</td>\n",
              "      <td>Região Nordeste</td>\n",
              "      <td>3.833333</td>\n",
              "    </tr>\n",
              "  </tbody>\n",
              "</table>\n",
              "</div>"
            ],
            "text/plain": [
              "   ID  Target  ...     RegiaodoPais NumeroComprasOnline\n",
              "0   1       0  ...   Região Sudeste           54.924242\n",
              "1   2       1  ...  Região Nordeste          312.644737\n",
              "2   3       1  ...       Região Sul           50.801282\n",
              "3   4       1  ...       Região Sul            2.528571\n",
              "4   5       0  ...  Região Nordeste            3.833333\n",
              "\n",
              "[5 rows x 13 columns]"
            ]
          },
          "metadata": {
            "tags": []
          },
          "execution_count": 33
        }
      ]
    },
    {
      "cell_type": "code",
      "metadata": {
        "id": "h8Tw6oxTURZd"
      },
      "source": [
        ""
      ],
      "execution_count": null,
      "outputs": []
    },
    {
      "cell_type": "markdown",
      "metadata": {
        "id": "bygXr8zzURZd"
      },
      "source": [
        "### SELECT e FROM"
      ]
    },
    {
      "cell_type": "markdown",
      "metadata": {
        "id": "yqt0dEo7URZd"
      },
      "source": [
        "- Já vimos o `SELECT` e `FROM` na última aula\n",
        "    - `SELECT` seleciona as colunas que queremos trazer\n",
        "        - `*` seleciona toda das colunas\n",
        "    - `FROM` seleciona a tabela que analisaremos\n",
        "- Para facilitar a consulta, podemos aplicar o `LIMIT`, que define o número de linhas que a query irá trazer"
      ]
    },
    {
      "cell_type": "code",
      "metadata": {
        "ExecuteTime": {
          "end_time": "2021-07-20T22:46:19.840983Z",
          "start_time": "2021-07-20T22:46:18.072686Z"
        },
        "scrolled": true,
        "id": "GMSh8lROURZd",
        "outputId": "b59f2bb9-c39a-4f80-c03d-fc674f052ef0",
        "colab": {
          "base_uri": "https://localhost:8080/",
          "height": 575
        }
      },
      "source": [
        "query = '''\n",
        "    SELECT *\n",
        "    FROM AtrasoCartaoCredito\n",
        "'''\n",
        "\n",
        "pd.read_sql(query, engine)"
      ],
      "execution_count": 34,
      "outputs": [
        {
          "output_type": "execute_result",
          "data": {
            "text/html": [
              "<div>\n",
              "<style scoped>\n",
              "    .dataframe tbody tr th:only-of-type {\n",
              "        vertical-align: middle;\n",
              "    }\n",
              "\n",
              "    .dataframe tbody tr th {\n",
              "        vertical-align: top;\n",
              "    }\n",
              "\n",
              "    .dataframe thead th {\n",
              "        text-align: right;\n",
              "    }\n",
              "</style>\n",
              "<table border=\"1\" class=\"dataframe\">\n",
              "  <thead>\n",
              "    <tr style=\"text-align: right;\">\n",
              "      <th></th>\n",
              "      <th>index</th>\n",
              "      <th>ID</th>\n",
              "      <th>Target</th>\n",
              "      <th>GrupoEconomico</th>\n",
              "      <th>Sexo</th>\n",
              "      <th>Idade</th>\n",
              "      <th>GrupoRisco</th>\n",
              "      <th>ValorCompraAnual</th>\n",
              "      <th>GastoMax</th>\n",
              "      <th>GastoMedio</th>\n",
              "      <th>UF</th>\n",
              "      <th>CidadeResidencia</th>\n",
              "      <th>RegiaodoPais</th>\n",
              "      <th>NumeroComprasOnline</th>\n",
              "    </tr>\n",
              "  </thead>\n",
              "  <tbody>\n",
              "    <tr>\n",
              "      <th>0</th>\n",
              "      <td>0</td>\n",
              "      <td>1</td>\n",
              "      <td>0</td>\n",
              "      <td>3</td>\n",
              "      <td>homem</td>\n",
              "      <td>22</td>\n",
              "      <td>1</td>\n",
              "      <td>7250.0</td>\n",
              "      <td>517.857143</td>\n",
              "      <td>604.166667</td>\n",
              "      <td>MG</td>\n",
              "      <td>Morada Nova de Minas</td>\n",
              "      <td>Região Sudeste</td>\n",
              "      <td>54.924242</td>\n",
              "    </tr>\n",
              "    <tr>\n",
              "      <th>1</th>\n",
              "      <td>1</td>\n",
              "      <td>2</td>\n",
              "      <td>1</td>\n",
              "      <td>1</td>\n",
              "      <td>mulher</td>\n",
              "      <td>38</td>\n",
              "      <td>1</td>\n",
              "      <td>71283.0</td>\n",
              "      <td>5091.642857</td>\n",
              "      <td>5940.250000</td>\n",
              "      <td>RN</td>\n",
              "      <td>Marcelino Vieira</td>\n",
              "      <td>Região Nordeste</td>\n",
              "      <td>312.644737</td>\n",
              "    </tr>\n",
              "    <tr>\n",
              "      <th>2</th>\n",
              "      <td>2</td>\n",
              "      <td>3</td>\n",
              "      <td>1</td>\n",
              "      <td>3</td>\n",
              "      <td>mulher</td>\n",
              "      <td>26</td>\n",
              "      <td>0</td>\n",
              "      <td>7925.0</td>\n",
              "      <td>566.071429</td>\n",
              "      <td>660.416667</td>\n",
              "      <td>PR</td>\n",
              "      <td>Agudos do Sul</td>\n",
              "      <td>Região Sul</td>\n",
              "      <td>50.801282</td>\n",
              "    </tr>\n",
              "    <tr>\n",
              "      <th>3</th>\n",
              "      <td>3</td>\n",
              "      <td>4</td>\n",
              "      <td>1</td>\n",
              "      <td>1</td>\n",
              "      <td>mulher</td>\n",
              "      <td>35</td>\n",
              "      <td>1</td>\n",
              "      <td>531.0</td>\n",
              "      <td>37.928571</td>\n",
              "      <td>44.250000</td>\n",
              "      <td>PR</td>\n",
              "      <td>Congonhinhas</td>\n",
              "      <td>Região Sul</td>\n",
              "      <td>2.528571</td>\n",
              "    </tr>\n",
              "    <tr>\n",
              "      <th>4</th>\n",
              "      <td>4</td>\n",
              "      <td>5</td>\n",
              "      <td>0</td>\n",
              "      <td>3</td>\n",
              "      <td>homem</td>\n",
              "      <td>35</td>\n",
              "      <td>0</td>\n",
              "      <td>805.0</td>\n",
              "      <td>57.500000</td>\n",
              "      <td>67.083333</td>\n",
              "      <td>BA</td>\n",
              "      <td>Morpará</td>\n",
              "      <td>Região Nordeste</td>\n",
              "      <td>3.833333</td>\n",
              "    </tr>\n",
              "    <tr>\n",
              "      <th>...</th>\n",
              "      <td>...</td>\n",
              "      <td>...</td>\n",
              "      <td>...</td>\n",
              "      <td>...</td>\n",
              "      <td>...</td>\n",
              "      <td>...</td>\n",
              "      <td>...</td>\n",
              "      <td>...</td>\n",
              "      <td>...</td>\n",
              "      <td>...</td>\n",
              "      <td>...</td>\n",
              "      <td>...</td>\n",
              "      <td>...</td>\n",
              "      <td>...</td>\n",
              "    </tr>\n",
              "    <tr>\n",
              "      <th>886</th>\n",
              "      <td>886</td>\n",
              "      <td>887</td>\n",
              "      <td>0</td>\n",
              "      <td>2</td>\n",
              "      <td>homem</td>\n",
              "      <td>27</td>\n",
              "      <td>0</td>\n",
              "      <td>13.0</td>\n",
              "      <td>0.928571</td>\n",
              "      <td>1.083333</td>\n",
              "      <td>BA</td>\n",
              "      <td>Marcionílio Souza</td>\n",
              "      <td>Região Nordeste</td>\n",
              "      <td>0.080247</td>\n",
              "    </tr>\n",
              "    <tr>\n",
              "      <th>887</th>\n",
              "      <td>887</td>\n",
              "      <td>888</td>\n",
              "      <td>1</td>\n",
              "      <td>1</td>\n",
              "      <td>mulher</td>\n",
              "      <td>19</td>\n",
              "      <td>0</td>\n",
              "      <td>30.0</td>\n",
              "      <td>2.142857</td>\n",
              "      <td>2.500000</td>\n",
              "      <td>BA</td>\n",
              "      <td>Mirante</td>\n",
              "      <td>Região Nordeste</td>\n",
              "      <td>0.263158</td>\n",
              "    </tr>\n",
              "    <tr>\n",
              "      <th>888</th>\n",
              "      <td>888</td>\n",
              "      <td>889</td>\n",
              "      <td>0</td>\n",
              "      <td>3</td>\n",
              "      <td>mulher</td>\n",
              "      <td>35</td>\n",
              "      <td>1</td>\n",
              "      <td>2345.0</td>\n",
              "      <td>167.500000</td>\n",
              "      <td>195.416667</td>\n",
              "      <td>RO</td>\n",
              "      <td>Governador Jorge Teixeira</td>\n",
              "      <td>Região Norte</td>\n",
              "      <td>11.166667</td>\n",
              "    </tr>\n",
              "    <tr>\n",
              "      <th>889</th>\n",
              "      <td>889</td>\n",
              "      <td>890</td>\n",
              "      <td>1</td>\n",
              "      <td>1</td>\n",
              "      <td>homem</td>\n",
              "      <td>26</td>\n",
              "      <td>0</td>\n",
              "      <td>30.0</td>\n",
              "      <td>2.142857</td>\n",
              "      <td>2.500000</td>\n",
              "      <td>PI</td>\n",
              "      <td>Baixa Grande do Ribeiro</td>\n",
              "      <td>Região Nordeste</td>\n",
              "      <td>0.192308</td>\n",
              "    </tr>\n",
              "    <tr>\n",
              "      <th>890</th>\n",
              "      <td>890</td>\n",
              "      <td>891</td>\n",
              "      <td>0</td>\n",
              "      <td>3</td>\n",
              "      <td>homem</td>\n",
              "      <td>32</td>\n",
              "      <td>0</td>\n",
              "      <td>775.0</td>\n",
              "      <td>55.357143</td>\n",
              "      <td>64.583333</td>\n",
              "      <td>MA</td>\n",
              "      <td>Lagoa Grande do Maranhão</td>\n",
              "      <td>Região Nordeste</td>\n",
              "      <td>4.036458</td>\n",
              "    </tr>\n",
              "  </tbody>\n",
              "</table>\n",
              "<p>891 rows × 14 columns</p>\n",
              "</div>"
            ],
            "text/plain": [
              "     index   ID  ...     RegiaodoPais  NumeroComprasOnline\n",
              "0        0    1  ...   Região Sudeste            54.924242\n",
              "1        1    2  ...  Região Nordeste           312.644737\n",
              "2        2    3  ...       Região Sul            50.801282\n",
              "3        3    4  ...       Região Sul             2.528571\n",
              "4        4    5  ...  Região Nordeste             3.833333\n",
              "..     ...  ...  ...              ...                  ...\n",
              "886    886  887  ...  Região Nordeste             0.080247\n",
              "887    887  888  ...  Região Nordeste             0.263158\n",
              "888    888  889  ...     Região Norte            11.166667\n",
              "889    889  890  ...  Região Nordeste             0.192308\n",
              "890    890  891  ...  Região Nordeste             4.036458\n",
              "\n",
              "[891 rows x 14 columns]"
            ]
          },
          "metadata": {
            "tags": []
          },
          "execution_count": 34
        }
      ]
    },
    {
      "cell_type": "markdown",
      "metadata": {
        "id": "LAvJL1HIURZe"
      },
      "source": [
        "### LIMIT"
      ]
    },
    {
      "cell_type": "markdown",
      "metadata": {
        "id": "uEXhRtYbURZe"
      },
      "source": [
        "- Podemos usar o `LIMIT` para mostrar as primeiras `n` linhas"
      ]
    },
    {
      "cell_type": "code",
      "metadata": {
        "ExecuteTime": {
          "end_time": "2021-07-20T22:46:50.043940Z",
          "start_time": "2021-07-20T22:46:48.842759Z"
        },
        "id": "5qqeKlC5URZe",
        "outputId": "2d2b612e-c1c9-4fb6-fb47-ed5093ac9df8",
        "colab": {
          "base_uri": "https://localhost:8080/",
          "height": 275
        }
      },
      "source": [
        "query = '''\n",
        "    SELECT *\n",
        "    FROM AtrasoCartaoCredito\n",
        "    LIMIT 5\n",
        "'''\n",
        "\n",
        "pd.read_sql(query, engine)"
      ],
      "execution_count": 35,
      "outputs": [
        {
          "output_type": "execute_result",
          "data": {
            "text/html": [
              "<div>\n",
              "<style scoped>\n",
              "    .dataframe tbody tr th:only-of-type {\n",
              "        vertical-align: middle;\n",
              "    }\n",
              "\n",
              "    .dataframe tbody tr th {\n",
              "        vertical-align: top;\n",
              "    }\n",
              "\n",
              "    .dataframe thead th {\n",
              "        text-align: right;\n",
              "    }\n",
              "</style>\n",
              "<table border=\"1\" class=\"dataframe\">\n",
              "  <thead>\n",
              "    <tr style=\"text-align: right;\">\n",
              "      <th></th>\n",
              "      <th>index</th>\n",
              "      <th>ID</th>\n",
              "      <th>Target</th>\n",
              "      <th>GrupoEconomico</th>\n",
              "      <th>Sexo</th>\n",
              "      <th>Idade</th>\n",
              "      <th>GrupoRisco</th>\n",
              "      <th>ValorCompraAnual</th>\n",
              "      <th>GastoMax</th>\n",
              "      <th>GastoMedio</th>\n",
              "      <th>UF</th>\n",
              "      <th>CidadeResidencia</th>\n",
              "      <th>RegiaodoPais</th>\n",
              "      <th>NumeroComprasOnline</th>\n",
              "    </tr>\n",
              "  </thead>\n",
              "  <tbody>\n",
              "    <tr>\n",
              "      <th>0</th>\n",
              "      <td>0</td>\n",
              "      <td>1</td>\n",
              "      <td>0</td>\n",
              "      <td>3</td>\n",
              "      <td>homem</td>\n",
              "      <td>22</td>\n",
              "      <td>1</td>\n",
              "      <td>7250.0</td>\n",
              "      <td>517.857143</td>\n",
              "      <td>604.166667</td>\n",
              "      <td>MG</td>\n",
              "      <td>Morada Nova de Minas</td>\n",
              "      <td>Região Sudeste</td>\n",
              "      <td>54.924242</td>\n",
              "    </tr>\n",
              "    <tr>\n",
              "      <th>1</th>\n",
              "      <td>1</td>\n",
              "      <td>2</td>\n",
              "      <td>1</td>\n",
              "      <td>1</td>\n",
              "      <td>mulher</td>\n",
              "      <td>38</td>\n",
              "      <td>1</td>\n",
              "      <td>71283.0</td>\n",
              "      <td>5091.642857</td>\n",
              "      <td>5940.250000</td>\n",
              "      <td>RN</td>\n",
              "      <td>Marcelino Vieira</td>\n",
              "      <td>Região Nordeste</td>\n",
              "      <td>312.644737</td>\n",
              "    </tr>\n",
              "    <tr>\n",
              "      <th>2</th>\n",
              "      <td>2</td>\n",
              "      <td>3</td>\n",
              "      <td>1</td>\n",
              "      <td>3</td>\n",
              "      <td>mulher</td>\n",
              "      <td>26</td>\n",
              "      <td>0</td>\n",
              "      <td>7925.0</td>\n",
              "      <td>566.071429</td>\n",
              "      <td>660.416667</td>\n",
              "      <td>PR</td>\n",
              "      <td>Agudos do Sul</td>\n",
              "      <td>Região Sul</td>\n",
              "      <td>50.801282</td>\n",
              "    </tr>\n",
              "    <tr>\n",
              "      <th>3</th>\n",
              "      <td>3</td>\n",
              "      <td>4</td>\n",
              "      <td>1</td>\n",
              "      <td>1</td>\n",
              "      <td>mulher</td>\n",
              "      <td>35</td>\n",
              "      <td>1</td>\n",
              "      <td>531.0</td>\n",
              "      <td>37.928571</td>\n",
              "      <td>44.250000</td>\n",
              "      <td>PR</td>\n",
              "      <td>Congonhinhas</td>\n",
              "      <td>Região Sul</td>\n",
              "      <td>2.528571</td>\n",
              "    </tr>\n",
              "    <tr>\n",
              "      <th>4</th>\n",
              "      <td>4</td>\n",
              "      <td>5</td>\n",
              "      <td>0</td>\n",
              "      <td>3</td>\n",
              "      <td>homem</td>\n",
              "      <td>35</td>\n",
              "      <td>0</td>\n",
              "      <td>805.0</td>\n",
              "      <td>57.500000</td>\n",
              "      <td>67.083333</td>\n",
              "      <td>BA</td>\n",
              "      <td>Morpará</td>\n",
              "      <td>Região Nordeste</td>\n",
              "      <td>3.833333</td>\n",
              "    </tr>\n",
              "  </tbody>\n",
              "</table>\n",
              "</div>"
            ],
            "text/plain": [
              "   index  ID  ...     RegiaodoPais  NumeroComprasOnline\n",
              "0      0   1  ...   Região Sudeste            54.924242\n",
              "1      1   2  ...  Região Nordeste           312.644737\n",
              "2      2   3  ...       Região Sul            50.801282\n",
              "3      3   4  ...       Região Sul             2.528571\n",
              "4      4   5  ...  Região Nordeste             3.833333\n",
              "\n",
              "[5 rows x 14 columns]"
            ]
          },
          "metadata": {
            "tags": []
          },
          "execution_count": 35
        }
      ]
    },
    {
      "cell_type": "markdown",
      "metadata": {
        "id": "795Ougf2URZf"
      },
      "source": [
        "- Atenção, em bancos de dados SQLServer, o análogo ao `LIMIT` é o `TOP`\n",
        "- A sintaxe análoga seria:\n",
        "    - `SELECT TOP 5 * FROM AtrasoCartaoCredito`"
      ]
    },
    {
      "cell_type": "markdown",
      "metadata": {
        "id": "vYqD7atCURZf"
      },
      "source": [
        "### WHERE"
      ]
    },
    {
      "cell_type": "markdown",
      "metadata": {
        "id": "mSyPYIkUURZf"
      },
      "source": [
        "- Podemos filtar algumas observações com o comando `WHERE`"
      ]
    },
    {
      "cell_type": "markdown",
      "metadata": {
        "id": "1EMh5TKzURZf"
      },
      "source": [
        "#### Igual `=`"
      ]
    },
    {
      "cell_type": "code",
      "metadata": {
        "ExecuteTime": {
          "end_time": "2021-07-20T22:50:27.518148Z",
          "start_time": "2021-07-20T22:50:27.497071Z"
        },
        "id": "nKTzyQJcURZg",
        "outputId": "d6bcaba8-9a5d-45d8-dc67-b93e93047010",
        "colab": {
          "base_uri": "https://localhost:8080/"
        }
      },
      "source": [
        "df.shape"
      ],
      "execution_count": 38,
      "outputs": [
        {
          "output_type": "execute_result",
          "data": {
            "text/plain": [
              "(891, 13)"
            ]
          },
          "metadata": {
            "tags": []
          },
          "execution_count": 38
        }
      ]
    },
    {
      "cell_type": "code",
      "metadata": {
        "ExecuteTime": {
          "end_time": "2021-07-20T22:49:17.526328Z",
          "start_time": "2021-07-20T22:49:16.299778Z"
        },
        "id": "fviTJ9qwURZh",
        "outputId": "620142c2-b5c4-4ecb-b4fb-eb1cdc985b4f",
        "colab": {
          "base_uri": "https://localhost:8080/",
          "height": 292
        }
      },
      "source": [
        "query = '''\n",
        "    SELECT *\n",
        "    FROM AtrasoCartaoCredito\n",
        "    WHERE Sexo = 'homem'\n",
        "    LIMIT 5\n",
        "'''\n",
        "\n",
        "pd.read_sql(query, engine)"
      ],
      "execution_count": 39,
      "outputs": [
        {
          "output_type": "execute_result",
          "data": {
            "text/html": [
              "<div>\n",
              "<style scoped>\n",
              "    .dataframe tbody tr th:only-of-type {\n",
              "        vertical-align: middle;\n",
              "    }\n",
              "\n",
              "    .dataframe tbody tr th {\n",
              "        vertical-align: top;\n",
              "    }\n",
              "\n",
              "    .dataframe thead th {\n",
              "        text-align: right;\n",
              "    }\n",
              "</style>\n",
              "<table border=\"1\" class=\"dataframe\">\n",
              "  <thead>\n",
              "    <tr style=\"text-align: right;\">\n",
              "      <th></th>\n",
              "      <th>index</th>\n",
              "      <th>ID</th>\n",
              "      <th>Target</th>\n",
              "      <th>GrupoEconomico</th>\n",
              "      <th>Sexo</th>\n",
              "      <th>Idade</th>\n",
              "      <th>GrupoRisco</th>\n",
              "      <th>ValorCompraAnual</th>\n",
              "      <th>GastoMax</th>\n",
              "      <th>GastoMedio</th>\n",
              "      <th>UF</th>\n",
              "      <th>CidadeResidencia</th>\n",
              "      <th>RegiaodoPais</th>\n",
              "      <th>NumeroComprasOnline</th>\n",
              "    </tr>\n",
              "  </thead>\n",
              "  <tbody>\n",
              "    <tr>\n",
              "      <th>0</th>\n",
              "      <td>0</td>\n",
              "      <td>1</td>\n",
              "      <td>0</td>\n",
              "      <td>3</td>\n",
              "      <td>homem</td>\n",
              "      <td>22</td>\n",
              "      <td>1</td>\n",
              "      <td>7250.0</td>\n",
              "      <td>517.857143</td>\n",
              "      <td>604.166667</td>\n",
              "      <td>MG</td>\n",
              "      <td>Morada Nova de Minas</td>\n",
              "      <td>Região Sudeste</td>\n",
              "      <td>54.924242</td>\n",
              "    </tr>\n",
              "    <tr>\n",
              "      <th>1</th>\n",
              "      <td>4</td>\n",
              "      <td>5</td>\n",
              "      <td>0</td>\n",
              "      <td>3</td>\n",
              "      <td>homem</td>\n",
              "      <td>35</td>\n",
              "      <td>0</td>\n",
              "      <td>805.0</td>\n",
              "      <td>57.500000</td>\n",
              "      <td>67.083333</td>\n",
              "      <td>BA</td>\n",
              "      <td>Morpará</td>\n",
              "      <td>Região Nordeste</td>\n",
              "      <td>3.833333</td>\n",
              "    </tr>\n",
              "    <tr>\n",
              "      <th>2</th>\n",
              "      <td>5</td>\n",
              "      <td>6</td>\n",
              "      <td>0</td>\n",
              "      <td>3</td>\n",
              "      <td>homem</td>\n",
              "      <td>22</td>\n",
              "      <td>0</td>\n",
              "      <td>84583.0</td>\n",
              "      <td>6041.642857</td>\n",
              "      <td>7048.583333</td>\n",
              "      <td>AL</td>\n",
              "      <td>Carneiros</td>\n",
              "      <td>Região Nordeste</td>\n",
              "      <td>640.780303</td>\n",
              "    </tr>\n",
              "    <tr>\n",
              "      <th>3</th>\n",
              "      <td>6</td>\n",
              "      <td>7</td>\n",
              "      <td>0</td>\n",
              "      <td>1</td>\n",
              "      <td>homem</td>\n",
              "      <td>54</td>\n",
              "      <td>0</td>\n",
              "      <td>51862.0</td>\n",
              "      <td>3704.428571</td>\n",
              "      <td>4321.833333</td>\n",
              "      <td>PR</td>\n",
              "      <td>Figueira</td>\n",
              "      <td>Região Sul</td>\n",
              "      <td>160.067901</td>\n",
              "    </tr>\n",
              "    <tr>\n",
              "      <th>4</th>\n",
              "      <td>7</td>\n",
              "      <td>8</td>\n",
              "      <td>0</td>\n",
              "      <td>3</td>\n",
              "      <td>homem</td>\n",
              "      <td>20</td>\n",
              "      <td>3</td>\n",
              "      <td>21075.0</td>\n",
              "      <td>1505.357143</td>\n",
              "      <td>1756.250000</td>\n",
              "      <td>BA</td>\n",
              "      <td>Ouriçangas</td>\n",
              "      <td>Região Nordeste</td>\n",
              "      <td>175625.000000</td>\n",
              "    </tr>\n",
              "  </tbody>\n",
              "</table>\n",
              "</div>"
            ],
            "text/plain": [
              "   index  ID  ...     RegiaodoPais  NumeroComprasOnline\n",
              "0      0   1  ...   Região Sudeste            54.924242\n",
              "1      4   5  ...  Região Nordeste             3.833333\n",
              "2      5   6  ...  Região Nordeste           640.780303\n",
              "3      6   7  ...       Região Sul           160.067901\n",
              "4      7   8  ...  Região Nordeste        175625.000000\n",
              "\n",
              "[5 rows x 14 columns]"
            ]
          },
          "metadata": {
            "tags": []
          },
          "execution_count": 39
        }
      ]
    },
    {
      "cell_type": "markdown",
      "metadata": {
        "id": "ageQ6gHLURZi"
      },
      "source": [
        "#### Diferente `<>`"
      ]
    },
    {
      "cell_type": "markdown",
      "metadata": {
        "id": "-30QN74mURZi"
      },
      "source": [
        "- `<>` significa \"diferente\", ou seja, selecionaremos todos `sexo` menos `homem`"
      ]
    },
    {
      "cell_type": "code",
      "metadata": {
        "ExecuteTime": {
          "end_time": "2021-07-20T22:54:02.443706Z",
          "start_time": "2021-07-20T22:54:01.229917Z"
        },
        "id": "iCCCY2DGURZi",
        "outputId": "e335ecae-b8b6-49ff-f78c-3ccfed0f8a61",
        "colab": {
          "base_uri": "https://localhost:8080/",
          "height": 275
        }
      },
      "source": [
        "query = '''\n",
        "    SELECT *\n",
        "    FROM AtrasoCartaoCredito\n",
        "    WHERE Sexo <> 'homem'\n",
        "    LIMIT 5\n",
        "'''\n",
        "\n",
        "pd.read_sql(query, engine)"
      ],
      "execution_count": 40,
      "outputs": [
        {
          "output_type": "execute_result",
          "data": {
            "text/html": [
              "<div>\n",
              "<style scoped>\n",
              "    .dataframe tbody tr th:only-of-type {\n",
              "        vertical-align: middle;\n",
              "    }\n",
              "\n",
              "    .dataframe tbody tr th {\n",
              "        vertical-align: top;\n",
              "    }\n",
              "\n",
              "    .dataframe thead th {\n",
              "        text-align: right;\n",
              "    }\n",
              "</style>\n",
              "<table border=\"1\" class=\"dataframe\">\n",
              "  <thead>\n",
              "    <tr style=\"text-align: right;\">\n",
              "      <th></th>\n",
              "      <th>index</th>\n",
              "      <th>ID</th>\n",
              "      <th>Target</th>\n",
              "      <th>GrupoEconomico</th>\n",
              "      <th>Sexo</th>\n",
              "      <th>Idade</th>\n",
              "      <th>GrupoRisco</th>\n",
              "      <th>ValorCompraAnual</th>\n",
              "      <th>GastoMax</th>\n",
              "      <th>GastoMedio</th>\n",
              "      <th>UF</th>\n",
              "      <th>CidadeResidencia</th>\n",
              "      <th>RegiaodoPais</th>\n",
              "      <th>NumeroComprasOnline</th>\n",
              "    </tr>\n",
              "  </thead>\n",
              "  <tbody>\n",
              "    <tr>\n",
              "      <th>0</th>\n",
              "      <td>1</td>\n",
              "      <td>2</td>\n",
              "      <td>1</td>\n",
              "      <td>1</td>\n",
              "      <td>mulher</td>\n",
              "      <td>38</td>\n",
              "      <td>1</td>\n",
              "      <td>71283.0</td>\n",
              "      <td>5091.642857</td>\n",
              "      <td>5940.250000</td>\n",
              "      <td>RN</td>\n",
              "      <td>Marcelino Vieira</td>\n",
              "      <td>Região Nordeste</td>\n",
              "      <td>312.644737</td>\n",
              "    </tr>\n",
              "    <tr>\n",
              "      <th>1</th>\n",
              "      <td>2</td>\n",
              "      <td>3</td>\n",
              "      <td>1</td>\n",
              "      <td>3</td>\n",
              "      <td>mulher</td>\n",
              "      <td>26</td>\n",
              "      <td>0</td>\n",
              "      <td>7925.0</td>\n",
              "      <td>566.071429</td>\n",
              "      <td>660.416667</td>\n",
              "      <td>PR</td>\n",
              "      <td>Agudos do Sul</td>\n",
              "      <td>Região Sul</td>\n",
              "      <td>50.801282</td>\n",
              "    </tr>\n",
              "    <tr>\n",
              "      <th>2</th>\n",
              "      <td>3</td>\n",
              "      <td>4</td>\n",
              "      <td>1</td>\n",
              "      <td>1</td>\n",
              "      <td>mulher</td>\n",
              "      <td>35</td>\n",
              "      <td>1</td>\n",
              "      <td>531.0</td>\n",
              "      <td>37.928571</td>\n",
              "      <td>44.250000</td>\n",
              "      <td>PR</td>\n",
              "      <td>Congonhinhas</td>\n",
              "      <td>Região Sul</td>\n",
              "      <td>2.528571</td>\n",
              "    </tr>\n",
              "    <tr>\n",
              "      <th>3</th>\n",
              "      <td>8</td>\n",
              "      <td>9</td>\n",
              "      <td>1</td>\n",
              "      <td>3</td>\n",
              "      <td>mulher</td>\n",
              "      <td>27</td>\n",
              "      <td>0</td>\n",
              "      <td>11133.0</td>\n",
              "      <td>795.214286</td>\n",
              "      <td>927.750000</td>\n",
              "      <td>MG</td>\n",
              "      <td>Comercinho</td>\n",
              "      <td>Região Sudeste</td>\n",
              "      <td>68.722222</td>\n",
              "    </tr>\n",
              "    <tr>\n",
              "      <th>4</th>\n",
              "      <td>9</td>\n",
              "      <td>10</td>\n",
              "      <td>1</td>\n",
              "      <td>2</td>\n",
              "      <td>mulher</td>\n",
              "      <td>14</td>\n",
              "      <td>1</td>\n",
              "      <td>3007.0</td>\n",
              "      <td>214.785714</td>\n",
              "      <td>250.583333</td>\n",
              "      <td>MG</td>\n",
              "      <td>Japonvar</td>\n",
              "      <td>Região Sudeste</td>\n",
              "      <td>35.797619</td>\n",
              "    </tr>\n",
              "  </tbody>\n",
              "</table>\n",
              "</div>"
            ],
            "text/plain": [
              "   index  ID  Target  ...  CidadeResidencia     RegiaodoPais  NumeroComprasOnline\n",
              "0      1   2       1  ...  Marcelino Vieira  Região Nordeste           312.644737\n",
              "1      2   3       1  ...     Agudos do Sul       Região Sul            50.801282\n",
              "2      3   4       1  ...      Congonhinhas       Região Sul             2.528571\n",
              "3      8   9       1  ...        Comercinho   Região Sudeste            68.722222\n",
              "4      9  10       1  ...          Japonvar   Região Sudeste            35.797619\n",
              "\n",
              "[5 rows x 14 columns]"
            ]
          },
          "metadata": {
            "tags": []
          },
          "execution_count": 40
        }
      ]
    },
    {
      "cell_type": "markdown",
      "metadata": {
        "id": "uPfTvhuTURZj"
      },
      "source": [
        "#### Maior `>`"
      ]
    },
    {
      "cell_type": "code",
      "metadata": {
        "ExecuteTime": {
          "end_time": "2021-07-20T22:54:58.083288Z",
          "start_time": "2021-07-20T22:54:56.873596Z"
        },
        "id": "lWHlVaaLURZj",
        "outputId": "60d4bd03-a452-4971-dbd1-ded51d1cfc58",
        "colab": {
          "base_uri": "https://localhost:8080/",
          "height": 292
        }
      },
      "source": [
        "query = '''\n",
        "    SELECT *\n",
        "    FROM AtrasoCartaoCredito\n",
        "    WHERE GastoMedio > 1000\n",
        "    LIMIT 5\n",
        "'''\n",
        "\n",
        "pd.read_sql(query, engine)"
      ],
      "execution_count": 41,
      "outputs": [
        {
          "output_type": "execute_result",
          "data": {
            "text/html": [
              "<div>\n",
              "<style scoped>\n",
              "    .dataframe tbody tr th:only-of-type {\n",
              "        vertical-align: middle;\n",
              "    }\n",
              "\n",
              "    .dataframe tbody tr th {\n",
              "        vertical-align: top;\n",
              "    }\n",
              "\n",
              "    .dataframe thead th {\n",
              "        text-align: right;\n",
              "    }\n",
              "</style>\n",
              "<table border=\"1\" class=\"dataframe\">\n",
              "  <thead>\n",
              "    <tr style=\"text-align: right;\">\n",
              "      <th></th>\n",
              "      <th>index</th>\n",
              "      <th>ID</th>\n",
              "      <th>Target</th>\n",
              "      <th>GrupoEconomico</th>\n",
              "      <th>Sexo</th>\n",
              "      <th>Idade</th>\n",
              "      <th>GrupoRisco</th>\n",
              "      <th>ValorCompraAnual</th>\n",
              "      <th>GastoMax</th>\n",
              "      <th>GastoMedio</th>\n",
              "      <th>UF</th>\n",
              "      <th>CidadeResidencia</th>\n",
              "      <th>RegiaodoPais</th>\n",
              "      <th>NumeroComprasOnline</th>\n",
              "    </tr>\n",
              "  </thead>\n",
              "  <tbody>\n",
              "    <tr>\n",
              "      <th>0</th>\n",
              "      <td>1</td>\n",
              "      <td>2</td>\n",
              "      <td>1</td>\n",
              "      <td>1</td>\n",
              "      <td>mulher</td>\n",
              "      <td>38</td>\n",
              "      <td>1</td>\n",
              "      <td>71283.0</td>\n",
              "      <td>5091.642857</td>\n",
              "      <td>5940.250000</td>\n",
              "      <td>RN</td>\n",
              "      <td>Marcelino Vieira</td>\n",
              "      <td>Região Nordeste</td>\n",
              "      <td>312.644737</td>\n",
              "    </tr>\n",
              "    <tr>\n",
              "      <th>1</th>\n",
              "      <td>5</td>\n",
              "      <td>6</td>\n",
              "      <td>0</td>\n",
              "      <td>3</td>\n",
              "      <td>homem</td>\n",
              "      <td>22</td>\n",
              "      <td>0</td>\n",
              "      <td>84583.0</td>\n",
              "      <td>6041.642857</td>\n",
              "      <td>7048.583333</td>\n",
              "      <td>AL</td>\n",
              "      <td>Carneiros</td>\n",
              "      <td>Região Nordeste</td>\n",
              "      <td>640.780303</td>\n",
              "    </tr>\n",
              "    <tr>\n",
              "      <th>2</th>\n",
              "      <td>6</td>\n",
              "      <td>7</td>\n",
              "      <td>0</td>\n",
              "      <td>1</td>\n",
              "      <td>homem</td>\n",
              "      <td>54</td>\n",
              "      <td>0</td>\n",
              "      <td>51862.0</td>\n",
              "      <td>3704.428571</td>\n",
              "      <td>4321.833333</td>\n",
              "      <td>PR</td>\n",
              "      <td>Figueira</td>\n",
              "      <td>Região Sul</td>\n",
              "      <td>160.067901</td>\n",
              "    </tr>\n",
              "    <tr>\n",
              "      <th>3</th>\n",
              "      <td>7</td>\n",
              "      <td>8</td>\n",
              "      <td>0</td>\n",
              "      <td>3</td>\n",
              "      <td>homem</td>\n",
              "      <td>20</td>\n",
              "      <td>3</td>\n",
              "      <td>21075.0</td>\n",
              "      <td>1505.357143</td>\n",
              "      <td>1756.250000</td>\n",
              "      <td>BA</td>\n",
              "      <td>Ouriçangas</td>\n",
              "      <td>Região Nordeste</td>\n",
              "      <td>175625.000000</td>\n",
              "    </tr>\n",
              "    <tr>\n",
              "      <th>4</th>\n",
              "      <td>13</td>\n",
              "      <td>14</td>\n",
              "      <td>0</td>\n",
              "      <td>3</td>\n",
              "      <td>homem</td>\n",
              "      <td>39</td>\n",
              "      <td>1</td>\n",
              "      <td>31275.0</td>\n",
              "      <td>2233.928571</td>\n",
              "      <td>2606.250000</td>\n",
              "      <td>BA</td>\n",
              "      <td>Abaíra</td>\n",
              "      <td>Região Nordeste</td>\n",
              "      <td>133.653846</td>\n",
              "    </tr>\n",
              "  </tbody>\n",
              "</table>\n",
              "</div>"
            ],
            "text/plain": [
              "   index  ID  Target  ...  CidadeResidencia     RegiaodoPais  NumeroComprasOnline\n",
              "0      1   2       1  ...  Marcelino Vieira  Região Nordeste           312.644737\n",
              "1      5   6       0  ...         Carneiros  Região Nordeste           640.780303\n",
              "2      6   7       0  ...          Figueira       Região Sul           160.067901\n",
              "3      7   8       0  ...        Ouriçangas  Região Nordeste        175625.000000\n",
              "4     13  14       0  ...            Abaíra  Região Nordeste           133.653846\n",
              "\n",
              "[5 rows x 14 columns]"
            ]
          },
          "metadata": {
            "tags": []
          },
          "execution_count": 41
        }
      ]
    },
    {
      "cell_type": "code",
      "metadata": {
        "id": "dZWaReOUURZk",
        "outputId": "48a6d633-1142-4fc1-9fa9-d65a4247f0eb",
        "colab": {
          "base_uri": "https://localhost:8080/",
          "height": 292
        }
      },
      "source": [
        "df[df.GastoMedio > 1000].head(5)"
      ],
      "execution_count": 43,
      "outputs": [
        {
          "output_type": "execute_result",
          "data": {
            "text/html": [
              "<div>\n",
              "<style scoped>\n",
              "    .dataframe tbody tr th:only-of-type {\n",
              "        vertical-align: middle;\n",
              "    }\n",
              "\n",
              "    .dataframe tbody tr th {\n",
              "        vertical-align: top;\n",
              "    }\n",
              "\n",
              "    .dataframe thead th {\n",
              "        text-align: right;\n",
              "    }\n",
              "</style>\n",
              "<table border=\"1\" class=\"dataframe\">\n",
              "  <thead>\n",
              "    <tr style=\"text-align: right;\">\n",
              "      <th></th>\n",
              "      <th>ID</th>\n",
              "      <th>Target</th>\n",
              "      <th>GrupoEconomico</th>\n",
              "      <th>Sexo</th>\n",
              "      <th>Idade</th>\n",
              "      <th>GrupoRisco</th>\n",
              "      <th>ValorCompraAnual</th>\n",
              "      <th>GastoMax</th>\n",
              "      <th>GastoMedio</th>\n",
              "      <th>UF</th>\n",
              "      <th>CidadeResidencia</th>\n",
              "      <th>RegiaodoPais</th>\n",
              "      <th>NumeroComprasOnline</th>\n",
              "    </tr>\n",
              "  </thead>\n",
              "  <tbody>\n",
              "    <tr>\n",
              "      <th>1</th>\n",
              "      <td>2</td>\n",
              "      <td>1</td>\n",
              "      <td>1</td>\n",
              "      <td>mulher</td>\n",
              "      <td>38</td>\n",
              "      <td>1</td>\n",
              "      <td>71283.0</td>\n",
              "      <td>5091.642857</td>\n",
              "      <td>5940.250000</td>\n",
              "      <td>RN</td>\n",
              "      <td>Marcelino Vieira</td>\n",
              "      <td>Região Nordeste</td>\n",
              "      <td>312.644737</td>\n",
              "    </tr>\n",
              "    <tr>\n",
              "      <th>5</th>\n",
              "      <td>6</td>\n",
              "      <td>0</td>\n",
              "      <td>3</td>\n",
              "      <td>homem</td>\n",
              "      <td>22</td>\n",
              "      <td>0</td>\n",
              "      <td>84583.0</td>\n",
              "      <td>6041.642857</td>\n",
              "      <td>7048.583333</td>\n",
              "      <td>AL</td>\n",
              "      <td>Carneiros</td>\n",
              "      <td>Região Nordeste</td>\n",
              "      <td>640.780303</td>\n",
              "    </tr>\n",
              "    <tr>\n",
              "      <th>6</th>\n",
              "      <td>7</td>\n",
              "      <td>0</td>\n",
              "      <td>1</td>\n",
              "      <td>homem</td>\n",
              "      <td>54</td>\n",
              "      <td>0</td>\n",
              "      <td>51862.0</td>\n",
              "      <td>3704.428571</td>\n",
              "      <td>4321.833333</td>\n",
              "      <td>PR</td>\n",
              "      <td>Figueira</td>\n",
              "      <td>Região Sul</td>\n",
              "      <td>160.067901</td>\n",
              "    </tr>\n",
              "    <tr>\n",
              "      <th>7</th>\n",
              "      <td>8</td>\n",
              "      <td>0</td>\n",
              "      <td>3</td>\n",
              "      <td>homem</td>\n",
              "      <td>20</td>\n",
              "      <td>3</td>\n",
              "      <td>21075.0</td>\n",
              "      <td>1505.357143</td>\n",
              "      <td>1756.250000</td>\n",
              "      <td>BA</td>\n",
              "      <td>Ouriçangas</td>\n",
              "      <td>Região Nordeste</td>\n",
              "      <td>175625.000000</td>\n",
              "    </tr>\n",
              "    <tr>\n",
              "      <th>13</th>\n",
              "      <td>14</td>\n",
              "      <td>0</td>\n",
              "      <td>3</td>\n",
              "      <td>homem</td>\n",
              "      <td>39</td>\n",
              "      <td>1</td>\n",
              "      <td>31275.0</td>\n",
              "      <td>2233.928571</td>\n",
              "      <td>2606.250000</td>\n",
              "      <td>BA</td>\n",
              "      <td>Abaíra</td>\n",
              "      <td>Região Nordeste</td>\n",
              "      <td>133.653846</td>\n",
              "    </tr>\n",
              "  </tbody>\n",
              "</table>\n",
              "</div>"
            ],
            "text/plain": [
              "    ID  Target  ...     RegiaodoPais NumeroComprasOnline\n",
              "1    2       1  ...  Região Nordeste          312.644737\n",
              "5    6       0  ...  Região Nordeste          640.780303\n",
              "6    7       0  ...       Região Sul          160.067901\n",
              "7    8       0  ...  Região Nordeste       175625.000000\n",
              "13  14       0  ...  Região Nordeste          133.653846\n",
              "\n",
              "[5 rows x 13 columns]"
            ]
          },
          "metadata": {
            "tags": []
          },
          "execution_count": 43
        }
      ]
    },
    {
      "cell_type": "markdown",
      "metadata": {
        "id": "3ydqANR3URZk"
      },
      "source": [
        "#### Entre `BETWEEN`"
      ]
    },
    {
      "cell_type": "code",
      "metadata": {
        "ExecuteTime": {
          "end_time": "2021-07-20T22:55:39.500727Z",
          "start_time": "2021-07-20T22:55:38.310758Z"
        },
        "id": "h59-BLAvURZk",
        "outputId": "972ebda4-bfff-4e55-9bb2-491ce144d7bb",
        "colab": {
          "base_uri": "https://localhost:8080/",
          "height": 292
        }
      },
      "source": [
        "query = '''\n",
        "    SELECT *\n",
        "    FROM AtrasoCartaoCredito\n",
        "    WHERE GastoMedio BETWEEN 500 AND 1000\n",
        "    LIMIT 5\n",
        "'''\n",
        "\n",
        "pd.read_sql(query, engine)"
      ],
      "execution_count": 44,
      "outputs": [
        {
          "output_type": "execute_result",
          "data": {
            "text/html": [
              "<div>\n",
              "<style scoped>\n",
              "    .dataframe tbody tr th:only-of-type {\n",
              "        vertical-align: middle;\n",
              "    }\n",
              "\n",
              "    .dataframe tbody tr th {\n",
              "        vertical-align: top;\n",
              "    }\n",
              "\n",
              "    .dataframe thead th {\n",
              "        text-align: right;\n",
              "    }\n",
              "</style>\n",
              "<table border=\"1\" class=\"dataframe\">\n",
              "  <thead>\n",
              "    <tr style=\"text-align: right;\">\n",
              "      <th></th>\n",
              "      <th>index</th>\n",
              "      <th>ID</th>\n",
              "      <th>Target</th>\n",
              "      <th>GrupoEconomico</th>\n",
              "      <th>Sexo</th>\n",
              "      <th>Idade</th>\n",
              "      <th>GrupoRisco</th>\n",
              "      <th>ValorCompraAnual</th>\n",
              "      <th>GastoMax</th>\n",
              "      <th>GastoMedio</th>\n",
              "      <th>UF</th>\n",
              "      <th>CidadeResidencia</th>\n",
              "      <th>RegiaodoPais</th>\n",
              "      <th>NumeroComprasOnline</th>\n",
              "    </tr>\n",
              "  </thead>\n",
              "  <tbody>\n",
              "    <tr>\n",
              "      <th>0</th>\n",
              "      <td>0</td>\n",
              "      <td>1</td>\n",
              "      <td>0</td>\n",
              "      <td>3</td>\n",
              "      <td>homem</td>\n",
              "      <td>22</td>\n",
              "      <td>1</td>\n",
              "      <td>7250.0</td>\n",
              "      <td>517.857143</td>\n",
              "      <td>604.166667</td>\n",
              "      <td>MG</td>\n",
              "      <td>Morada Nova de Minas</td>\n",
              "      <td>Região Sudeste</td>\n",
              "      <td>54.924242</td>\n",
              "    </tr>\n",
              "    <tr>\n",
              "      <th>1</th>\n",
              "      <td>2</td>\n",
              "      <td>3</td>\n",
              "      <td>1</td>\n",
              "      <td>3</td>\n",
              "      <td>mulher</td>\n",
              "      <td>26</td>\n",
              "      <td>0</td>\n",
              "      <td>7925.0</td>\n",
              "      <td>566.071429</td>\n",
              "      <td>660.416667</td>\n",
              "      <td>PR</td>\n",
              "      <td>Agudos do Sul</td>\n",
              "      <td>Região Sul</td>\n",
              "      <td>50.801282</td>\n",
              "    </tr>\n",
              "    <tr>\n",
              "      <th>2</th>\n",
              "      <td>8</td>\n",
              "      <td>9</td>\n",
              "      <td>1</td>\n",
              "      <td>3</td>\n",
              "      <td>mulher</td>\n",
              "      <td>27</td>\n",
              "      <td>0</td>\n",
              "      <td>11133.0</td>\n",
              "      <td>795.214286</td>\n",
              "      <td>927.750000</td>\n",
              "      <td>MG</td>\n",
              "      <td>Comercinho</td>\n",
              "      <td>Região Sudeste</td>\n",
              "      <td>68.722222</td>\n",
              "    </tr>\n",
              "    <tr>\n",
              "      <th>3</th>\n",
              "      <td>19</td>\n",
              "      <td>20</td>\n",
              "      <td>1</td>\n",
              "      <td>3</td>\n",
              "      <td>mulher</td>\n",
              "      <td>45</td>\n",
              "      <td>0</td>\n",
              "      <td>7225.0</td>\n",
              "      <td>516.071429</td>\n",
              "      <td>602.083333</td>\n",
              "      <td>SE</td>\n",
              "      <td>Ilha Das Flores</td>\n",
              "      <td>Região Nordeste</td>\n",
              "      <td>26.759259</td>\n",
              "    </tr>\n",
              "    <tr>\n",
              "      <th>4</th>\n",
              "      <td>26</td>\n",
              "      <td>27</td>\n",
              "      <td>0</td>\n",
              "      <td>3</td>\n",
              "      <td>homem</td>\n",
              "      <td>31</td>\n",
              "      <td>0</td>\n",
              "      <td>7225.0</td>\n",
              "      <td>516.071429</td>\n",
              "      <td>602.083333</td>\n",
              "      <td>PB</td>\n",
              "      <td>Gado Bravo</td>\n",
              "      <td>Região Nordeste</td>\n",
              "      <td>38.844086</td>\n",
              "    </tr>\n",
              "  </tbody>\n",
              "</table>\n",
              "</div>"
            ],
            "text/plain": [
              "   index  ID  ...     RegiaodoPais  NumeroComprasOnline\n",
              "0      0   1  ...   Região Sudeste            54.924242\n",
              "1      2   3  ...       Região Sul            50.801282\n",
              "2      8   9  ...   Região Sudeste            68.722222\n",
              "3     19  20  ...  Região Nordeste            26.759259\n",
              "4     26  27  ...  Região Nordeste            38.844086\n",
              "\n",
              "[5 rows x 14 columns]"
            ]
          },
          "metadata": {
            "tags": []
          },
          "execution_count": 44
        }
      ]
    },
    {
      "cell_type": "markdown",
      "metadata": {
        "id": "pR_jfwp0URZl"
      },
      "source": [
        "#### E `AND`"
      ]
    },
    {
      "cell_type": "code",
      "metadata": {
        "ExecuteTime": {
          "end_time": "2021-07-20T22:56:15.800967Z",
          "start_time": "2021-07-20T22:56:14.568118Z"
        },
        "id": "EENT83hWURZl",
        "outputId": "f1981d20-7801-4a16-b618-9a5aaa32d3b6",
        "colab": {
          "base_uri": "https://localhost:8080/",
          "height": 275
        }
      },
      "source": [
        "query = '''\n",
        "    SELECT *\n",
        "    FROM AtrasoCartaoCredito\n",
        "    WHERE GastoMedio > 1000 AND Sexo = 'mulher'\n",
        "    LIMIT 5\n",
        "'''\n",
        "\n",
        "pd.read_sql(query, engine)"
      ],
      "execution_count": 45,
      "outputs": [
        {
          "output_type": "execute_result",
          "data": {
            "text/html": [
              "<div>\n",
              "<style scoped>\n",
              "    .dataframe tbody tr th:only-of-type {\n",
              "        vertical-align: middle;\n",
              "    }\n",
              "\n",
              "    .dataframe tbody tr th {\n",
              "        vertical-align: top;\n",
              "    }\n",
              "\n",
              "    .dataframe thead th {\n",
              "        text-align: right;\n",
              "    }\n",
              "</style>\n",
              "<table border=\"1\" class=\"dataframe\">\n",
              "  <thead>\n",
              "    <tr style=\"text-align: right;\">\n",
              "      <th></th>\n",
              "      <th>index</th>\n",
              "      <th>ID</th>\n",
              "      <th>Target</th>\n",
              "      <th>GrupoEconomico</th>\n",
              "      <th>Sexo</th>\n",
              "      <th>Idade</th>\n",
              "      <th>GrupoRisco</th>\n",
              "      <th>ValorCompraAnual</th>\n",
              "      <th>GastoMax</th>\n",
              "      <th>GastoMedio</th>\n",
              "      <th>UF</th>\n",
              "      <th>CidadeResidencia</th>\n",
              "      <th>RegiaodoPais</th>\n",
              "      <th>NumeroComprasOnline</th>\n",
              "    </tr>\n",
              "  </thead>\n",
              "  <tbody>\n",
              "    <tr>\n",
              "      <th>0</th>\n",
              "      <td>1</td>\n",
              "      <td>2</td>\n",
              "      <td>1</td>\n",
              "      <td>1</td>\n",
              "      <td>mulher</td>\n",
              "      <td>38</td>\n",
              "      <td>1</td>\n",
              "      <td>71283.0</td>\n",
              "      <td>5091.642857</td>\n",
              "      <td>5940.250000</td>\n",
              "      <td>RN</td>\n",
              "      <td>Marcelino Vieira</td>\n",
              "      <td>Região Nordeste</td>\n",
              "      <td>312.644737</td>\n",
              "    </tr>\n",
              "    <tr>\n",
              "      <th>1</th>\n",
              "      <td>14</td>\n",
              "      <td>15</td>\n",
              "      <td>0</td>\n",
              "      <td>3</td>\n",
              "      <td>mulher</td>\n",
              "      <td>14</td>\n",
              "      <td>0</td>\n",
              "      <td>78542.0</td>\n",
              "      <td>5610.142857</td>\n",
              "      <td>6545.166667</td>\n",
              "      <td>MG</td>\n",
              "      <td>Alto Jequitibá</td>\n",
              "      <td>Região Sudeste</td>\n",
              "      <td>935.023810</td>\n",
              "    </tr>\n",
              "    <tr>\n",
              "      <th>2</th>\n",
              "      <td>22</td>\n",
              "      <td>23</td>\n",
              "      <td>1</td>\n",
              "      <td>3</td>\n",
              "      <td>mulher</td>\n",
              "      <td>15</td>\n",
              "      <td>0</td>\n",
              "      <td>80292.0</td>\n",
              "      <td>5735.142857</td>\n",
              "      <td>6691.000000</td>\n",
              "      <td>GO</td>\n",
              "      <td>Aragoiânia</td>\n",
              "      <td>Região Centro-Oeste</td>\n",
              "      <td>892.133333</td>\n",
              "    </tr>\n",
              "    <tr>\n",
              "      <th>3</th>\n",
              "      <td>24</td>\n",
              "      <td>25</td>\n",
              "      <td>0</td>\n",
              "      <td>3</td>\n",
              "      <td>mulher</td>\n",
              "      <td>80</td>\n",
              "      <td>3</td>\n",
              "      <td>21075.0</td>\n",
              "      <td>1505.357143</td>\n",
              "      <td>1756.250000</td>\n",
              "      <td>TO</td>\n",
              "      <td>Alvorada</td>\n",
              "      <td>Região Norte</td>\n",
              "      <td>439.062500</td>\n",
              "    </tr>\n",
              "    <tr>\n",
              "      <th>4</th>\n",
              "      <td>25</td>\n",
              "      <td>26</td>\n",
              "      <td>1</td>\n",
              "      <td>3</td>\n",
              "      <td>mulher</td>\n",
              "      <td>30</td>\n",
              "      <td>1</td>\n",
              "      <td>31387.0</td>\n",
              "      <td>2241.928571</td>\n",
              "      <td>2615.583333</td>\n",
              "      <td>RR</td>\n",
              "      <td>Uiramutã</td>\n",
              "      <td>Região Norte</td>\n",
              "      <td>174.372222</td>\n",
              "    </tr>\n",
              "  </tbody>\n",
              "</table>\n",
              "</div>"
            ],
            "text/plain": [
              "   index  ID  ...         RegiaodoPais  NumeroComprasOnline\n",
              "0      1   2  ...      Região Nordeste           312.644737\n",
              "1     14  15  ...       Região Sudeste           935.023810\n",
              "2     22  23  ...  Região Centro-Oeste           892.133333\n",
              "3     24  25  ...         Região Norte           439.062500\n",
              "4     25  26  ...         Região Norte           174.372222\n",
              "\n",
              "[5 rows x 14 columns]"
            ]
          },
          "metadata": {
            "tags": []
          },
          "execution_count": 45
        }
      ]
    },
    {
      "cell_type": "markdown",
      "metadata": {
        "id": "fDWs2bUDURZl"
      },
      "source": [
        "#### Ou `OR`"
      ]
    },
    {
      "cell_type": "code",
      "metadata": {
        "ExecuteTime": {
          "end_time": "2021-07-20T22:56:50.188245Z",
          "start_time": "2021-07-20T22:56:48.962789Z"
        },
        "id": "_i5cJyumURZl",
        "outputId": "d7c232e4-4873-4962-8dc5-f7ea0a6597e7",
        "colab": {
          "base_uri": "https://localhost:8080/",
          "height": 275
        }
      },
      "source": [
        "query = '''\n",
        "    SELECT *\n",
        "    FROM AtrasoCartaoCredito\n",
        "    WHERE GastoMedio > 1000 OR CidadeResidencia = 'Agudos do Sul'\n",
        "    LIMIT 5\n",
        "'''\n",
        "\n",
        "pd.read_sql(query, engine)"
      ],
      "execution_count": 46,
      "outputs": [
        {
          "output_type": "execute_result",
          "data": {
            "text/html": [
              "<div>\n",
              "<style scoped>\n",
              "    .dataframe tbody tr th:only-of-type {\n",
              "        vertical-align: middle;\n",
              "    }\n",
              "\n",
              "    .dataframe tbody tr th {\n",
              "        vertical-align: top;\n",
              "    }\n",
              "\n",
              "    .dataframe thead th {\n",
              "        text-align: right;\n",
              "    }\n",
              "</style>\n",
              "<table border=\"1\" class=\"dataframe\">\n",
              "  <thead>\n",
              "    <tr style=\"text-align: right;\">\n",
              "      <th></th>\n",
              "      <th>index</th>\n",
              "      <th>ID</th>\n",
              "      <th>Target</th>\n",
              "      <th>GrupoEconomico</th>\n",
              "      <th>Sexo</th>\n",
              "      <th>Idade</th>\n",
              "      <th>GrupoRisco</th>\n",
              "      <th>ValorCompraAnual</th>\n",
              "      <th>GastoMax</th>\n",
              "      <th>GastoMedio</th>\n",
              "      <th>UF</th>\n",
              "      <th>CidadeResidencia</th>\n",
              "      <th>RegiaodoPais</th>\n",
              "      <th>NumeroComprasOnline</th>\n",
              "    </tr>\n",
              "  </thead>\n",
              "  <tbody>\n",
              "    <tr>\n",
              "      <th>0</th>\n",
              "      <td>1</td>\n",
              "      <td>2</td>\n",
              "      <td>1</td>\n",
              "      <td>1</td>\n",
              "      <td>mulher</td>\n",
              "      <td>38</td>\n",
              "      <td>1</td>\n",
              "      <td>71283.0</td>\n",
              "      <td>5091.642857</td>\n",
              "      <td>5940.250000</td>\n",
              "      <td>RN</td>\n",
              "      <td>Marcelino Vieira</td>\n",
              "      <td>Região Nordeste</td>\n",
              "      <td>312.644737</td>\n",
              "    </tr>\n",
              "    <tr>\n",
              "      <th>1</th>\n",
              "      <td>2</td>\n",
              "      <td>3</td>\n",
              "      <td>1</td>\n",
              "      <td>3</td>\n",
              "      <td>mulher</td>\n",
              "      <td>26</td>\n",
              "      <td>0</td>\n",
              "      <td>7925.0</td>\n",
              "      <td>566.071429</td>\n",
              "      <td>660.416667</td>\n",
              "      <td>PR</td>\n",
              "      <td>Agudos do Sul</td>\n",
              "      <td>Região Sul</td>\n",
              "      <td>50.801282</td>\n",
              "    </tr>\n",
              "    <tr>\n",
              "      <th>2</th>\n",
              "      <td>5</td>\n",
              "      <td>6</td>\n",
              "      <td>0</td>\n",
              "      <td>3</td>\n",
              "      <td>homem</td>\n",
              "      <td>22</td>\n",
              "      <td>0</td>\n",
              "      <td>84583.0</td>\n",
              "      <td>6041.642857</td>\n",
              "      <td>7048.583333</td>\n",
              "      <td>AL</td>\n",
              "      <td>Carneiros</td>\n",
              "      <td>Região Nordeste</td>\n",
              "      <td>640.780303</td>\n",
              "    </tr>\n",
              "    <tr>\n",
              "      <th>3</th>\n",
              "      <td>6</td>\n",
              "      <td>7</td>\n",
              "      <td>0</td>\n",
              "      <td>1</td>\n",
              "      <td>homem</td>\n",
              "      <td>54</td>\n",
              "      <td>0</td>\n",
              "      <td>51862.0</td>\n",
              "      <td>3704.428571</td>\n",
              "      <td>4321.833333</td>\n",
              "      <td>PR</td>\n",
              "      <td>Figueira</td>\n",
              "      <td>Região Sul</td>\n",
              "      <td>160.067901</td>\n",
              "    </tr>\n",
              "    <tr>\n",
              "      <th>4</th>\n",
              "      <td>7</td>\n",
              "      <td>8</td>\n",
              "      <td>0</td>\n",
              "      <td>3</td>\n",
              "      <td>homem</td>\n",
              "      <td>20</td>\n",
              "      <td>3</td>\n",
              "      <td>21075.0</td>\n",
              "      <td>1505.357143</td>\n",
              "      <td>1756.250000</td>\n",
              "      <td>BA</td>\n",
              "      <td>Ouriçangas</td>\n",
              "      <td>Região Nordeste</td>\n",
              "      <td>175625.000000</td>\n",
              "    </tr>\n",
              "  </tbody>\n",
              "</table>\n",
              "</div>"
            ],
            "text/plain": [
              "   index  ID  Target  ...  CidadeResidencia     RegiaodoPais  NumeroComprasOnline\n",
              "0      1   2       1  ...  Marcelino Vieira  Região Nordeste           312.644737\n",
              "1      2   3       1  ...     Agudos do Sul       Região Sul            50.801282\n",
              "2      5   6       0  ...         Carneiros  Região Nordeste           640.780303\n",
              "3      6   7       0  ...          Figueira       Região Sul           160.067901\n",
              "4      7   8       0  ...        Ouriçangas  Região Nordeste        175625.000000\n",
              "\n",
              "[5 rows x 14 columns]"
            ]
          },
          "metadata": {
            "tags": []
          },
          "execution_count": 46
        }
      ]
    },
    {
      "cell_type": "markdown",
      "metadata": {
        "id": "XxsG8K15URZl"
      },
      "source": [
        "#### Em `IN`"
      ]
    },
    {
      "cell_type": "code",
      "metadata": {
        "ExecuteTime": {
          "end_time": "2021-07-20T22:57:58.127689Z",
          "start_time": "2021-07-20T22:57:56.918806Z"
        },
        "id": "HfUSXY4wURZm",
        "outputId": "d4d568d5-4245-497d-b8f4-0dcb156bbfc8",
        "colab": {
          "base_uri": "https://localhost:8080/",
          "height": 258
        }
      },
      "source": [
        "query = '''\n",
        "    SELECT *\n",
        "    FROM AtrasoCartaoCredito\n",
        "    WHERE UF = 'BA' OR UF = 'PR'\n",
        "    LIMIT 5\n",
        "'''\n",
        "\n",
        "pd.read_sql(query, engine)"
      ],
      "execution_count": 47,
      "outputs": [
        {
          "output_type": "execute_result",
          "data": {
            "text/html": [
              "<div>\n",
              "<style scoped>\n",
              "    .dataframe tbody tr th:only-of-type {\n",
              "        vertical-align: middle;\n",
              "    }\n",
              "\n",
              "    .dataframe tbody tr th {\n",
              "        vertical-align: top;\n",
              "    }\n",
              "\n",
              "    .dataframe thead th {\n",
              "        text-align: right;\n",
              "    }\n",
              "</style>\n",
              "<table border=\"1\" class=\"dataframe\">\n",
              "  <thead>\n",
              "    <tr style=\"text-align: right;\">\n",
              "      <th></th>\n",
              "      <th>index</th>\n",
              "      <th>ID</th>\n",
              "      <th>Target</th>\n",
              "      <th>GrupoEconomico</th>\n",
              "      <th>Sexo</th>\n",
              "      <th>Idade</th>\n",
              "      <th>GrupoRisco</th>\n",
              "      <th>ValorCompraAnual</th>\n",
              "      <th>GastoMax</th>\n",
              "      <th>GastoMedio</th>\n",
              "      <th>UF</th>\n",
              "      <th>CidadeResidencia</th>\n",
              "      <th>RegiaodoPais</th>\n",
              "      <th>NumeroComprasOnline</th>\n",
              "    </tr>\n",
              "  </thead>\n",
              "  <tbody>\n",
              "    <tr>\n",
              "      <th>0</th>\n",
              "      <td>2</td>\n",
              "      <td>3</td>\n",
              "      <td>1</td>\n",
              "      <td>3</td>\n",
              "      <td>mulher</td>\n",
              "      <td>26</td>\n",
              "      <td>0</td>\n",
              "      <td>7925.0</td>\n",
              "      <td>566.071429</td>\n",
              "      <td>660.416667</td>\n",
              "      <td>PR</td>\n",
              "      <td>Agudos do Sul</td>\n",
              "      <td>Região Sul</td>\n",
              "      <td>50.801282</td>\n",
              "    </tr>\n",
              "    <tr>\n",
              "      <th>1</th>\n",
              "      <td>3</td>\n",
              "      <td>4</td>\n",
              "      <td>1</td>\n",
              "      <td>1</td>\n",
              "      <td>mulher</td>\n",
              "      <td>35</td>\n",
              "      <td>1</td>\n",
              "      <td>531.0</td>\n",
              "      <td>37.928571</td>\n",
              "      <td>44.250000</td>\n",
              "      <td>PR</td>\n",
              "      <td>Congonhinhas</td>\n",
              "      <td>Região Sul</td>\n",
              "      <td>2.528571</td>\n",
              "    </tr>\n",
              "    <tr>\n",
              "      <th>2</th>\n",
              "      <td>4</td>\n",
              "      <td>5</td>\n",
              "      <td>0</td>\n",
              "      <td>3</td>\n",
              "      <td>homem</td>\n",
              "      <td>35</td>\n",
              "      <td>0</td>\n",
              "      <td>805.0</td>\n",
              "      <td>57.500000</td>\n",
              "      <td>67.083333</td>\n",
              "      <td>BA</td>\n",
              "      <td>Morpará</td>\n",
              "      <td>Região Nordeste</td>\n",
              "      <td>3.833333</td>\n",
              "    </tr>\n",
              "    <tr>\n",
              "      <th>3</th>\n",
              "      <td>6</td>\n",
              "      <td>7</td>\n",
              "      <td>0</td>\n",
              "      <td>1</td>\n",
              "      <td>homem</td>\n",
              "      <td>54</td>\n",
              "      <td>0</td>\n",
              "      <td>51862.0</td>\n",
              "      <td>3704.428571</td>\n",
              "      <td>4321.833333</td>\n",
              "      <td>PR</td>\n",
              "      <td>Figueira</td>\n",
              "      <td>Região Sul</td>\n",
              "      <td>160.067901</td>\n",
              "    </tr>\n",
              "    <tr>\n",
              "      <th>4</th>\n",
              "      <td>7</td>\n",
              "      <td>8</td>\n",
              "      <td>0</td>\n",
              "      <td>3</td>\n",
              "      <td>homem</td>\n",
              "      <td>20</td>\n",
              "      <td>3</td>\n",
              "      <td>21075.0</td>\n",
              "      <td>1505.357143</td>\n",
              "      <td>1756.250000</td>\n",
              "      <td>BA</td>\n",
              "      <td>Ouriçangas</td>\n",
              "      <td>Região Nordeste</td>\n",
              "      <td>175625.000000</td>\n",
              "    </tr>\n",
              "  </tbody>\n",
              "</table>\n",
              "</div>"
            ],
            "text/plain": [
              "   index  ID  Target  ...  CidadeResidencia     RegiaodoPais  NumeroComprasOnline\n",
              "0      2   3       1  ...     Agudos do Sul       Região Sul            50.801282\n",
              "1      3   4       1  ...      Congonhinhas       Região Sul             2.528571\n",
              "2      4   5       0  ...           Morpará  Região Nordeste             3.833333\n",
              "3      6   7       0  ...          Figueira       Região Sul           160.067901\n",
              "4      7   8       0  ...        Ouriçangas  Região Nordeste        175625.000000\n",
              "\n",
              "[5 rows x 14 columns]"
            ]
          },
          "metadata": {
            "tags": []
          },
          "execution_count": 47
        }
      ]
    },
    {
      "cell_type": "code",
      "metadata": {
        "ExecuteTime": {
          "end_time": "2021-07-20T22:58:37.013099Z",
          "start_time": "2021-07-20T22:58:35.812047Z"
        },
        "id": "A8tYA8Y1URZm",
        "outputId": "185e3d5a-7340-4183-f7da-4ddb9de9586e",
        "colab": {
          "base_uri": "https://localhost:8080/",
          "height": 258
        }
      },
      "source": [
        "query = '''\n",
        "    SELECT *\n",
        "    FROM AtrasoCartaoCredito\n",
        "    WHERE UF IN ('BA', 'PR')\n",
        "    LIMIT 5\n",
        "'''\n",
        "\n",
        "pd.read_sql(query, engine)"
      ],
      "execution_count": 48,
      "outputs": [
        {
          "output_type": "execute_result",
          "data": {
            "text/html": [
              "<div>\n",
              "<style scoped>\n",
              "    .dataframe tbody tr th:only-of-type {\n",
              "        vertical-align: middle;\n",
              "    }\n",
              "\n",
              "    .dataframe tbody tr th {\n",
              "        vertical-align: top;\n",
              "    }\n",
              "\n",
              "    .dataframe thead th {\n",
              "        text-align: right;\n",
              "    }\n",
              "</style>\n",
              "<table border=\"1\" class=\"dataframe\">\n",
              "  <thead>\n",
              "    <tr style=\"text-align: right;\">\n",
              "      <th></th>\n",
              "      <th>index</th>\n",
              "      <th>ID</th>\n",
              "      <th>Target</th>\n",
              "      <th>GrupoEconomico</th>\n",
              "      <th>Sexo</th>\n",
              "      <th>Idade</th>\n",
              "      <th>GrupoRisco</th>\n",
              "      <th>ValorCompraAnual</th>\n",
              "      <th>GastoMax</th>\n",
              "      <th>GastoMedio</th>\n",
              "      <th>UF</th>\n",
              "      <th>CidadeResidencia</th>\n",
              "      <th>RegiaodoPais</th>\n",
              "      <th>NumeroComprasOnline</th>\n",
              "    </tr>\n",
              "  </thead>\n",
              "  <tbody>\n",
              "    <tr>\n",
              "      <th>0</th>\n",
              "      <td>2</td>\n",
              "      <td>3</td>\n",
              "      <td>1</td>\n",
              "      <td>3</td>\n",
              "      <td>mulher</td>\n",
              "      <td>26</td>\n",
              "      <td>0</td>\n",
              "      <td>7925.0</td>\n",
              "      <td>566.071429</td>\n",
              "      <td>660.416667</td>\n",
              "      <td>PR</td>\n",
              "      <td>Agudos do Sul</td>\n",
              "      <td>Região Sul</td>\n",
              "      <td>50.801282</td>\n",
              "    </tr>\n",
              "    <tr>\n",
              "      <th>1</th>\n",
              "      <td>3</td>\n",
              "      <td>4</td>\n",
              "      <td>1</td>\n",
              "      <td>1</td>\n",
              "      <td>mulher</td>\n",
              "      <td>35</td>\n",
              "      <td>1</td>\n",
              "      <td>531.0</td>\n",
              "      <td>37.928571</td>\n",
              "      <td>44.250000</td>\n",
              "      <td>PR</td>\n",
              "      <td>Congonhinhas</td>\n",
              "      <td>Região Sul</td>\n",
              "      <td>2.528571</td>\n",
              "    </tr>\n",
              "    <tr>\n",
              "      <th>2</th>\n",
              "      <td>4</td>\n",
              "      <td>5</td>\n",
              "      <td>0</td>\n",
              "      <td>3</td>\n",
              "      <td>homem</td>\n",
              "      <td>35</td>\n",
              "      <td>0</td>\n",
              "      <td>805.0</td>\n",
              "      <td>57.500000</td>\n",
              "      <td>67.083333</td>\n",
              "      <td>BA</td>\n",
              "      <td>Morpará</td>\n",
              "      <td>Região Nordeste</td>\n",
              "      <td>3.833333</td>\n",
              "    </tr>\n",
              "    <tr>\n",
              "      <th>3</th>\n",
              "      <td>6</td>\n",
              "      <td>7</td>\n",
              "      <td>0</td>\n",
              "      <td>1</td>\n",
              "      <td>homem</td>\n",
              "      <td>54</td>\n",
              "      <td>0</td>\n",
              "      <td>51862.0</td>\n",
              "      <td>3704.428571</td>\n",
              "      <td>4321.833333</td>\n",
              "      <td>PR</td>\n",
              "      <td>Figueira</td>\n",
              "      <td>Região Sul</td>\n",
              "      <td>160.067901</td>\n",
              "    </tr>\n",
              "    <tr>\n",
              "      <th>4</th>\n",
              "      <td>7</td>\n",
              "      <td>8</td>\n",
              "      <td>0</td>\n",
              "      <td>3</td>\n",
              "      <td>homem</td>\n",
              "      <td>20</td>\n",
              "      <td>3</td>\n",
              "      <td>21075.0</td>\n",
              "      <td>1505.357143</td>\n",
              "      <td>1756.250000</td>\n",
              "      <td>BA</td>\n",
              "      <td>Ouriçangas</td>\n",
              "      <td>Região Nordeste</td>\n",
              "      <td>175625.000000</td>\n",
              "    </tr>\n",
              "  </tbody>\n",
              "</table>\n",
              "</div>"
            ],
            "text/plain": [
              "   index  ID  Target  ...  CidadeResidencia     RegiaodoPais  NumeroComprasOnline\n",
              "0      2   3       1  ...     Agudos do Sul       Região Sul            50.801282\n",
              "1      3   4       1  ...      Congonhinhas       Região Sul             2.528571\n",
              "2      4   5       0  ...           Morpará  Região Nordeste             3.833333\n",
              "3      6   7       0  ...          Figueira       Região Sul           160.067901\n",
              "4      7   8       0  ...        Ouriçangas  Região Nordeste        175625.000000\n",
              "\n",
              "[5 rows x 14 columns]"
            ]
          },
          "metadata": {
            "tags": []
          },
          "execution_count": 48
        }
      ]
    },
    {
      "cell_type": "markdown",
      "metadata": {
        "id": "YHqxwX0PURZm"
      },
      "source": [
        "#### Não `NOT`"
      ]
    },
    {
      "cell_type": "code",
      "metadata": {
        "ExecuteTime": {
          "end_time": "2021-07-20T22:59:09.090687Z",
          "start_time": "2021-07-20T22:59:07.835508Z"
        },
        "id": "W5dU_QMCURZm",
        "outputId": "be8ad248-d8a3-4816-d5e9-3a95320bf102",
        "colab": {
          "base_uri": "https://localhost:8080/",
          "height": 309
        }
      },
      "source": [
        "query = '''\n",
        "    SELECT *\n",
        "    FROM AtrasoCartaoCredito\n",
        "    WHERE UF NOT IN ('BA', 'PR')\n",
        "    LIMIT 5\n",
        "'''\n",
        "\n",
        "pd.read_sql(query, engine)"
      ],
      "execution_count": 49,
      "outputs": [
        {
          "output_type": "execute_result",
          "data": {
            "text/html": [
              "<div>\n",
              "<style scoped>\n",
              "    .dataframe tbody tr th:only-of-type {\n",
              "        vertical-align: middle;\n",
              "    }\n",
              "\n",
              "    .dataframe tbody tr th {\n",
              "        vertical-align: top;\n",
              "    }\n",
              "\n",
              "    .dataframe thead th {\n",
              "        text-align: right;\n",
              "    }\n",
              "</style>\n",
              "<table border=\"1\" class=\"dataframe\">\n",
              "  <thead>\n",
              "    <tr style=\"text-align: right;\">\n",
              "      <th></th>\n",
              "      <th>index</th>\n",
              "      <th>ID</th>\n",
              "      <th>Target</th>\n",
              "      <th>GrupoEconomico</th>\n",
              "      <th>Sexo</th>\n",
              "      <th>Idade</th>\n",
              "      <th>GrupoRisco</th>\n",
              "      <th>ValorCompraAnual</th>\n",
              "      <th>GastoMax</th>\n",
              "      <th>GastoMedio</th>\n",
              "      <th>UF</th>\n",
              "      <th>CidadeResidencia</th>\n",
              "      <th>RegiaodoPais</th>\n",
              "      <th>NumeroComprasOnline</th>\n",
              "    </tr>\n",
              "  </thead>\n",
              "  <tbody>\n",
              "    <tr>\n",
              "      <th>0</th>\n",
              "      <td>0</td>\n",
              "      <td>1</td>\n",
              "      <td>0</td>\n",
              "      <td>3</td>\n",
              "      <td>homem</td>\n",
              "      <td>22</td>\n",
              "      <td>1</td>\n",
              "      <td>7250.0</td>\n",
              "      <td>517.857143</td>\n",
              "      <td>604.166667</td>\n",
              "      <td>MG</td>\n",
              "      <td>Morada Nova de Minas</td>\n",
              "      <td>Região Sudeste</td>\n",
              "      <td>54.924242</td>\n",
              "    </tr>\n",
              "    <tr>\n",
              "      <th>1</th>\n",
              "      <td>1</td>\n",
              "      <td>2</td>\n",
              "      <td>1</td>\n",
              "      <td>1</td>\n",
              "      <td>mulher</td>\n",
              "      <td>38</td>\n",
              "      <td>1</td>\n",
              "      <td>71283.0</td>\n",
              "      <td>5091.642857</td>\n",
              "      <td>5940.250000</td>\n",
              "      <td>RN</td>\n",
              "      <td>Marcelino Vieira</td>\n",
              "      <td>Região Nordeste</td>\n",
              "      <td>312.644737</td>\n",
              "    </tr>\n",
              "    <tr>\n",
              "      <th>2</th>\n",
              "      <td>5</td>\n",
              "      <td>6</td>\n",
              "      <td>0</td>\n",
              "      <td>3</td>\n",
              "      <td>homem</td>\n",
              "      <td>22</td>\n",
              "      <td>0</td>\n",
              "      <td>84583.0</td>\n",
              "      <td>6041.642857</td>\n",
              "      <td>7048.583333</td>\n",
              "      <td>AL</td>\n",
              "      <td>Carneiros</td>\n",
              "      <td>Região Nordeste</td>\n",
              "      <td>640.780303</td>\n",
              "    </tr>\n",
              "    <tr>\n",
              "      <th>3</th>\n",
              "      <td>8</td>\n",
              "      <td>9</td>\n",
              "      <td>1</td>\n",
              "      <td>3</td>\n",
              "      <td>mulher</td>\n",
              "      <td>27</td>\n",
              "      <td>0</td>\n",
              "      <td>11133.0</td>\n",
              "      <td>795.214286</td>\n",
              "      <td>927.750000</td>\n",
              "      <td>MG</td>\n",
              "      <td>Comercinho</td>\n",
              "      <td>Região Sudeste</td>\n",
              "      <td>68.722222</td>\n",
              "    </tr>\n",
              "    <tr>\n",
              "      <th>4</th>\n",
              "      <td>9</td>\n",
              "      <td>10</td>\n",
              "      <td>1</td>\n",
              "      <td>2</td>\n",
              "      <td>mulher</td>\n",
              "      <td>14</td>\n",
              "      <td>1</td>\n",
              "      <td>3007.0</td>\n",
              "      <td>214.785714</td>\n",
              "      <td>250.583333</td>\n",
              "      <td>MG</td>\n",
              "      <td>Japonvar</td>\n",
              "      <td>Região Sudeste</td>\n",
              "      <td>35.797619</td>\n",
              "    </tr>\n",
              "  </tbody>\n",
              "</table>\n",
              "</div>"
            ],
            "text/plain": [
              "   index  ID  ...     RegiaodoPais  NumeroComprasOnline\n",
              "0      0   1  ...   Região Sudeste            54.924242\n",
              "1      1   2  ...  Região Nordeste           312.644737\n",
              "2      5   6  ...  Região Nordeste           640.780303\n",
              "3      8   9  ...   Região Sudeste            68.722222\n",
              "4      9  10  ...   Região Sudeste            35.797619\n",
              "\n",
              "[5 rows x 14 columns]"
            ]
          },
          "metadata": {
            "tags": []
          },
          "execution_count": 49
        }
      ]
    },
    {
      "cell_type": "markdown",
      "metadata": {
        "id": "8kQygEd0URZm"
      },
      "source": [
        "#### `LIKE`"
      ]
    },
    {
      "cell_type": "code",
      "metadata": {
        "ExecuteTime": {
          "end_time": "2021-07-20T23:04:06.729332Z",
          "start_time": "2021-07-20T23:04:05.498556Z"
        },
        "id": "rWNkAQ8BURZn",
        "outputId": "8ed9e453-46ed-4d2d-bec7-37192dd1b6e1",
        "colab": {
          "base_uri": "https://localhost:8080/",
          "height": 275
        }
      },
      "source": [
        "query = '''\n",
        "    SELECT *\n",
        "    FROM AtrasoCartaoCredito\n",
        "    WHERE UF LIKE 'A_'\n",
        "    LIMIT 5\n",
        "'''\n",
        "\n",
        "pd.read_sql(query, engine)"
      ],
      "execution_count": 50,
      "outputs": [
        {
          "output_type": "execute_result",
          "data": {
            "text/html": [
              "<div>\n",
              "<style scoped>\n",
              "    .dataframe tbody tr th:only-of-type {\n",
              "        vertical-align: middle;\n",
              "    }\n",
              "\n",
              "    .dataframe tbody tr th {\n",
              "        vertical-align: top;\n",
              "    }\n",
              "\n",
              "    .dataframe thead th {\n",
              "        text-align: right;\n",
              "    }\n",
              "</style>\n",
              "<table border=\"1\" class=\"dataframe\">\n",
              "  <thead>\n",
              "    <tr style=\"text-align: right;\">\n",
              "      <th></th>\n",
              "      <th>index</th>\n",
              "      <th>ID</th>\n",
              "      <th>Target</th>\n",
              "      <th>GrupoEconomico</th>\n",
              "      <th>Sexo</th>\n",
              "      <th>Idade</th>\n",
              "      <th>GrupoRisco</th>\n",
              "      <th>ValorCompraAnual</th>\n",
              "      <th>GastoMax</th>\n",
              "      <th>GastoMedio</th>\n",
              "      <th>UF</th>\n",
              "      <th>CidadeResidencia</th>\n",
              "      <th>RegiaodoPais</th>\n",
              "      <th>NumeroComprasOnline</th>\n",
              "    </tr>\n",
              "  </thead>\n",
              "  <tbody>\n",
              "    <tr>\n",
              "      <th>0</th>\n",
              "      <td>5</td>\n",
              "      <td>6</td>\n",
              "      <td>0</td>\n",
              "      <td>3</td>\n",
              "      <td>homem</td>\n",
              "      <td>22</td>\n",
              "      <td>0</td>\n",
              "      <td>84583.0</td>\n",
              "      <td>6041.642857</td>\n",
              "      <td>7048.583333</td>\n",
              "      <td>AL</td>\n",
              "      <td>Carneiros</td>\n",
              "      <td>Região Nordeste</td>\n",
              "      <td>640.780303</td>\n",
              "    </tr>\n",
              "    <tr>\n",
              "      <th>1</th>\n",
              "      <td>37</td>\n",
              "      <td>38</td>\n",
              "      <td>0</td>\n",
              "      <td>3</td>\n",
              "      <td>homem</td>\n",
              "      <td>21</td>\n",
              "      <td>0</td>\n",
              "      <td>805.0</td>\n",
              "      <td>57.500000</td>\n",
              "      <td>67.083333</td>\n",
              "      <td>AL</td>\n",
              "      <td>Porto de Pedras</td>\n",
              "      <td>Região Nordeste</td>\n",
              "      <td>6.388889</td>\n",
              "    </tr>\n",
              "    <tr>\n",
              "      <th>2</th>\n",
              "      <td>41</td>\n",
              "      <td>42</td>\n",
              "      <td>0</td>\n",
              "      <td>2</td>\n",
              "      <td>mulher</td>\n",
              "      <td>27</td>\n",
              "      <td>1</td>\n",
              "      <td>21.0</td>\n",
              "      <td>1.500000</td>\n",
              "      <td>1.750000</td>\n",
              "      <td>AM</td>\n",
              "      <td>Silves</td>\n",
              "      <td>Região Norte</td>\n",
              "      <td>0.129630</td>\n",
              "    </tr>\n",
              "    <tr>\n",
              "      <th>3</th>\n",
              "      <td>46</td>\n",
              "      <td>47</td>\n",
              "      <td>0</td>\n",
              "      <td>3</td>\n",
              "      <td>homem</td>\n",
              "      <td>34</td>\n",
              "      <td>1</td>\n",
              "      <td>155.0</td>\n",
              "      <td>11.071429</td>\n",
              "      <td>12.916667</td>\n",
              "      <td>AC</td>\n",
              "      <td>Bujari</td>\n",
              "      <td>Região Norte</td>\n",
              "      <td>0.759804</td>\n",
              "    </tr>\n",
              "    <tr>\n",
              "      <th>4</th>\n",
              "      <td>47</td>\n",
              "      <td>48</td>\n",
              "      <td>1</td>\n",
              "      <td>3</td>\n",
              "      <td>mulher</td>\n",
              "      <td>15</td>\n",
              "      <td>0</td>\n",
              "      <td>775.0</td>\n",
              "      <td>55.357143</td>\n",
              "      <td>64.583333</td>\n",
              "      <td>AL</td>\n",
              "      <td>Olho D´água do Casado</td>\n",
              "      <td>Região Nordeste</td>\n",
              "      <td>8.611111</td>\n",
              "    </tr>\n",
              "  </tbody>\n",
              "</table>\n",
              "</div>"
            ],
            "text/plain": [
              "   index  ID  ...     RegiaodoPais  NumeroComprasOnline\n",
              "0      5   6  ...  Região Nordeste           640.780303\n",
              "1     37  38  ...  Região Nordeste             6.388889\n",
              "2     41  42  ...     Região Norte             0.129630\n",
              "3     46  47  ...     Região Norte             0.759804\n",
              "4     47  48  ...  Região Nordeste             8.611111\n",
              "\n",
              "[5 rows x 14 columns]"
            ]
          },
          "metadata": {
            "tags": []
          },
          "execution_count": 50
        }
      ]
    },
    {
      "cell_type": "markdown",
      "metadata": {
        "id": "a7aX4LYWURZn"
      },
      "source": [
        "### DISTINCT"
      ]
    },
    {
      "cell_type": "markdown",
      "metadata": {
        "id": "TkjL9jmOURZn"
      },
      "source": [
        "- Podemos analisar os valores únicos de uma coluna"
      ]
    },
    {
      "cell_type": "code",
      "metadata": {
        "ExecuteTime": {
          "end_time": "2021-07-20T23:02:26.721770Z",
          "start_time": "2021-07-20T23:02:25.521315Z"
        },
        "id": "arU2Wd87URZn",
        "outputId": "2d816689-d24d-4f4c-a8e1-b4fb3e13fa36",
        "colab": {
          "base_uri": "https://localhost:8080/",
          "height": 142
        }
      },
      "source": [
        "query = '''\n",
        "    SELECT DISTINCT GrupoEconomico\n",
        "    FROM AtrasoCartaoCredito\n",
        "'''\n",
        "\n",
        "pd.read_sql(query, engine)"
      ],
      "execution_count": 51,
      "outputs": [
        {
          "output_type": "execute_result",
          "data": {
            "text/html": [
              "<div>\n",
              "<style scoped>\n",
              "    .dataframe tbody tr th:only-of-type {\n",
              "        vertical-align: middle;\n",
              "    }\n",
              "\n",
              "    .dataframe tbody tr th {\n",
              "        vertical-align: top;\n",
              "    }\n",
              "\n",
              "    .dataframe thead th {\n",
              "        text-align: right;\n",
              "    }\n",
              "</style>\n",
              "<table border=\"1\" class=\"dataframe\">\n",
              "  <thead>\n",
              "    <tr style=\"text-align: right;\">\n",
              "      <th></th>\n",
              "      <th>GrupoEconomico</th>\n",
              "    </tr>\n",
              "  </thead>\n",
              "  <tbody>\n",
              "    <tr>\n",
              "      <th>0</th>\n",
              "      <td>3</td>\n",
              "    </tr>\n",
              "    <tr>\n",
              "      <th>1</th>\n",
              "      <td>1</td>\n",
              "    </tr>\n",
              "    <tr>\n",
              "      <th>2</th>\n",
              "      <td>2</td>\n",
              "    </tr>\n",
              "  </tbody>\n",
              "</table>\n",
              "</div>"
            ],
            "text/plain": [
              "   GrupoEconomico\n",
              "0               3\n",
              "1               1\n",
              "2               2"
            ]
          },
          "metadata": {
            "tags": []
          },
          "execution_count": 51
        }
      ]
    },
    {
      "cell_type": "code",
      "metadata": {
        "ExecuteTime": {
          "end_time": "2021-07-20T23:02:02.556245Z",
          "start_time": "2021-07-20T23:02:01.334233Z"
        },
        "id": "MmIH_0NTURZn",
        "outputId": "c70bbdd5-654d-4356-a3e2-dde0cd9db5d2",
        "colab": {
          "base_uri": "https://localhost:8080/",
          "height": 855
        }
      },
      "source": [
        "query = '''\n",
        "    SELECT DISTINCT UF\n",
        "    FROM AtrasoCartaoCredito\n",
        "'''\n",
        "\n",
        "pd.read_sql(query, engine)"
      ],
      "execution_count": 52,
      "outputs": [
        {
          "output_type": "execute_result",
          "data": {
            "text/html": [
              "<div>\n",
              "<style scoped>\n",
              "    .dataframe tbody tr th:only-of-type {\n",
              "        vertical-align: middle;\n",
              "    }\n",
              "\n",
              "    .dataframe tbody tr th {\n",
              "        vertical-align: top;\n",
              "    }\n",
              "\n",
              "    .dataframe thead th {\n",
              "        text-align: right;\n",
              "    }\n",
              "</style>\n",
              "<table border=\"1\" class=\"dataframe\">\n",
              "  <thead>\n",
              "    <tr style=\"text-align: right;\">\n",
              "      <th></th>\n",
              "      <th>UF</th>\n",
              "    </tr>\n",
              "  </thead>\n",
              "  <tbody>\n",
              "    <tr>\n",
              "      <th>0</th>\n",
              "      <td>MG</td>\n",
              "    </tr>\n",
              "    <tr>\n",
              "      <th>1</th>\n",
              "      <td>RN</td>\n",
              "    </tr>\n",
              "    <tr>\n",
              "      <th>2</th>\n",
              "      <td>PR</td>\n",
              "    </tr>\n",
              "    <tr>\n",
              "      <th>3</th>\n",
              "      <td>BA</td>\n",
              "    </tr>\n",
              "    <tr>\n",
              "      <th>4</th>\n",
              "      <td>AL</td>\n",
              "    </tr>\n",
              "    <tr>\n",
              "      <th>5</th>\n",
              "      <td>RO</td>\n",
              "    </tr>\n",
              "    <tr>\n",
              "      <th>6</th>\n",
              "      <td>PB</td>\n",
              "    </tr>\n",
              "    <tr>\n",
              "      <th>7</th>\n",
              "      <td>SP</td>\n",
              "    </tr>\n",
              "    <tr>\n",
              "      <th>8</th>\n",
              "      <td>RS</td>\n",
              "    </tr>\n",
              "    <tr>\n",
              "      <th>9</th>\n",
              "      <td>SC</td>\n",
              "    </tr>\n",
              "    <tr>\n",
              "      <th>10</th>\n",
              "      <td>SE</td>\n",
              "    </tr>\n",
              "    <tr>\n",
              "      <th>11</th>\n",
              "      <td>GO</td>\n",
              "    </tr>\n",
              "    <tr>\n",
              "      <th>12</th>\n",
              "      <td>TO</td>\n",
              "    </tr>\n",
              "    <tr>\n",
              "      <th>13</th>\n",
              "      <td>RR</td>\n",
              "    </tr>\n",
              "    <tr>\n",
              "      <th>14</th>\n",
              "      <td>PI</td>\n",
              "    </tr>\n",
              "    <tr>\n",
              "      <th>15</th>\n",
              "      <td>AM</td>\n",
              "    </tr>\n",
              "    <tr>\n",
              "      <th>16</th>\n",
              "      <td>MA</td>\n",
              "    </tr>\n",
              "    <tr>\n",
              "      <th>17</th>\n",
              "      <td>AC</td>\n",
              "    </tr>\n",
              "    <tr>\n",
              "      <th>18</th>\n",
              "      <td>MS</td>\n",
              "    </tr>\n",
              "    <tr>\n",
              "      <th>19</th>\n",
              "      <td>MT</td>\n",
              "    </tr>\n",
              "    <tr>\n",
              "      <th>20</th>\n",
              "      <td>RJ</td>\n",
              "    </tr>\n",
              "    <tr>\n",
              "      <th>21</th>\n",
              "      <td>ES</td>\n",
              "    </tr>\n",
              "    <tr>\n",
              "      <th>22</th>\n",
              "      <td>PE</td>\n",
              "    </tr>\n",
              "    <tr>\n",
              "      <th>23</th>\n",
              "      <td>CE</td>\n",
              "    </tr>\n",
              "    <tr>\n",
              "      <th>24</th>\n",
              "      <td>AP</td>\n",
              "    </tr>\n",
              "    <tr>\n",
              "      <th>25</th>\n",
              "      <td>PA</td>\n",
              "    </tr>\n",
              "  </tbody>\n",
              "</table>\n",
              "</div>"
            ],
            "text/plain": [
              "    UF\n",
              "0   MG\n",
              "1   RN\n",
              "2   PR\n",
              "3   BA\n",
              "4   AL\n",
              "5   RO\n",
              "6   PB\n",
              "7   SP\n",
              "8   RS\n",
              "9   SC\n",
              "10  SE\n",
              "11  GO\n",
              "12  TO\n",
              "13  RR\n",
              "14  PI\n",
              "15  AM\n",
              "16  MA\n",
              "17  AC\n",
              "18  MS\n",
              "19  MT\n",
              "20  RJ\n",
              "21  ES\n",
              "22  PE\n",
              "23  CE\n",
              "24  AP\n",
              "25  PA"
            ]
          },
          "metadata": {
            "tags": []
          },
          "execution_count": 52
        }
      ]
    },
    {
      "cell_type": "code",
      "metadata": {
        "id": "4kGGJEkTURZn"
      },
      "source": [
        ""
      ],
      "execution_count": null,
      "outputs": []
    }
  ]
}