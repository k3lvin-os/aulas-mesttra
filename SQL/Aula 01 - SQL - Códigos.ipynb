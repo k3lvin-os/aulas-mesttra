{
  "nbformat": 4,
  "nbformat_minor": 0,
  "metadata": {
    "hide_input": false,
    "kernelspec": {
      "display_name": "Python 3",
      "language": "python",
      "name": "python3"
    },
    "language_info": {
      "codemirror_mode": {
        "name": "ipython",
        "version": 3
      },
      "file_extension": ".py",
      "mimetype": "text/x-python",
      "name": "python",
      "nbconvert_exporter": "python",
      "pygments_lexer": "ipython3",
      "version": "3.8.3"
    },
    "toc": {
      "base_numbering": 1,
      "nav_menu": {},
      "number_sections": true,
      "sideBar": true,
      "skip_h1_title": false,
      "title_cell": "Table of Contents",
      "title_sidebar": "Contents",
      "toc_cell": false,
      "toc_position": {
        "height": "calc(100% - 180px)",
        "left": "10px",
        "top": "150px",
        "width": "202.057px"
      },
      "toc_section_display": true,
      "toc_window_display": true
    },
    "varInspector": {
      "cols": {
        "lenName": 16,
        "lenType": 16,
        "lenVar": 40
      },
      "kernels_config": {
        "python": {
          "delete_cmd_postfix": "",
          "delete_cmd_prefix": "del ",
          "library": "var_list.py",
          "varRefreshCmd": "print(var_dic_list())"
        },
        "r": {
          "delete_cmd_postfix": ") ",
          "delete_cmd_prefix": "rm(",
          "library": "var_list.r",
          "varRefreshCmd": "cat(var_dic_list()) "
        }
      },
      "types_to_exclude": [
        "module",
        "function",
        "builtin_function_or_method",
        "instance",
        "_Feature"
      ],
      "window_display": false
    },
    "colab": {
      "name": "Aula 01 - SQL - Códigos.ipynb",
      "provenance": []
    }
  },
  "cells": [
    {
      "cell_type": "markdown",
      "metadata": {
        "id": "Wshp_rznNo4u"
      },
      "source": [
        "# Aula 1: SQL"
      ]
    },
    {
      "cell_type": "markdown",
      "metadata": {
        "id": "LOn3jdnoNo4y"
      },
      "source": [
        "## Introdução\n",
        "\n",
        "- SQL é uma linguagem padrão para trabalhar com bancos de dados relacionais\n",
        "- É uma linguagem declarativa e que não necessita de profundos conhecimentos de programação para que alguém possa começar a escrever queries\n",
        "- SQL é acrônimo de Structured Query Language, literalmente a linguagem struturada para realizar queries.\n",
        "- Apesar de existirem diversos bancos de dados relacionais, cada um com sua funcionalidade, todos possuem comandos básicos que podem ser aplicados em qualquer banco de dados:\n",
        "\n",
        "![](https://cdn-images-1.medium.com/fit/t/1600/480/1*LcXr-gRpSfe63XjdCVa15A.png)"
      ]
    },
    {
      "cell_type": "markdown",
      "metadata": {
        "id": "7FdJG1BTNo4z"
      },
      "source": [
        "- Nessa aula usaremos o site https://www.db4free.net/, que utiliza MySQL\n",
        "- Antes de começarmos, criem uma conta no DB4Free"
      ]
    },
    {
      "cell_type": "markdown",
      "metadata": {
        "id": "14zxt-m0No4z"
      },
      "source": [
        "## Conceitos"
      ]
    },
    {
      "cell_type": "markdown",
      "metadata": {
        "id": "2Xtt2pOCNo40"
      },
      "source": [
        "### Modelo relacional"
      ]
    },
    {
      "cell_type": "markdown",
      "metadata": {
        "id": "HhTDhSWPNo40"
      },
      "source": [
        "- O Modelo entidade relacionamento proposto por Peter P. Chen pode ser melhor compreendido por uma teoria chamada de A lei do Mundo, teoria essa, que conceitua que o mundo está cheio de coisas que possuem características próprias e que se **relacionam entre si**. Sua analise da teoria pode ser dividida em três partes:"
      ]
    },
    {
      "cell_type": "markdown",
      "metadata": {
        "id": "SXUAw0ghNo41"
      },
      "source": [
        "- **O mundo está cheio de coisas**\n",
        "    - Tudo que possa ser caracterizado, conceituado, real ou imaginário, no nosso Universo (Mundo), é definido como coisa, que futuramente, dependendo da abordagem, poderá ser definido como uma **entidade.**\n",
        "\n",
        "- **Que possuem características próprias**\n",
        "    - **Características** comuns percebidas entre as coisas de modo que haja a possibilidade de enquadramento dessas coisas em conjuntos particulares\n",
        "    - Exemplo: “conselho de economia, conselho de medicina, conselho de odontologia” todos podem ser enquadrados em um mesmo conjunto, denominado como Órgão normalizador.\n",
        "\n",
        "- **E que se relacionam entre si**\n",
        "    - São as **relações entre as coisas**. Como as mesmas irão relaciona-se entre elementos individualizados de diferentes conjuntos ou entre elementos de um mesmo conjunto. A forma de comunicação entre as coisas ou um conjunto delas\n",
        "    - Exemplos: Adail é credenciado pelo conselho de economia é um relacionamento entre elementos de diferentes conjuntos. Adail é substituto de Caio é um relacionamento entre elementos do mesmo conjunto."
      ]
    },
    {
      "cell_type": "markdown",
      "metadata": {
        "id": "snOwv7z0No41"
      },
      "source": [
        "![](https://consultabd.files.wordpress.com/2019/08/img_relacional-1.jpg)"
      ]
    },
    {
      "cell_type": "markdown",
      "metadata": {
        "id": "xXmfdDKwNo42"
      },
      "source": [
        "### Banco de dados"
      ]
    },
    {
      "cell_type": "markdown",
      "metadata": {
        "id": "C6lYQjgiNo43"
      },
      "source": [
        "- **Coleção de dados ou informações relacionadas entre si**\n",
        "- Coleção lógica e coerente de dados com algum significado inerente\n",
        "- Projetado, construído e povoado por dados, atendendo uma proposta específica\n",
        "- Dados organizados que se relacionam para criar algum sentido (informação)\n",
        "\n",
        "![](https://encrypted-tbn0.gstatic.com/images?q=tbn:ANd9GcR6BA4uD8n7lv7BCiSyckzIJfzu2Zgssgg5GQ&usqp=CAU)"
      ]
    },
    {
      "cell_type": "markdown",
      "metadata": {
        "id": "welZxxHXNo43"
      },
      "source": [
        "### SGBD - Sistema de gerenciamento de banco de dados"
      ]
    },
    {
      "cell_type": "markdown",
      "metadata": {
        "id": "prgKVyq8No43"
      },
      "source": [
        "- Um Sistema de Gerenciamento de Banco de Dados (SGBD) — do inglês Data Base Management System (DBMS) — é o sistema de software responsável pelo gerenciamento de um ou mais bancos de dados\n",
        "- Seu principal **objetivo é retirar da aplicação cliente a responsabilidade de gerenciar o acesso, a persistência, a manipulação e a organização dos dados**\n",
        "- O SGBD disponibiliza uma interface para que seus clientes possam incluir, alterar ou consultar dados previamente armazenados\n",
        "- Em bancos de dados relacionais a interface é constituída pelas APIs (Application Programming Interface) ou drivers do SGBD, que executam comandos na linguagem SQL (Structured Query Language)."
      ]
    },
    {
      "cell_type": "markdown",
      "metadata": {
        "id": "FxjaOngONo44"
      },
      "source": [
        "![](https://dicasdeprogramacao.com.br/images/o-que-e-um-sgbd/destaque-600x315.png)"
      ]
    },
    {
      "cell_type": "markdown",
      "metadata": {
        "id": "LxvCc03TNo44"
      },
      "source": [
        "### Metadados"
      ]
    },
    {
      "cell_type": "markdown",
      "metadata": {
        "id": "waI_Ako4No44"
      },
      "source": [
        "- O prefixo \"Meta\" vem do grego e significa \"além de\". Assim Metadados são **informações que acrescem aos dados e que têm como objetivo informar-nos sobre eles para tornar mais fácil a sua organização.**\n",
        "- Um item de um metadado pode informar do que se trata aquele dado numa linguagem inteligível para um computador\n",
        "- Os metadados tem a **função de facilitar o entendimento dos relacionamentos e evidenciar a utilidade das informações dos dados**\n",
        "\n",
        "- Praticamente todos os dispositivos digitais geram metadados a partir do uso que fazemos\n",
        "    - Por exemplo, ao tirar uma foto, além de gravar a foto na memória da foto, metadados são associados a esta foto descrevendo informações sobre o modelo da câmera, tipo de ISO, data, tamanho e formato do arquivo e até o local de onde a foto foi tirada se o aparelho tiver GPS.\n",
        "\n",
        "- Ao fazer login em um site de redes sociais ou de compras várias informações são registradas além daquelas que escrevemos diretamente nos sites, como por exemplo, o endereço IP, o nome e versão do navegador, horário exato de entrada e saída, bem como outros detalhes sobre os seus cliques durante aquela navegação.\n",
        "\n",
        "- Os tipos mais comuns de metadados são:\n",
        "\n",
        "    - Número de telefones, endereços de email e os nomes das pessoas que usam serviços;\n",
        "\n",
        "    - Dados de Localização: onde está o seu telefone celular;\n",
        "\n",
        "    - Data e hora em que foram feitas as ligações, emails, arquivos e fotos;\n",
        "\n",
        "    - Informações do aparelho que você está usando;\n",
        "\n",
        "    - Os títulos (assuntos) de seus e-mails;"
      ]
    },
    {
      "cell_type": "markdown",
      "metadata": {
        "id": "-hL9ZUxwNo45"
      },
      "source": [
        "![](http://blog.simbiox.com.br/wp-content/uploads/2020/05/Ilustra%C3%A7%C3%A3o_-Metadados_Blog.png)"
      ]
    },
    {
      "cell_type": "markdown",
      "metadata": {
        "id": "Gw3qAZ2aNo45"
      },
      "source": [
        "### Chave primária\n",
        "A chave primária, ou `primary key`, é o conceito mais básico relacionado à organização em um banco de dados. Toda tabela possuirá uma, e somente uma, chave primária. Essa chave é utilizada como identificador único da tabela, sendo representada por aquele campo (ou campos) que não receberá valores repetidos.\n",
        "\n",
        "Por causa disso, existe uma lista de características que deve ser levada em consideração ao definir uma chave primária:"
      ]
    },
    {
      "cell_type": "markdown",
      "metadata": {
        "id": "HDw1pb19No46"
      },
      "source": [
        "- Chaves primárias não podem ser nulas;\n",
        "- Cada registro na tabela deve possuir uma, e somente uma, chave primária;\n",
        "- Normalmente, chaves primárias são incrementadas automaticamente pelo banco de dados, ou seja, não há necessidade de passarmos esse valor em um INSERT\n",
        "    - Entretanto, essa é uma opção configurada na criação da base de dados que não é obrigatória\n",
        "    - Nos casos em que ela (incremento automático) não é definida, é preciso garantir que não haverá valores repetidos nessa coluna\n",
        "- São as chaves para o relacionamento entre entidades ou tabelas da base de dados. Assim haverá na tabela relacionada uma referência a essa chave primária (que será, na tabela relacionada, a chave estrangeira)."
      ]
    },
    {
      "cell_type": "markdown",
      "metadata": {
        "id": "QlUl8OA-No46"
      },
      "source": [
        "`CREATE TABLE tbl_Clientes\n",
        "(\n",
        "    ID_Cliente integer PRIMARY KEY,\n",
        "    Nome_Cliente varchar(255),\n",
        "    CPF_Cliente varchar(255),\n",
        "    Data_Nasc varchar(255)\n",
        ");`"
      ]
    },
    {
      "cell_type": "markdown",
      "metadata": {
        "id": "k7_l02rsNo47"
      },
      "source": [
        "### Chave estrangeira\n",
        "A chave estrangeira, ou `foreign key`, é um conceito ligeiramente diferente. Ela não diz respeito, especificamente, a uma tabela, mas sim a um relacionamento entre tabelas\n",
        "\n",
        "De forma sucinta, a chave estrangeira é uma referência em uma tabela a uma chave primária de outra tabela. Para facilitar a compreensão, tomemos como exemplo duas tabelas: `tbl_Clientes` e `tbl_Vendas`\n",
        "\n",
        "Para montarmos um relacionamento entre elas poderíamos ter na tabela `tbl_Vendas` o campo `ID_Cliente` fazendo referência à chave primária da tabela `tbl_Clientes`.\n",
        "\n",
        "\n",
        "Diferentemente da chave primária, a chave estrangeira:\n",
        "\n",
        "- Pode ser nula (NOT NULL)\n",
        "- É um campo em uma tabela que faz **referência a um campo que é chave primária em outra tabela**\n",
        "- É possível ter mais de uma (ou nenhuma) em uma tabela"
      ]
    },
    {
      "cell_type": "markdown",
      "metadata": {
        "id": "PKbGniD4No47"
      },
      "source": [
        "![](https://lh3.googleusercontent.com/proxy/wOirYDH_e0CyjwRNTu8kV7bGkS_QogMdbRxlgMOwuQMttFOWEPBNEfnIo5mk3tH5WyxzcilXd3CGaxGAE3kVytvt4KRxNKnAmMj7sxC1SbMD8C3JZ1wjxSpKEZGkD8vbPlWIRSGnECym7L6fdmIkU4aDjOkLRpL_tfVe2BCOx5ImLxkT)"
      ]
    },
    {
      "cell_type": "markdown",
      "metadata": {
        "id": "c9e8rlTtNo48"
      },
      "source": [
        "![](https://miro.medium.com/max/1400/1*wr_PNTP9fQHxXeMydaSfnQ.jpeg)"
      ]
    },
    {
      "cell_type": "markdown",
      "metadata": {
        "id": "-L7vP8E3No48"
      },
      "source": [
        "## Conexao no db4free"
      ]
    },
    {
      "cell_type": "markdown",
      "metadata": {
        "id": "5gcvNH4ANo48"
      },
      "source": [
        "- Para trabalhar com bancos de dados, temos que fazer uma conexão do nosso jupyter notebook com o banco de dados\n",
        "- Antes disso, para evitar que nossos dados fiquem expostos no notebook e facilitar a manutenção de código, podemos criar um arquivo `yml` e adicionar nossas credenciais no formato:\n",
        "    - `user: 'usuario'`\n",
        "    - `password: 'senha'`\n",
        "    - `host: 'db4free.net'`\n",
        "    - `database: 'database'`\n",
        "    - `port: 3306`"
      ]
    },
    {
      "cell_type": "code",
      "metadata": {
        "colab": {
          "base_uri": "https://localhost:8080/",
          "height": 272
        },
        "id": "98nFIsQ2N5L2",
        "outputId": "74bfa2d5-8aea-426c-d544-7749f6bc3649"
      },
      "source": [
        "!pip install -U PyYAML"
      ],
      "execution_count": 5,
      "outputs": [
        {
          "output_type": "stream",
          "text": [
            "Requirement already satisfied: PyYAML in /usr/local/lib/python3.7/dist-packages (3.13)\n",
            "Collecting PyYAML\n",
            "  Downloading PyYAML-5.4.1-cp37-cp37m-manylinux1_x86_64.whl (636 kB)\n",
            "\u001b[K     |████████████████████████████████| 636 kB 31.3 MB/s \n",
            "\u001b[?25hInstalling collected packages: PyYAML\n",
            "  Attempting uninstall: PyYAML\n",
            "    Found existing installation: PyYAML 3.13\n",
            "    Uninstalling PyYAML-3.13:\n",
            "      Successfully uninstalled PyYAML-3.13\n",
            "Successfully installed PyYAML-5.4.1\n"
          ],
          "name": "stdout"
        },
        {
          "output_type": "display_data",
          "data": {
            "application/vnd.colab-display-data+json": {
              "pip_warning": {
                "packages": [
                  "yaml"
                ]
              }
            }
          },
          "metadata": {
            "tags": []
          }
        }
      ]
    },
    {
      "cell_type": "code",
      "metadata": {
        "ExecuteTime": {
          "end_time": "2021-07-20T22:08:14.729801Z",
          "start_time": "2021-07-20T22:08:14.627793Z"
        },
        "id": "MRvsCNeUNo48"
      },
      "source": [
        "import yaml"
      ],
      "execution_count": 1,
      "outputs": []
    },
    {
      "cell_type": "markdown",
      "metadata": {
        "id": "erxpr_SxNo49"
      },
      "source": [
        "- `shift + tab` dentro do parenteses: abre a documentação"
      ]
    },
    {
      "cell_type": "code",
      "metadata": {
        "ExecuteTime": {
          "end_time": "2021-07-20T22:08:17.049627Z",
          "start_time": "2021-07-20T22:08:17.021629Z"
        },
        "id": "AoAH_OS5No49"
      },
      "source": [
        "with open('credentials.yml', 'r') as file:\n",
        "    credentials = yaml.load(file, Loader=yaml.FullLoader)"
      ],
      "execution_count": 11,
      "outputs": []
    },
    {
      "cell_type": "markdown",
      "metadata": {
        "id": "MDTKNlNRNo49"
      },
      "source": [
        "- Uma vez que importamos as credenciais, podemos fazer a conexão com o banco de dados"
      ]
    },
    {
      "cell_type": "code",
      "metadata": {
        "colab": {
          "base_uri": "https://localhost:8080/"
        },
        "id": "OKwj1ZGGNo49",
        "outputId": "15686fe4-659b-4dc0-9f47-be88f060b657"
      },
      "source": [
        "!pip uninstall mysql-connector"
      ],
      "execution_count": 3,
      "outputs": [
        {
          "output_type": "stream",
          "text": [
            "\u001b[33mWARNING: Skipping mysql-connector as it is not installed.\u001b[0m\n"
          ],
          "name": "stdout"
        }
      ]
    },
    {
      "cell_type": "code",
      "metadata": {
        "colab": {
          "base_uri": "https://localhost:8080/"
        },
        "id": "IeBoNU7MNo4-",
        "outputId": "f4469eae-8a77-4fa2-96f3-9f7122885f9b"
      },
      "source": [
        "!pip install mysql-connector-python"
      ],
      "execution_count": 4,
      "outputs": [
        {
          "output_type": "stream",
          "text": [
            "Collecting mysql-connector-python\n",
            "  Downloading mysql_connector_python-8.0.26-cp37-cp37m-manylinux1_x86_64.whl (30.9 MB)\n",
            "\u001b[K     |████████████████████████████████| 30.9 MB 79 kB/s \n",
            "\u001b[?25hRequirement already satisfied: protobuf>=3.0.0 in /usr/local/lib/python3.7/dist-packages (from mysql-connector-python) (3.17.3)\n",
            "Requirement already satisfied: six>=1.9 in /usr/local/lib/python3.7/dist-packages (from protobuf>=3.0.0->mysql-connector-python) (1.15.0)\n",
            "Installing collected packages: mysql-connector-python\n",
            "Successfully installed mysql-connector-python-8.0.26\n"
          ],
          "name": "stdout"
        }
      ]
    },
    {
      "cell_type": "code",
      "metadata": {
        "ExecuteTime": {
          "end_time": "2021-07-20T22:08:22.640410Z",
          "start_time": "2021-07-20T22:08:22.525137Z"
        },
        "id": "hC0LcMFONo4-"
      },
      "source": [
        "# importando libs necessárias\n",
        "import mysql.connector"
      ],
      "execution_count": 5,
      "outputs": []
    },
    {
      "cell_type": "code",
      "metadata": {
        "id": "zWSbemkcNo4-"
      },
      "source": [
        ""
      ],
      "execution_count": null,
      "outputs": []
    },
    {
      "cell_type": "code",
      "metadata": {
        "ExecuteTime": {
          "end_time": "2021-07-20T01:09:01.492904Z",
          "start_time": "2021-07-20T01:09:01.477908Z"
        },
        "id": "gHD4WT5NNo4-"
      },
      "source": [
        "from mysql.connector import __version__"
      ],
      "execution_count": 6,
      "outputs": []
    },
    {
      "cell_type": "code",
      "metadata": {
        "ExecuteTime": {
          "end_time": "2021-07-20T01:09:04.721906Z",
          "start_time": "2021-07-20T01:09:04.707896Z"
        },
        "colab": {
          "base_uri": "https://localhost:8080/",
          "height": 35
        },
        "id": "jweMK9NUNo4-",
        "outputId": "71d5d1f0-eff3-49bb-ecab-a5d6e611e312"
      },
      "source": [
        "__version__"
      ],
      "execution_count": 7,
      "outputs": [
        {
          "output_type": "execute_result",
          "data": {
            "application/vnd.google.colaboratory.intrinsic+json": {
              "type": "string"
            },
            "text/plain": [
              "'8.0.26'"
            ]
          },
          "metadata": {
            "tags": []
          },
          "execution_count": 7
        }
      ]
    },
    {
      "cell_type": "code",
      "metadata": {
        "id": "ac-yPzAANo5A"
      },
      "source": [
        ""
      ],
      "execution_count": null,
      "outputs": []
    },
    {
      "cell_type": "code",
      "metadata": {
        "id": "oPBkvQOuNo5A"
      },
      "source": [
        ""
      ],
      "execution_count": null,
      "outputs": []
    },
    {
      "cell_type": "code",
      "metadata": {
        "ExecuteTime": {
          "end_time": "2021-07-20T22:08:28.677204Z",
          "start_time": "2021-07-20T22:08:25.538573Z"
        },
        "id": "c4sE_gnhNo5A"
      },
      "source": [
        "con = mysql.connector.connect(user=credentials['user'],\n",
        "                              password=credentials['password'],\n",
        "                              host=credentials['host'],\n",
        "                              database=credentials['database'],\n",
        "                              port=credentials['port'])\n",
        "\n",
        "cursor = con.cursor()"
      ],
      "execution_count": 12,
      "outputs": []
    },
    {
      "cell_type": "markdown",
      "metadata": {
        "id": "Z1eO4lznNo5A"
      },
      "source": [
        "## Queries de criação e manipulação de tabelas"
      ]
    },
    {
      "cell_type": "markdown",
      "metadata": {
        "id": "JhHZohPENo5B"
      },
      "source": [
        "- Agora que estabelecemos a conexão com o banco de dados, podemos começar a aplicar as queries\n",
        "- Podemos escrever as queries dentro da variável `query` e o `cursor.execute(query)` aplica a query"
      ]
    },
    {
      "cell_type": "markdown",
      "metadata": {
        "id": "-1HniL9SNo5B"
      },
      "source": [
        "### Show tables"
      ]
    },
    {
      "cell_type": "markdown",
      "metadata": {
        "id": "xbpVnOvfNo5B"
      },
      "source": [
        "Mostrar tabelas do banco de dados"
      ]
    },
    {
      "cell_type": "code",
      "metadata": {
        "ExecuteTime": {
          "end_time": "2021-07-20T22:08:35.086698Z",
          "start_time": "2021-07-20T22:08:34.795645Z"
        },
        "id": "eUwHcV40No5B"
      },
      "source": [
        "query = '''\n",
        "    SHOW TABLES\n",
        "'''\n",
        "\n",
        "cursor.execute(query)"
      ],
      "execution_count": 13,
      "outputs": []
    },
    {
      "cell_type": "markdown",
      "metadata": {
        "id": "NQs6AlhgNo5C"
      },
      "source": [
        "Buscar o resultado da query com o método `fetchall`"
      ]
    },
    {
      "cell_type": "code",
      "metadata": {
        "ExecuteTime": {
          "end_time": "2021-07-20T22:08:37.738569Z",
          "start_time": "2021-07-20T22:08:37.721041Z"
        },
        "colab": {
          "base_uri": "https://localhost:8080/"
        },
        "id": "EJj-kP5FNo5C",
        "outputId": "6c2ff4b1-3ef5-4d5c-9a65-0eabba89166c"
      },
      "source": [
        "cursor.fetchall()"
      ],
      "execution_count": 14,
      "outputs": [
        {
          "output_type": "execute_result",
          "data": {
            "text/plain": [
              "[]"
            ]
          },
          "metadata": {
            "tags": []
          },
          "execution_count": 14
        }
      ]
    },
    {
      "cell_type": "markdown",
      "metadata": {
        "id": "ePADYwk4No5C"
      },
      "source": [
        "### Create table"
      ]
    },
    {
      "cell_type": "markdown",
      "metadata": {
        "id": "TgbLACSpNo5C"
      },
      "source": [
        "Criar tabela"
      ]
    },
    {
      "cell_type": "code",
      "metadata": {
        "ExecuteTime": {
          "end_time": "2021-07-20T00:28:05.380015Z",
          "start_time": "2021-07-20T00:28:04.376634Z"
        },
        "id": "45yr7jWbNo5D"
      },
      "source": [
        "query = ''' \n",
        "    CREATE TABLE empresas (estabelecimento CHAR(40),\n",
        "                           receita INT,\n",
        "                           custo INT,\n",
        "                           anomes INT)    \n",
        "''' \n",
        "\n",
        "cursor.execute(query)"
      ],
      "execution_count": 20,
      "outputs": []
    },
    {
      "cell_type": "code",
      "metadata": {
        "ExecuteTime": {
          "end_time": "2021-07-20T00:28:34.400576Z",
          "start_time": "2021-07-20T00:28:34.121509Z"
        },
        "colab": {
          "base_uri": "https://localhost:8080/"
        },
        "id": "jxPEWTMwNo5D",
        "outputId": "6a41df60-84d1-4084-f5f7-5564979b9839"
      },
      "source": [
        "query = '''\n",
        "    SHOW TABLES\n",
        "'''\n",
        "\n",
        "cursor.execute(query)\n",
        "cursor.fetchall()"
      ],
      "execution_count": 16,
      "outputs": [
        {
          "output_type": "execute_result",
          "data": {
            "text/plain": [
              "[('empresas',)]"
            ]
          },
          "metadata": {
            "tags": []
          },
          "execution_count": 16
        }
      ]
    },
    {
      "cell_type": "markdown",
      "metadata": {
        "id": "YiioErCtNo5D"
      },
      "source": [
        "### Drop table"
      ]
    },
    {
      "cell_type": "markdown",
      "metadata": {
        "id": "UOD0jL5WNo5D"
      },
      "source": [
        "Deletar tabela"
      ]
    },
    {
      "cell_type": "code",
      "metadata": {
        "ExecuteTime": {
          "end_time": "2021-07-20T00:21:55.092517Z",
          "start_time": "2021-07-20T00:21:54.602282Z"
        },
        "id": "XxH-5SGBNo5E"
      },
      "source": [
        "query = '''\n",
        "    DROP TABLE empresas\n",
        "'''\n",
        "\n",
        "cursor.execute(query)"
      ],
      "execution_count": 17,
      "outputs": []
    },
    {
      "cell_type": "code",
      "metadata": {
        "id": "nI_NzIhRNo5E"
      },
      "source": [
        ""
      ],
      "execution_count": null,
      "outputs": []
    },
    {
      "cell_type": "markdown",
      "metadata": {
        "id": "c0qlfsfgNo5E"
      },
      "source": [
        "###  Insert into table"
      ]
    },
    {
      "cell_type": "markdown",
      "metadata": {
        "id": "iAYRzYVMNo5E"
      },
      "source": [
        "Agora que criamos uma tabela, podemos inserir valores nela"
      ]
    },
    {
      "cell_type": "code",
      "metadata": {
        "ExecuteTime": {
          "end_time": "2021-07-20T22:14:30.331400Z",
          "start_time": "2021-07-20T22:14:30.072210Z"
        },
        "id": "F52fHTaVNo5E"
      },
      "source": [
        "\n",
        "query = '''\n",
        "    INSERT INTO empresas(estabelecimento, receita, custo, anomes)\n",
        "    VALUES ('McDonalds', '5000', '4000', '201912')\n",
        "\n",
        "'''\n",
        "\n",
        "cursor.execute(query)"
      ],
      "execution_count": 21,
      "outputs": []
    },
    {
      "cell_type": "code",
      "metadata": {
        "ExecuteTime": {
          "end_time": "2021-07-20T00:40:23.501623Z",
          "start_time": "2021-07-20T00:40:23.482615Z"
        },
        "colab": {
          "base_uri": "https://localhost:8080/"
        },
        "id": "Ph2M9ZP8No5E",
        "outputId": "31509fce-53a6-4d0b-eeec-dadd2ef5afa0"
      },
      "source": [
        "# f-string\n",
        "\n",
        "numero = 10\n",
        "\n",
        "print('o numero é', numero)\n",
        "print(f'o numero é {numero}')"
      ],
      "execution_count": 22,
      "outputs": [
        {
          "output_type": "stream",
          "text": [
            "o numero é 10\n",
            "o numero é 10\n"
          ],
          "name": "stdout"
        }
      ]
    },
    {
      "cell_type": "code",
      "metadata": {
        "id": "qMlznyooNo5I"
      },
      "source": [
        "val = (\"MCDonalds\",\"5000\",\"4000\",\"201912\")\n",
        "\n",
        "query = f'''INSERT INTO empresas(estabelecimento,receita, custo, anomes) \n",
        "            VALUES ('{val[0]}','{val[1]}','{val[2]}','{val[3]}')'''\n",
        "\n",
        "\n",
        "cursor.execute(query)"
      ],
      "execution_count": 23,
      "outputs": []
    },
    {
      "cell_type": "code",
      "metadata": {
        "id": "NNjUeCdQNo5I"
      },
      "source": [
        ""
      ],
      "execution_count": null,
      "outputs": []
    },
    {
      "cell_type": "code",
      "metadata": {
        "ExecuteTime": {
          "end_time": "2021-07-20T22:13:03.333149Z",
          "start_time": "2021-07-20T22:13:03.309146Z"
        },
        "id": "7ie9ybRdNo5I"
      },
      "source": [
        "def input_data(con=con, cursor=cursor):\n",
        "    print('Nome da empresa: ')\n",
        "    estabelecimento = input()\n",
        "    print('Receita da empresa: ')\n",
        "    receita = input()\n",
        "    print('Custo da empresa: ')\n",
        "    custo = input()\n",
        "    print('Ano e mês: ')\n",
        "    anomes = input()\n",
        "    \n",
        "    query = f''' INSERT INTO empresas(estabelecimento, receita,\n",
        "                                      custo, anomes)\n",
        "                 VALUES ('{estabelecimento}', '{receita}',\n",
        "                         '{custo}', '{anomes}')    \n",
        "    '''''\n",
        "    cursor.execute(query)\n",
        "    print('Data inserted!')    "
      ],
      "execution_count": 24,
      "outputs": []
    },
    {
      "cell_type": "code",
      "metadata": {
        "ExecuteTime": {
          "end_time": "2021-07-20T22:13:28.724660Z",
          "start_time": "2021-07-20T22:13:12.491298Z"
        },
        "colab": {
          "base_uri": "https://localhost:8080/"
        },
        "id": "ubdPaV45No5I",
        "outputId": "8aad255a-678c-4d47-d9a1-af891745a998"
      },
      "source": [
        "input_data()"
      ],
      "execution_count": 26,
      "outputs": [
        {
          "output_type": "stream",
          "text": [
            "Nome da empresa: \n",
            "Teste\n",
            "Receita da empresa: \n",
            "1000\n",
            "Custo da empresa: \n",
            "10\n",
            "Ano e mês: \n",
            "202107\n",
            "Data inserted!\n"
          ],
          "name": "stdout"
        }
      ]
    },
    {
      "cell_type": "code",
      "metadata": {
        "ExecuteTime": {
          "end_time": "2021-07-20T22:13:44.700699Z",
          "start_time": "2021-07-20T22:13:43.528263Z"
        },
        "id": "ldMZMyFVNo5J"
      },
      "source": [
        "import pandas as pd"
      ],
      "execution_count": 27,
      "outputs": []
    },
    {
      "cell_type": "code",
      "metadata": {
        "ExecuteTime": {
          "end_time": "2021-07-20T22:14:04.218863Z",
          "start_time": "2021-07-20T22:14:03.165870Z"
        },
        "colab": {
          "base_uri": "https://localhost:8080/",
          "height": 142
        },
        "id": "M4t4UEbYNo5J",
        "outputId": "541142e0-abde-43ab-86a4-2b4650a86d4e"
      },
      "source": [
        "query = 'SELECT * FROM empresas'\n",
        "\n",
        "pd.read_sql(query, con)"
      ],
      "execution_count": 28,
      "outputs": [
        {
          "output_type": "execute_result",
          "data": {
            "text/html": [
              "<div>\n",
              "<style scoped>\n",
              "    .dataframe tbody tr th:only-of-type {\n",
              "        vertical-align: middle;\n",
              "    }\n",
              "\n",
              "    .dataframe tbody tr th {\n",
              "        vertical-align: top;\n",
              "    }\n",
              "\n",
              "    .dataframe thead th {\n",
              "        text-align: right;\n",
              "    }\n",
              "</style>\n",
              "<table border=\"1\" class=\"dataframe\">\n",
              "  <thead>\n",
              "    <tr style=\"text-align: right;\">\n",
              "      <th></th>\n",
              "      <th>estabelecimento</th>\n",
              "      <th>receita</th>\n",
              "      <th>custo</th>\n",
              "      <th>anomes</th>\n",
              "    </tr>\n",
              "  </thead>\n",
              "  <tbody>\n",
              "    <tr>\n",
              "      <th>0</th>\n",
              "      <td>McDonalds</td>\n",
              "      <td>5000</td>\n",
              "      <td>4000</td>\n",
              "      <td>201912</td>\n",
              "    </tr>\n",
              "    <tr>\n",
              "      <th>1</th>\n",
              "      <td>MCDonalds</td>\n",
              "      <td>5000</td>\n",
              "      <td>4000</td>\n",
              "      <td>201912</td>\n",
              "    </tr>\n",
              "    <tr>\n",
              "      <th>2</th>\n",
              "      <td>Teste</td>\n",
              "      <td>1000</td>\n",
              "      <td>10</td>\n",
              "      <td>202107</td>\n",
              "    </tr>\n",
              "  </tbody>\n",
              "</table>\n",
              "</div>"
            ],
            "text/plain": [
              "  estabelecimento  receita  custo  anomes\n",
              "0       McDonalds     5000   4000  201912\n",
              "1       MCDonalds     5000   4000  201912\n",
              "2           Teste     1000     10  202107"
            ]
          },
          "metadata": {
            "tags": []
          },
          "execution_count": 28
        }
      ]
    },
    {
      "cell_type": "code",
      "metadata": {
        "id": "RrDyJ0NUNo5J"
      },
      "source": [
        ""
      ],
      "execution_count": null,
      "outputs": []
    },
    {
      "cell_type": "markdown",
      "metadata": {
        "id": "GGXdrWL0No5J"
      },
      "source": [
        "###  Select"
      ]
    },
    {
      "cell_type": "markdown",
      "metadata": {
        "id": "Iz7Ao8sANo5J"
      },
      "source": [
        "Podemos checar os valores com o comando `Select`"
      ]
    },
    {
      "cell_type": "code",
      "metadata": {
        "ExecuteTime": {
          "end_time": "2021-07-20T00:34:53.239869Z",
          "start_time": "2021-07-20T00:34:52.977311Z"
        },
        "colab": {
          "base_uri": "https://localhost:8080/"
        },
        "id": "EIv590-SNo5J",
        "outputId": "46b16ff5-c6b8-4995-8172-07947f7b592e"
      },
      "source": [
        "query = '''\n",
        "    SELECT estabelecimento, receita, custo, anomes\n",
        "    FROM empresas\n",
        "'''\n",
        "\n",
        "cursor.execute(query)\n",
        "cursor.fetchall()"
      ],
      "execution_count": 29,
      "outputs": [
        {
          "output_type": "execute_result",
          "data": {
            "text/plain": [
              "[('McDonalds', 5000, 4000, 201912),\n",
              " ('MCDonalds', 5000, 4000, 201912),\n",
              " ('Teste', 1000, 10, 202107)]"
            ]
          },
          "metadata": {
            "tags": []
          },
          "execution_count": 29
        }
      ]
    },
    {
      "cell_type": "code",
      "metadata": {
        "ExecuteTime": {
          "end_time": "2021-07-20T00:35:19.653500Z",
          "start_time": "2021-07-20T00:35:19.397352Z"
        },
        "colab": {
          "base_uri": "https://localhost:8080/"
        },
        "id": "4Cb6Hr3xNo5K",
        "outputId": "bb8b2aca-57e7-47e1-c831-1b45e8525d9b"
      },
      "source": [
        "query = '''\n",
        "    SELECT *\n",
        "    FROM empresas\n",
        "'''\n",
        "\n",
        "cursor.execute(query)\n",
        "cursor.fetchall()"
      ],
      "execution_count": 30,
      "outputs": [
        {
          "output_type": "execute_result",
          "data": {
            "text/plain": [
              "[('McDonalds', 5000, 4000, 201912),\n",
              " ('MCDonalds', 5000, 4000, 201912),\n",
              " ('Teste', 1000, 10, 202107)]"
            ]
          },
          "metadata": {
            "tags": []
          },
          "execution_count": 30
        }
      ]
    },
    {
      "cell_type": "markdown",
      "metadata": {
        "id": "1onOu5p7No5K"
      },
      "source": [
        "- No caso de consulta, podemos usar a biblioteca de manipulação da dados `pandas`"
      ]
    },
    {
      "cell_type": "code",
      "metadata": {
        "ExecuteTime": {
          "end_time": "2021-07-20T00:36:12.619561Z",
          "start_time": "2021-07-20T00:36:12.601556Z"
        },
        "id": "OlAJBgt1No5K"
      },
      "source": [
        "import pandas as pd"
      ],
      "execution_count": 31,
      "outputs": []
    },
    {
      "cell_type": "code",
      "metadata": {
        "ExecuteTime": {
          "end_time": "2021-07-20T22:14:41.191300Z",
          "start_time": "2021-07-20T22:14:39.718540Z"
        },
        "colab": {
          "base_uri": "https://localhost:8080/",
          "height": 142
        },
        "id": "c1vqUfmONo5K",
        "outputId": "fa1480a6-c78d-476d-8a2a-dbd516776fa9"
      },
      "source": [
        "pd.read_sql(query, con)"
      ],
      "execution_count": 32,
      "outputs": [
        {
          "output_type": "execute_result",
          "data": {
            "text/html": [
              "<div>\n",
              "<style scoped>\n",
              "    .dataframe tbody tr th:only-of-type {\n",
              "        vertical-align: middle;\n",
              "    }\n",
              "\n",
              "    .dataframe tbody tr th {\n",
              "        vertical-align: top;\n",
              "    }\n",
              "\n",
              "    .dataframe thead th {\n",
              "        text-align: right;\n",
              "    }\n",
              "</style>\n",
              "<table border=\"1\" class=\"dataframe\">\n",
              "  <thead>\n",
              "    <tr style=\"text-align: right;\">\n",
              "      <th></th>\n",
              "      <th>estabelecimento</th>\n",
              "      <th>receita</th>\n",
              "      <th>custo</th>\n",
              "      <th>anomes</th>\n",
              "    </tr>\n",
              "  </thead>\n",
              "  <tbody>\n",
              "    <tr>\n",
              "      <th>0</th>\n",
              "      <td>McDonalds</td>\n",
              "      <td>5000</td>\n",
              "      <td>4000</td>\n",
              "      <td>201912</td>\n",
              "    </tr>\n",
              "    <tr>\n",
              "      <th>1</th>\n",
              "      <td>MCDonalds</td>\n",
              "      <td>5000</td>\n",
              "      <td>4000</td>\n",
              "      <td>201912</td>\n",
              "    </tr>\n",
              "    <tr>\n",
              "      <th>2</th>\n",
              "      <td>Teste</td>\n",
              "      <td>1000</td>\n",
              "      <td>10</td>\n",
              "      <td>202107</td>\n",
              "    </tr>\n",
              "  </tbody>\n",
              "</table>\n",
              "</div>"
            ],
            "text/plain": [
              "  estabelecimento  receita  custo  anomes\n",
              "0       McDonalds     5000   4000  201912\n",
              "1       MCDonalds     5000   4000  201912\n",
              "2           Teste     1000     10  202107"
            ]
          },
          "metadata": {
            "tags": []
          },
          "execution_count": 32
        }
      ]
    },
    {
      "cell_type": "code",
      "metadata": {
        "colab": {
          "base_uri": "https://localhost:8080/",
          "height": 180
        },
        "id": "iBqdJ0aINo5L",
        "outputId": "556369b9-a99b-4ef6-af4f-2b37f8919a5f"
      },
      "source": [
        "# pandas permite rodar comandos sql do google big query\n",
        "pd.read_gbq()"
      ],
      "execution_count": 33,
      "outputs": [
        {
          "output_type": "error",
          "ename": "TypeError",
          "evalue": "ignored",
          "traceback": [
            "\u001b[0;31m---------------------------------------------------------------------------\u001b[0m",
            "\u001b[0;31mTypeError\u001b[0m                                 Traceback (most recent call last)",
            "\u001b[0;32m<ipython-input-33-3c8fa59ecb8e>\u001b[0m in \u001b[0;36m<module>\u001b[0;34m()\u001b[0m\n\u001b[1;32m      1\u001b[0m \u001b[0;31m# pandas permite rodar comandos sql do google big query\u001b[0m\u001b[0;34m\u001b[0m\u001b[0;34m\u001b[0m\u001b[0;34m\u001b[0m\u001b[0m\n\u001b[0;32m----> 2\u001b[0;31m \u001b[0mpd\u001b[0m\u001b[0;34m.\u001b[0m\u001b[0mread_gbq\u001b[0m\u001b[0;34m(\u001b[0m\u001b[0;34m)\u001b[0m\u001b[0;34m\u001b[0m\u001b[0;34m\u001b[0m\u001b[0m\n\u001b[0m",
            "\u001b[0;31mTypeError\u001b[0m: read_gbq() missing 1 required positional argument: 'query'"
          ]
        }
      ]
    },
    {
      "cell_type": "code",
      "metadata": {
        "id": "7BckJI5pNo5L"
      },
      "source": [
        ""
      ],
      "execution_count": null,
      "outputs": []
    },
    {
      "cell_type": "markdown",
      "metadata": {
        "id": "rIZIpv4eNo5L"
      },
      "source": [
        "###  Inserindo mais dados"
      ]
    },
    {
      "cell_type": "code",
      "metadata": {
        "ExecuteTime": {
          "end_time": "2021-07-20T22:14:48.471052Z",
          "start_time": "2021-07-20T22:14:48.213359Z"
        },
        "id": "x0g7NtgxNo5L"
      },
      "source": [
        "val =  [(\"Wendys\",\"6000\",\"4500\",\"202001\"),\n",
        "        (\"Patties\",\"900\",\"900\",\"202001\"),\n",
        "        ('Zebeleo', '5', '10000', '202002'),\n",
        "        ('Koburger', '3000', '2500', '202002')]\n",
        "\n",
        "\n",
        "sql = '''INSERT INTO empresas(estabelecimento, receita, custo, anomes) \n",
        "          VALUES (%s, %s, %s, %s)'''\n",
        "\n",
        "\n",
        "cursor.executemany(sql, val)"
      ],
      "execution_count": 34,
      "outputs": []
    },
    {
      "cell_type": "code",
      "metadata": {
        "ExecuteTime": {
          "end_time": "2021-07-20T22:14:55.044539Z",
          "start_time": "2021-07-20T22:14:54.261596Z"
        },
        "colab": {
          "base_uri": "https://localhost:8080/",
          "height": 266
        },
        "id": "aD_8gPlnNo5L",
        "outputId": "7e71ce62-86c2-432b-804f-8a95662e8cce"
      },
      "source": [
        "query = '''\n",
        "    SELECT * FROM empresas \n",
        "    \n",
        "'''\n",
        "\n",
        "pd.read_sql(query, con)"
      ],
      "execution_count": 35,
      "outputs": [
        {
          "output_type": "execute_result",
          "data": {
            "text/html": [
              "<div>\n",
              "<style scoped>\n",
              "    .dataframe tbody tr th:only-of-type {\n",
              "        vertical-align: middle;\n",
              "    }\n",
              "\n",
              "    .dataframe tbody tr th {\n",
              "        vertical-align: top;\n",
              "    }\n",
              "\n",
              "    .dataframe thead th {\n",
              "        text-align: right;\n",
              "    }\n",
              "</style>\n",
              "<table border=\"1\" class=\"dataframe\">\n",
              "  <thead>\n",
              "    <tr style=\"text-align: right;\">\n",
              "      <th></th>\n",
              "      <th>estabelecimento</th>\n",
              "      <th>receita</th>\n",
              "      <th>custo</th>\n",
              "      <th>anomes</th>\n",
              "    </tr>\n",
              "  </thead>\n",
              "  <tbody>\n",
              "    <tr>\n",
              "      <th>0</th>\n",
              "      <td>McDonalds</td>\n",
              "      <td>5000</td>\n",
              "      <td>4000</td>\n",
              "      <td>201912</td>\n",
              "    </tr>\n",
              "    <tr>\n",
              "      <th>1</th>\n",
              "      <td>MCDonalds</td>\n",
              "      <td>5000</td>\n",
              "      <td>4000</td>\n",
              "      <td>201912</td>\n",
              "    </tr>\n",
              "    <tr>\n",
              "      <th>2</th>\n",
              "      <td>Teste</td>\n",
              "      <td>1000</td>\n",
              "      <td>10</td>\n",
              "      <td>202107</td>\n",
              "    </tr>\n",
              "    <tr>\n",
              "      <th>3</th>\n",
              "      <td>Wendys</td>\n",
              "      <td>6000</td>\n",
              "      <td>4500</td>\n",
              "      <td>202001</td>\n",
              "    </tr>\n",
              "    <tr>\n",
              "      <th>4</th>\n",
              "      <td>Patties</td>\n",
              "      <td>900</td>\n",
              "      <td>900</td>\n",
              "      <td>202001</td>\n",
              "    </tr>\n",
              "    <tr>\n",
              "      <th>5</th>\n",
              "      <td>Zebeleo</td>\n",
              "      <td>5</td>\n",
              "      <td>10000</td>\n",
              "      <td>202002</td>\n",
              "    </tr>\n",
              "    <tr>\n",
              "      <th>6</th>\n",
              "      <td>Koburger</td>\n",
              "      <td>3000</td>\n",
              "      <td>2500</td>\n",
              "      <td>202002</td>\n",
              "    </tr>\n",
              "  </tbody>\n",
              "</table>\n",
              "</div>"
            ],
            "text/plain": [
              "  estabelecimento  receita  custo  anomes\n",
              "0       McDonalds     5000   4000  201912\n",
              "1       MCDonalds     5000   4000  201912\n",
              "2           Teste     1000     10  202107\n",
              "3          Wendys     6000   4500  202001\n",
              "4         Patties      900    900  202001\n",
              "5         Zebeleo        5  10000  202002\n",
              "6        Koburger     3000   2500  202002"
            ]
          },
          "metadata": {
            "tags": []
          },
          "execution_count": 35
        }
      ]
    },
    {
      "cell_type": "markdown",
      "metadata": {
        "id": "gyi9VIiGNo5L"
      },
      "source": [
        "### Delete "
      ]
    },
    {
      "cell_type": "markdown",
      "metadata": {
        "id": "Sg0KUVSKNo5L"
      },
      "source": [
        "Podemos deletar uma linha do banco de dados"
      ]
    },
    {
      "cell_type": "code",
      "metadata": {
        "ExecuteTime": {
          "end_time": "2021-07-20T22:19:47.466192Z",
          "start_time": "2021-07-20T22:19:47.167675Z"
        },
        "id": "mRghKmzfNo5M"
      },
      "source": [
        "query = '''\n",
        "    DELETE \n",
        "    FROM empresas\n",
        "    WHERE estabelecimento = 'Bullguer'    \n",
        "'''\n",
        "\n",
        "cursor.execute(query)"
      ],
      "execution_count": null,
      "outputs": []
    },
    {
      "cell_type": "code",
      "metadata": {
        "ExecuteTime": {
          "end_time": "2021-07-20T22:19:56.086821Z",
          "start_time": "2021-07-20T22:19:55.334937Z"
        },
        "id": "-84gAxaPNo5M",
        "outputId": "005a6750-2984-4611-bbad-7e97fd5d2ae6"
      },
      "source": [
        "query = '''\n",
        "    SELECT * FROM empresas \n",
        "    \n",
        "'''\n",
        "\n",
        "pd.read_sql(query, con)"
      ],
      "execution_count": null,
      "outputs": [
        {
          "output_type": "execute_result",
          "data": {
            "text/html": [
              "<div>\n",
              "<style scoped>\n",
              "    .dataframe tbody tr th:only-of-type {\n",
              "        vertical-align: middle;\n",
              "    }\n",
              "\n",
              "    .dataframe tbody tr th {\n",
              "        vertical-align: top;\n",
              "    }\n",
              "\n",
              "    .dataframe thead th {\n",
              "        text-align: right;\n",
              "    }\n",
              "</style>\n",
              "<table border=\"1\" class=\"dataframe\">\n",
              "  <thead>\n",
              "    <tr style=\"text-align: right;\">\n",
              "      <th></th>\n",
              "      <th>estabelecimento</th>\n",
              "      <th>receita</th>\n",
              "      <th>custo</th>\n",
              "      <th>anomes</th>\n",
              "    </tr>\n",
              "  </thead>\n",
              "  <tbody>\n",
              "    <tr>\n",
              "      <th>0</th>\n",
              "      <td>McDonalds</td>\n",
              "      <td>5000</td>\n",
              "      <td>4000</td>\n",
              "      <td>201912</td>\n",
              "    </tr>\n",
              "    <tr>\n",
              "      <th>1</th>\n",
              "      <td>McDonalds</td>\n",
              "      <td>5000</td>\n",
              "      <td>4000</td>\n",
              "      <td>201912</td>\n",
              "    </tr>\n",
              "    <tr>\n",
              "      <th>2</th>\n",
              "      <td>Wendys</td>\n",
              "      <td>6000</td>\n",
              "      <td>4500</td>\n",
              "      <td>202001</td>\n",
              "    </tr>\n",
              "    <tr>\n",
              "      <th>3</th>\n",
              "      <td>Patties</td>\n",
              "      <td>900</td>\n",
              "      <td>900</td>\n",
              "      <td>202001</td>\n",
              "    </tr>\n",
              "    <tr>\n",
              "      <th>4</th>\n",
              "      <td>Zebeleo</td>\n",
              "      <td>5</td>\n",
              "      <td>10000</td>\n",
              "      <td>202002</td>\n",
              "    </tr>\n",
              "    <tr>\n",
              "      <th>5</th>\n",
              "      <td>Koburger</td>\n",
              "      <td>3000</td>\n",
              "      <td>2500</td>\n",
              "      <td>202002</td>\n",
              "    </tr>\n",
              "  </tbody>\n",
              "</table>\n",
              "</div>"
            ],
            "text/plain": [
              "  estabelecimento  receita  custo  anomes\n",
              "0       McDonalds     5000   4000  201912\n",
              "1       McDonalds     5000   4000  201912\n",
              "2          Wendys     6000   4500  202001\n",
              "3         Patties      900    900  202001\n",
              "4         Zebeleo        5  10000  202002\n",
              "5        Koburger     3000   2500  202002"
            ]
          },
          "metadata": {
            "tags": []
          },
          "execution_count": 17
        }
      ]
    },
    {
      "cell_type": "markdown",
      "metadata": {
        "id": "S66wR5zWNo5M"
      },
      "source": [
        "### Update"
      ]
    },
    {
      "cell_type": "markdown",
      "metadata": {
        "id": "cbN2vTkLNo5M"
      },
      "source": [
        "Podemos atualizar um valor da tabela"
      ]
    },
    {
      "cell_type": "code",
      "metadata": {
        "ExecuteTime": {
          "end_time": "2021-07-20T22:21:34.360808Z",
          "start_time": "2021-07-20T22:21:34.082487Z"
        },
        "id": "O1mNaUqvNo5M"
      },
      "source": [
        "query = '''\n",
        "    UPDATE empresas\n",
        "    SET estabelecimento = 'Hamburgueria'\n",
        "    WHERE estabelecimento = 'Patties'\n",
        "'''\n",
        "cursor.execute(query)"
      ],
      "execution_count": null,
      "outputs": []
    },
    {
      "cell_type": "code",
      "metadata": {
        "ExecuteTime": {
          "end_time": "2021-07-20T22:21:41.595200Z",
          "start_time": "2021-07-20T22:21:40.841089Z"
        },
        "id": "Sr_H-Y6FNo5M",
        "outputId": "749243d7-b563-4c41-c955-8391e780c9c6"
      },
      "source": [
        "query = '''\n",
        "    SELECT * FROM empresas     \n",
        "'''\n",
        "\n",
        "pd.read_sql(query, con)"
      ],
      "execution_count": null,
      "outputs": [
        {
          "output_type": "execute_result",
          "data": {
            "text/html": [
              "<div>\n",
              "<style scoped>\n",
              "    .dataframe tbody tr th:only-of-type {\n",
              "        vertical-align: middle;\n",
              "    }\n",
              "\n",
              "    .dataframe tbody tr th {\n",
              "        vertical-align: top;\n",
              "    }\n",
              "\n",
              "    .dataframe thead th {\n",
              "        text-align: right;\n",
              "    }\n",
              "</style>\n",
              "<table border=\"1\" class=\"dataframe\">\n",
              "  <thead>\n",
              "    <tr style=\"text-align: right;\">\n",
              "      <th></th>\n",
              "      <th>estabelecimento</th>\n",
              "      <th>receita</th>\n",
              "      <th>custo</th>\n",
              "      <th>anomes</th>\n",
              "    </tr>\n",
              "  </thead>\n",
              "  <tbody>\n",
              "    <tr>\n",
              "      <th>0</th>\n",
              "      <td>McDonalds</td>\n",
              "      <td>5000</td>\n",
              "      <td>4000</td>\n",
              "      <td>201912</td>\n",
              "    </tr>\n",
              "    <tr>\n",
              "      <th>1</th>\n",
              "      <td>McDonalds</td>\n",
              "      <td>5000</td>\n",
              "      <td>4000</td>\n",
              "      <td>201912</td>\n",
              "    </tr>\n",
              "    <tr>\n",
              "      <th>2</th>\n",
              "      <td>Wendys</td>\n",
              "      <td>6000</td>\n",
              "      <td>4500</td>\n",
              "      <td>202001</td>\n",
              "    </tr>\n",
              "    <tr>\n",
              "      <th>3</th>\n",
              "      <td>Hamburgueria</td>\n",
              "      <td>900</td>\n",
              "      <td>900</td>\n",
              "      <td>202001</td>\n",
              "    </tr>\n",
              "    <tr>\n",
              "      <th>4</th>\n",
              "      <td>Zebeleo</td>\n",
              "      <td>5</td>\n",
              "      <td>10000</td>\n",
              "      <td>202002</td>\n",
              "    </tr>\n",
              "    <tr>\n",
              "      <th>5</th>\n",
              "      <td>Koburger</td>\n",
              "      <td>3000</td>\n",
              "      <td>2500</td>\n",
              "      <td>202002</td>\n",
              "    </tr>\n",
              "  </tbody>\n",
              "</table>\n",
              "</div>"
            ],
            "text/plain": [
              "  estabelecimento  receita  custo  anomes\n",
              "0       McDonalds     5000   4000  201912\n",
              "1       McDonalds     5000   4000  201912\n",
              "2          Wendys     6000   4500  202001\n",
              "3    Hamburgueria      900    900  202001\n",
              "4         Zebeleo        5  10000  202002\n",
              "5        Koburger     3000   2500  202002"
            ]
          },
          "metadata": {
            "tags": []
          },
          "execution_count": 19
        }
      ]
    }
  ]
}